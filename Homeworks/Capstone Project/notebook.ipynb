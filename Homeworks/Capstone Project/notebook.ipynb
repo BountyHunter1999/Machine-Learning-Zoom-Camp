{
 "cells": [
  {
   "cell_type": "markdown",
   "metadata": {
    "id": "UKQaoh3hZcmr"
   },
   "source": [
    "# 0. Getting The Dataset From Kaggle"
   ]
  },
  {
   "cell_type": "code",
   "execution_count": 1,
   "metadata": {
    "id": "U1lwXP0DZyXC"
   },
   "outputs": [],
   "source": [
    "! pip install -q kaggle"
   ]
  },
  {
   "cell_type": "markdown",
   "metadata": {},
   "source": [
    "### For google collab"
   ]
  },
  {
   "cell_type": "code",
   "execution_count": 2,
   "metadata": {
    "id": "bqQ0aZxjYUlA"
   },
   "outputs": [],
   "source": [
    "# from google.colab import files\n",
    "# files.upload() # choose the kaggle.json file "
   ]
  },
  {
   "cell_type": "code",
   "execution_count": 3,
   "metadata": {
    "id": "dx-6ICgpZkhg"
   },
   "outputs": [
    {
     "name": "stdout",
     "output_type": "stream",
     "text": [
      "mkdir: cannot create directory ‘/home/mikeyy/.kaggle’: File exists\r\n"
     ]
    }
   ],
   "source": [
    "! mkdir ~/.kaggle"
   ]
  },
  {
   "cell_type": "markdown",
   "metadata": {
    "id": "jrlrE8PZZ8ra"
   },
   "source": [
    "**Make directory named kaggle and copy kaggle.json file there.**"
   ]
  },
  {
   "cell_type": "code",
   "execution_count": 4,
   "metadata": {
    "id": "8gPRFhhEZx9p"
   },
   "outputs": [],
   "source": [
    "! cp kaggle.json ~/.kaggle/"
   ]
  },
  {
   "cell_type": "markdown",
   "metadata": {
    "id": "zkEoaBZ8aBkw"
   },
   "source": [
    "**Change the permissions of the file.**"
   ]
  },
  {
   "cell_type": "code",
   "execution_count": 5,
   "metadata": {
    "id": "JU-UX5P8Z36e"
   },
   "outputs": [],
   "source": [
    "! chmod 600 ~/.kaggle/kaggle.json"
   ]
  },
  {
   "cell_type": "markdown",
   "metadata": {
    "id": "qS9w1s2laOon"
   },
   "source": [
    "**check if everything's okay**"
   ]
  },
  {
   "cell_type": "code",
   "execution_count": 6,
   "metadata": {
    "id": "3PiB3YGEaBFS"
   },
   "outputs": [],
   "source": [
    "#  ! kaggle datasets list"
   ]
  },
  {
   "cell_type": "code",
   "execution_count": 7,
   "metadata": {
    "id": "Ib7h_oS_aOFS"
   },
   "outputs": [],
   "source": [
    "# !kaggle datasets download -d jsphyg/weather-dataset-rattle-package"
   ]
  },
  {
   "cell_type": "code",
   "execution_count": 8,
   "metadata": {
    "id": "u-rF3TFQaaRg"
   },
   "outputs": [],
   "source": [
    "# !unzip weather-dataset-rattle-package.zip"
   ]
  },
  {
   "cell_type": "markdown",
   "metadata": {
    "id": "MPXJ4OScanKP"
   },
   "source": [
    "# First Glance Into The Data"
   ]
  },
  {
   "cell_type": "markdown",
   "metadata": {
    "id": "9cphcTiaat7R"
   },
   "source": [
    "## Necessary Imports"
   ]
  },
  {
   "cell_type": "code",
   "execution_count": 9,
   "metadata": {
    "id": "Mqd6rL7vaqZ2"
   },
   "outputs": [],
   "source": [
    "import numpy as np\n",
    "import pandas as pd\n",
    "import matplotlib.pyplot as plt\n",
    "import seaborn as sns\n",
    "%matplotlib inline "
   ]
  },
  {
   "cell_type": "markdown",
   "metadata": {},
   "source": [
    "why I Delete Date column?, well it is needed in our model after further analysis"
   ]
  },
  {
   "cell_type": "code",
   "execution_count": 10,
   "metadata": {
    "id": "gnrAkl8daydh"
   },
   "outputs": [],
   "source": [
    "# df = pd.read_csv('weatherAUS.csv', index_col=\"Date\", parse_dates=True)\n",
    "df = pd.read_csv('weatherAUS.csv')\n",
    "# df['Date'] = pd.to_datetime(df['Date'])\n",
    "# df = df.set_index('Date')\n",
    "# df.head()\n",
    "# df.columns = df.columns.str.lower()\n",
    "df = df.drop(\"Date\", axis=1)"
   ]
  },
  {
   "cell_type": "code",
   "execution_count": 11,
   "metadata": {
    "id": "jViTDGqNa3R3"
   },
   "outputs": [
    {
     "data": {
      "text/html": [
       "<div>\n",
       "<style scoped>\n",
       "    .dataframe tbody tr th:only-of-type {\n",
       "        vertical-align: middle;\n",
       "    }\n",
       "\n",
       "    .dataframe tbody tr th {\n",
       "        vertical-align: top;\n",
       "    }\n",
       "\n",
       "    .dataframe thead th {\n",
       "        text-align: right;\n",
       "    }\n",
       "</style>\n",
       "<table border=\"1\" class=\"dataframe\">\n",
       "  <thead>\n",
       "    <tr style=\"text-align: right;\">\n",
       "      <th></th>\n",
       "      <th>Location</th>\n",
       "      <th>MinTemp</th>\n",
       "      <th>MaxTemp</th>\n",
       "      <th>Rainfall</th>\n",
       "      <th>Evaporation</th>\n",
       "      <th>Sunshine</th>\n",
       "      <th>WindGustDir</th>\n",
       "      <th>WindGustSpeed</th>\n",
       "      <th>WindDir9am</th>\n",
       "      <th>WindDir3pm</th>\n",
       "      <th>...</th>\n",
       "      <th>Humidity9am</th>\n",
       "      <th>Humidity3pm</th>\n",
       "      <th>Pressure9am</th>\n",
       "      <th>Pressure3pm</th>\n",
       "      <th>Cloud9am</th>\n",
       "      <th>Cloud3pm</th>\n",
       "      <th>Temp9am</th>\n",
       "      <th>Temp3pm</th>\n",
       "      <th>RainToday</th>\n",
       "      <th>RainTomorrow</th>\n",
       "    </tr>\n",
       "  </thead>\n",
       "  <tbody>\n",
       "    <tr>\n",
       "      <th>0</th>\n",
       "      <td>Albury</td>\n",
       "      <td>13.4</td>\n",
       "      <td>22.9</td>\n",
       "      <td>0.6</td>\n",
       "      <td>NaN</td>\n",
       "      <td>NaN</td>\n",
       "      <td>W</td>\n",
       "      <td>44.0</td>\n",
       "      <td>W</td>\n",
       "      <td>WNW</td>\n",
       "      <td>...</td>\n",
       "      <td>71.0</td>\n",
       "      <td>22.0</td>\n",
       "      <td>1007.7</td>\n",
       "      <td>1007.1</td>\n",
       "      <td>8.0</td>\n",
       "      <td>NaN</td>\n",
       "      <td>16.9</td>\n",
       "      <td>21.8</td>\n",
       "      <td>No</td>\n",
       "      <td>No</td>\n",
       "    </tr>\n",
       "    <tr>\n",
       "      <th>1</th>\n",
       "      <td>Albury</td>\n",
       "      <td>7.4</td>\n",
       "      <td>25.1</td>\n",
       "      <td>0.0</td>\n",
       "      <td>NaN</td>\n",
       "      <td>NaN</td>\n",
       "      <td>WNW</td>\n",
       "      <td>44.0</td>\n",
       "      <td>NNW</td>\n",
       "      <td>WSW</td>\n",
       "      <td>...</td>\n",
       "      <td>44.0</td>\n",
       "      <td>25.0</td>\n",
       "      <td>1010.6</td>\n",
       "      <td>1007.8</td>\n",
       "      <td>NaN</td>\n",
       "      <td>NaN</td>\n",
       "      <td>17.2</td>\n",
       "      <td>24.3</td>\n",
       "      <td>No</td>\n",
       "      <td>No</td>\n",
       "    </tr>\n",
       "    <tr>\n",
       "      <th>2</th>\n",
       "      <td>Albury</td>\n",
       "      <td>12.9</td>\n",
       "      <td>25.7</td>\n",
       "      <td>0.0</td>\n",
       "      <td>NaN</td>\n",
       "      <td>NaN</td>\n",
       "      <td>WSW</td>\n",
       "      <td>46.0</td>\n",
       "      <td>W</td>\n",
       "      <td>WSW</td>\n",
       "      <td>...</td>\n",
       "      <td>38.0</td>\n",
       "      <td>30.0</td>\n",
       "      <td>1007.6</td>\n",
       "      <td>1008.7</td>\n",
       "      <td>NaN</td>\n",
       "      <td>2.0</td>\n",
       "      <td>21.0</td>\n",
       "      <td>23.2</td>\n",
       "      <td>No</td>\n",
       "      <td>No</td>\n",
       "    </tr>\n",
       "    <tr>\n",
       "      <th>3</th>\n",
       "      <td>Albury</td>\n",
       "      <td>9.2</td>\n",
       "      <td>28.0</td>\n",
       "      <td>0.0</td>\n",
       "      <td>NaN</td>\n",
       "      <td>NaN</td>\n",
       "      <td>NE</td>\n",
       "      <td>24.0</td>\n",
       "      <td>SE</td>\n",
       "      <td>E</td>\n",
       "      <td>...</td>\n",
       "      <td>45.0</td>\n",
       "      <td>16.0</td>\n",
       "      <td>1017.6</td>\n",
       "      <td>1012.8</td>\n",
       "      <td>NaN</td>\n",
       "      <td>NaN</td>\n",
       "      <td>18.1</td>\n",
       "      <td>26.5</td>\n",
       "      <td>No</td>\n",
       "      <td>No</td>\n",
       "    </tr>\n",
       "    <tr>\n",
       "      <th>4</th>\n",
       "      <td>Albury</td>\n",
       "      <td>17.5</td>\n",
       "      <td>32.3</td>\n",
       "      <td>1.0</td>\n",
       "      <td>NaN</td>\n",
       "      <td>NaN</td>\n",
       "      <td>W</td>\n",
       "      <td>41.0</td>\n",
       "      <td>ENE</td>\n",
       "      <td>NW</td>\n",
       "      <td>...</td>\n",
       "      <td>82.0</td>\n",
       "      <td>33.0</td>\n",
       "      <td>1010.8</td>\n",
       "      <td>1006.0</td>\n",
       "      <td>7.0</td>\n",
       "      <td>8.0</td>\n",
       "      <td>17.8</td>\n",
       "      <td>29.7</td>\n",
       "      <td>No</td>\n",
       "      <td>No</td>\n",
       "    </tr>\n",
       "  </tbody>\n",
       "</table>\n",
       "<p>5 rows × 22 columns</p>\n",
       "</div>"
      ],
      "text/plain": [
       "  Location  MinTemp  MaxTemp  Rainfall  Evaporation  Sunshine WindGustDir  \\\n",
       "0   Albury     13.4     22.9       0.6          NaN       NaN           W   \n",
       "1   Albury      7.4     25.1       0.0          NaN       NaN         WNW   \n",
       "2   Albury     12.9     25.7       0.0          NaN       NaN         WSW   \n",
       "3   Albury      9.2     28.0       0.0          NaN       NaN          NE   \n",
       "4   Albury     17.5     32.3       1.0          NaN       NaN           W   \n",
       "\n",
       "   WindGustSpeed WindDir9am WindDir3pm  ...  Humidity9am  Humidity3pm  \\\n",
       "0           44.0          W        WNW  ...         71.0         22.0   \n",
       "1           44.0        NNW        WSW  ...         44.0         25.0   \n",
       "2           46.0          W        WSW  ...         38.0         30.0   \n",
       "3           24.0         SE          E  ...         45.0         16.0   \n",
       "4           41.0        ENE         NW  ...         82.0         33.0   \n",
       "\n",
       "   Pressure9am  Pressure3pm  Cloud9am  Cloud3pm  Temp9am  Temp3pm  RainToday  \\\n",
       "0       1007.7       1007.1       8.0       NaN     16.9     21.8         No   \n",
       "1       1010.6       1007.8       NaN       NaN     17.2     24.3         No   \n",
       "2       1007.6       1008.7       NaN       2.0     21.0     23.2         No   \n",
       "3       1017.6       1012.8       NaN       NaN     18.1     26.5         No   \n",
       "4       1010.8       1006.0       7.0       8.0     17.8     29.7         No   \n",
       "\n",
       "   RainTomorrow  \n",
       "0            No  \n",
       "1            No  \n",
       "2            No  \n",
       "3            No  \n",
       "4            No  \n",
       "\n",
       "[5 rows x 22 columns]"
      ]
     },
     "execution_count": 11,
     "metadata": {},
     "output_type": "execute_result"
    }
   ],
   "source": [
    "df.head()"
   ]
  },
  {
   "cell_type": "code",
   "execution_count": 12,
   "metadata": {
    "id": "z7-KpxGNXv-Z"
   },
   "outputs": [
    {
     "data": {
      "text/plain": [
       "(0, 145459)"
      ]
     },
     "execution_count": 12,
     "metadata": {},
     "output_type": "execute_result"
    }
   ],
   "source": [
    "df.index.min(), df.index.max()"
   ]
  },
  {
   "cell_type": "markdown",
   "metadata": {
    "id": "IgPHMpAI_-qW"
   },
   "source": [
    "# EDA\n",
    "- Exploratory Data Analysis(EDA) is a technique used to analyze, visualize, investigate, interpret, discover and summarize data.\n",
    "- It helps Data Scientists to extract trends, patterns, and relationships in data.\n",
    "\n",
    "\n",
    "---\n",
    "\n",
    "\n",
    "* Check missing values\n",
    "* Look at the target variable (RainTomorrow)\n",
    "* Look at numerical and categorical variables"
   ]
  },
  {
   "cell_type": "code",
   "execution_count": 13,
   "metadata": {
    "id": "bQJCxuFtYx-I"
   },
   "outputs": [
    {
     "data": {
      "text/plain": [
       "(145460, 22)"
      ]
     },
     "execution_count": 13,
     "metadata": {},
     "output_type": "execute_result"
    }
   ],
   "source": [
    "df.shape"
   ]
  },
  {
   "cell_type": "code",
   "execution_count": 14,
   "metadata": {
    "id": "uAJHDfeJZN6W"
   },
   "outputs": [
    {
     "name": "stdout",
     "output_type": "stream",
     "text": [
      "<class 'pandas.core.frame.DataFrame'>\n",
      "RangeIndex: 145460 entries, 0 to 145459\n",
      "Data columns (total 22 columns):\n",
      " #   Column         Non-Null Count   Dtype  \n",
      "---  ------         --------------   -----  \n",
      " 0   Location       145460 non-null  object \n",
      " 1   MinTemp        143975 non-null  float64\n",
      " 2   MaxTemp        144199 non-null  float64\n",
      " 3   Rainfall       142199 non-null  float64\n",
      " 4   Evaporation    82670 non-null   float64\n",
      " 5   Sunshine       75625 non-null   float64\n",
      " 6   WindGustDir    135134 non-null  object \n",
      " 7   WindGustSpeed  135197 non-null  float64\n",
      " 8   WindDir9am     134894 non-null  object \n",
      " 9   WindDir3pm     141232 non-null  object \n",
      " 10  WindSpeed9am   143693 non-null  float64\n",
      " 11  WindSpeed3pm   142398 non-null  float64\n",
      " 12  Humidity9am    142806 non-null  float64\n",
      " 13  Humidity3pm    140953 non-null  float64\n",
      " 14  Pressure9am    130395 non-null  float64\n",
      " 15  Pressure3pm    130432 non-null  float64\n",
      " 16  Cloud9am       89572 non-null   float64\n",
      " 17  Cloud3pm       86102 non-null   float64\n",
      " 18  Temp9am        143693 non-null  float64\n",
      " 19  Temp3pm        141851 non-null  float64\n",
      " 20  RainToday      142199 non-null  object \n",
      " 21  RainTomorrow   142193 non-null  object \n",
      "dtypes: float64(16), object(6)\n",
      "memory usage: 24.4+ MB\n"
     ]
    }
   ],
   "source": [
    "df.info()\n",
    "# df.isna().sum() # to check the amount of null values"
   ]
  },
  {
   "cell_type": "markdown",
   "metadata": {
    "id": "TyahkfAPbduS"
   },
   "source": [
    "We can see that features with values that are less than 145460 contains NULL values that means except for  Date, Location columns, every column has missing values"
   ]
  },
  {
   "cell_type": "code",
   "execution_count": 15,
   "metadata": {
    "id": "0bIolqx6cWcI"
   },
   "outputs": [
    {
     "data": {
      "text/html": [
       "<div>\n",
       "<style scoped>\n",
       "    .dataframe tbody tr th:only-of-type {\n",
       "        vertical-align: middle;\n",
       "    }\n",
       "\n",
       "    .dataframe tbody tr th {\n",
       "        vertical-align: top;\n",
       "    }\n",
       "\n",
       "    .dataframe thead th {\n",
       "        text-align: right;\n",
       "    }\n",
       "</style>\n",
       "<table border=\"1\" class=\"dataframe\">\n",
       "  <thead>\n",
       "    <tr style=\"text-align: right;\">\n",
       "      <th></th>\n",
       "      <th>count</th>\n",
       "      <th>mean</th>\n",
       "      <th>std</th>\n",
       "      <th>min</th>\n",
       "      <th>25%</th>\n",
       "      <th>50%</th>\n",
       "      <th>75%</th>\n",
       "      <th>max</th>\n",
       "    </tr>\n",
       "  </thead>\n",
       "  <tbody>\n",
       "    <tr>\n",
       "      <th>MinTemp</th>\n",
       "      <td>143975.0</td>\n",
       "      <td>12.194034</td>\n",
       "      <td>6.398495</td>\n",
       "      <td>-8.5</td>\n",
       "      <td>7.6</td>\n",
       "      <td>12.0</td>\n",
       "      <td>16.9</td>\n",
       "      <td>33.9</td>\n",
       "    </tr>\n",
       "    <tr>\n",
       "      <th>MaxTemp</th>\n",
       "      <td>144199.0</td>\n",
       "      <td>23.221348</td>\n",
       "      <td>7.119049</td>\n",
       "      <td>-4.8</td>\n",
       "      <td>17.9</td>\n",
       "      <td>22.6</td>\n",
       "      <td>28.2</td>\n",
       "      <td>48.1</td>\n",
       "    </tr>\n",
       "    <tr>\n",
       "      <th>Rainfall</th>\n",
       "      <td>142199.0</td>\n",
       "      <td>2.360918</td>\n",
       "      <td>8.478060</td>\n",
       "      <td>0.0</td>\n",
       "      <td>0.0</td>\n",
       "      <td>0.0</td>\n",
       "      <td>0.8</td>\n",
       "      <td>371.0</td>\n",
       "    </tr>\n",
       "    <tr>\n",
       "      <th>Evaporation</th>\n",
       "      <td>82670.0</td>\n",
       "      <td>5.468232</td>\n",
       "      <td>4.193704</td>\n",
       "      <td>0.0</td>\n",
       "      <td>2.6</td>\n",
       "      <td>4.8</td>\n",
       "      <td>7.4</td>\n",
       "      <td>145.0</td>\n",
       "    </tr>\n",
       "    <tr>\n",
       "      <th>Sunshine</th>\n",
       "      <td>75625.0</td>\n",
       "      <td>7.611178</td>\n",
       "      <td>3.785483</td>\n",
       "      <td>0.0</td>\n",
       "      <td>4.8</td>\n",
       "      <td>8.4</td>\n",
       "      <td>10.6</td>\n",
       "      <td>14.5</td>\n",
       "    </tr>\n",
       "    <tr>\n",
       "      <th>WindGustSpeed</th>\n",
       "      <td>135197.0</td>\n",
       "      <td>40.035230</td>\n",
       "      <td>13.607062</td>\n",
       "      <td>6.0</td>\n",
       "      <td>31.0</td>\n",
       "      <td>39.0</td>\n",
       "      <td>48.0</td>\n",
       "      <td>135.0</td>\n",
       "    </tr>\n",
       "    <tr>\n",
       "      <th>WindSpeed9am</th>\n",
       "      <td>143693.0</td>\n",
       "      <td>14.043426</td>\n",
       "      <td>8.915375</td>\n",
       "      <td>0.0</td>\n",
       "      <td>7.0</td>\n",
       "      <td>13.0</td>\n",
       "      <td>19.0</td>\n",
       "      <td>130.0</td>\n",
       "    </tr>\n",
       "    <tr>\n",
       "      <th>WindSpeed3pm</th>\n",
       "      <td>142398.0</td>\n",
       "      <td>18.662657</td>\n",
       "      <td>8.809800</td>\n",
       "      <td>0.0</td>\n",
       "      <td>13.0</td>\n",
       "      <td>19.0</td>\n",
       "      <td>24.0</td>\n",
       "      <td>87.0</td>\n",
       "    </tr>\n",
       "    <tr>\n",
       "      <th>Humidity9am</th>\n",
       "      <td>142806.0</td>\n",
       "      <td>68.880831</td>\n",
       "      <td>19.029164</td>\n",
       "      <td>0.0</td>\n",
       "      <td>57.0</td>\n",
       "      <td>70.0</td>\n",
       "      <td>83.0</td>\n",
       "      <td>100.0</td>\n",
       "    </tr>\n",
       "    <tr>\n",
       "      <th>Humidity3pm</th>\n",
       "      <td>140953.0</td>\n",
       "      <td>51.539116</td>\n",
       "      <td>20.795902</td>\n",
       "      <td>0.0</td>\n",
       "      <td>37.0</td>\n",
       "      <td>52.0</td>\n",
       "      <td>66.0</td>\n",
       "      <td>100.0</td>\n",
       "    </tr>\n",
       "    <tr>\n",
       "      <th>Pressure9am</th>\n",
       "      <td>130395.0</td>\n",
       "      <td>1017.649940</td>\n",
       "      <td>7.106530</td>\n",
       "      <td>980.5</td>\n",
       "      <td>1012.9</td>\n",
       "      <td>1017.6</td>\n",
       "      <td>1022.4</td>\n",
       "      <td>1041.0</td>\n",
       "    </tr>\n",
       "    <tr>\n",
       "      <th>Pressure3pm</th>\n",
       "      <td>130432.0</td>\n",
       "      <td>1015.255889</td>\n",
       "      <td>7.037414</td>\n",
       "      <td>977.1</td>\n",
       "      <td>1010.4</td>\n",
       "      <td>1015.2</td>\n",
       "      <td>1020.0</td>\n",
       "      <td>1039.6</td>\n",
       "    </tr>\n",
       "    <tr>\n",
       "      <th>Cloud9am</th>\n",
       "      <td>89572.0</td>\n",
       "      <td>4.447461</td>\n",
       "      <td>2.887159</td>\n",
       "      <td>0.0</td>\n",
       "      <td>1.0</td>\n",
       "      <td>5.0</td>\n",
       "      <td>7.0</td>\n",
       "      <td>9.0</td>\n",
       "    </tr>\n",
       "    <tr>\n",
       "      <th>Cloud3pm</th>\n",
       "      <td>86102.0</td>\n",
       "      <td>4.509930</td>\n",
       "      <td>2.720357</td>\n",
       "      <td>0.0</td>\n",
       "      <td>2.0</td>\n",
       "      <td>5.0</td>\n",
       "      <td>7.0</td>\n",
       "      <td>9.0</td>\n",
       "    </tr>\n",
       "    <tr>\n",
       "      <th>Temp9am</th>\n",
       "      <td>143693.0</td>\n",
       "      <td>16.990631</td>\n",
       "      <td>6.488753</td>\n",
       "      <td>-7.2</td>\n",
       "      <td>12.3</td>\n",
       "      <td>16.7</td>\n",
       "      <td>21.6</td>\n",
       "      <td>40.2</td>\n",
       "    </tr>\n",
       "    <tr>\n",
       "      <th>Temp3pm</th>\n",
       "      <td>141851.0</td>\n",
       "      <td>21.683390</td>\n",
       "      <td>6.936650</td>\n",
       "      <td>-5.4</td>\n",
       "      <td>16.6</td>\n",
       "      <td>21.1</td>\n",
       "      <td>26.4</td>\n",
       "      <td>46.7</td>\n",
       "    </tr>\n",
       "  </tbody>\n",
       "</table>\n",
       "</div>"
      ],
      "text/plain": [
       "                  count         mean        std    min     25%     50%  \\\n",
       "MinTemp        143975.0    12.194034   6.398495   -8.5     7.6    12.0   \n",
       "MaxTemp        144199.0    23.221348   7.119049   -4.8    17.9    22.6   \n",
       "Rainfall       142199.0     2.360918   8.478060    0.0     0.0     0.0   \n",
       "Evaporation     82670.0     5.468232   4.193704    0.0     2.6     4.8   \n",
       "Sunshine        75625.0     7.611178   3.785483    0.0     4.8     8.4   \n",
       "WindGustSpeed  135197.0    40.035230  13.607062    6.0    31.0    39.0   \n",
       "WindSpeed9am   143693.0    14.043426   8.915375    0.0     7.0    13.0   \n",
       "WindSpeed3pm   142398.0    18.662657   8.809800    0.0    13.0    19.0   \n",
       "Humidity9am    142806.0    68.880831  19.029164    0.0    57.0    70.0   \n",
       "Humidity3pm    140953.0    51.539116  20.795902    0.0    37.0    52.0   \n",
       "Pressure9am    130395.0  1017.649940   7.106530  980.5  1012.9  1017.6   \n",
       "Pressure3pm    130432.0  1015.255889   7.037414  977.1  1010.4  1015.2   \n",
       "Cloud9am        89572.0     4.447461   2.887159    0.0     1.0     5.0   \n",
       "Cloud3pm        86102.0     4.509930   2.720357    0.0     2.0     5.0   \n",
       "Temp9am        143693.0    16.990631   6.488753   -7.2    12.3    16.7   \n",
       "Temp3pm        141851.0    21.683390   6.936650   -5.4    16.6    21.1   \n",
       "\n",
       "                  75%     max  \n",
       "MinTemp          16.9    33.9  \n",
       "MaxTemp          28.2    48.1  \n",
       "Rainfall          0.8   371.0  \n",
       "Evaporation       7.4   145.0  \n",
       "Sunshine         10.6    14.5  \n",
       "WindGustSpeed    48.0   135.0  \n",
       "WindSpeed9am     19.0   130.0  \n",
       "WindSpeed3pm     24.0    87.0  \n",
       "Humidity9am      83.0   100.0  \n",
       "Humidity3pm      66.0   100.0  \n",
       "Pressure9am    1022.4  1041.0  \n",
       "Pressure3pm    1020.0  1039.6  \n",
       "Cloud9am          7.0     9.0  \n",
       "Cloud3pm          7.0     9.0  \n",
       "Temp9am          21.6    40.2  \n",
       "Temp3pm          26.4    46.7  "
      ]
     },
     "execution_count": 15,
     "metadata": {},
     "output_type": "execute_result"
    }
   ],
   "source": [
    "df.describe(exclude=\"object\").T"
   ]
  },
  {
   "cell_type": "code",
   "execution_count": 16,
   "metadata": {
    "id": "0dELojHpeGPz"
   },
   "outputs": [
    {
     "data": {
      "text/html": [
       "<div>\n",
       "<style scoped>\n",
       "    .dataframe tbody tr th:only-of-type {\n",
       "        vertical-align: middle;\n",
       "    }\n",
       "\n",
       "    .dataframe tbody tr th {\n",
       "        vertical-align: top;\n",
       "    }\n",
       "\n",
       "    .dataframe thead th {\n",
       "        text-align: right;\n",
       "    }\n",
       "</style>\n",
       "<table border=\"1\" class=\"dataframe\">\n",
       "  <thead>\n",
       "    <tr style=\"text-align: right;\">\n",
       "      <th></th>\n",
       "      <th>Location</th>\n",
       "      <th>WindGustDir</th>\n",
       "      <th>WindDir9am</th>\n",
       "      <th>WindDir3pm</th>\n",
       "      <th>RainToday</th>\n",
       "      <th>RainTomorrow</th>\n",
       "    </tr>\n",
       "  </thead>\n",
       "  <tbody>\n",
       "    <tr>\n",
       "      <th>count</th>\n",
       "      <td>145460</td>\n",
       "      <td>135134</td>\n",
       "      <td>134894</td>\n",
       "      <td>141232</td>\n",
       "      <td>142199</td>\n",
       "      <td>142193</td>\n",
       "    </tr>\n",
       "    <tr>\n",
       "      <th>unique</th>\n",
       "      <td>49</td>\n",
       "      <td>16</td>\n",
       "      <td>16</td>\n",
       "      <td>16</td>\n",
       "      <td>2</td>\n",
       "      <td>2</td>\n",
       "    </tr>\n",
       "    <tr>\n",
       "      <th>top</th>\n",
       "      <td>Canberra</td>\n",
       "      <td>W</td>\n",
       "      <td>N</td>\n",
       "      <td>SE</td>\n",
       "      <td>No</td>\n",
       "      <td>No</td>\n",
       "    </tr>\n",
       "    <tr>\n",
       "      <th>freq</th>\n",
       "      <td>3436</td>\n",
       "      <td>9915</td>\n",
       "      <td>11758</td>\n",
       "      <td>10838</td>\n",
       "      <td>110319</td>\n",
       "      <td>110316</td>\n",
       "    </tr>\n",
       "  </tbody>\n",
       "</table>\n",
       "</div>"
      ],
      "text/plain": [
       "        Location WindGustDir WindDir9am WindDir3pm RainToday RainTomorrow\n",
       "count     145460      135134     134894     141232    142199       142193\n",
       "unique        49          16         16         16         2            2\n",
       "top     Canberra           W          N         SE        No           No\n",
       "freq        3436        9915      11758      10838    110319       110316"
      ]
     },
     "execution_count": 16,
     "metadata": {},
     "output_type": "execute_result"
    }
   ],
   "source": [
    "df.describe(include=\"object\")"
   ]
  },
  {
   "cell_type": "markdown",
   "metadata": {
    "id": "0xHOpmxmmFAj"
   },
   "source": [
    "**Categorical features**"
   ]
  },
  {
   "cell_type": "code",
   "execution_count": 17,
   "metadata": {
    "id": "JROPOaQnkyn2"
   },
   "outputs": [
    {
     "data": {
      "text/plain": [
       "['Location',\n",
       " 'WindGustDir',\n",
       " 'WindDir9am',\n",
       " 'WindDir3pm',\n",
       " 'RainToday',\n",
       " 'RainTomorrow']"
      ]
     },
     "execution_count": 17,
     "metadata": {},
     "output_type": "execute_result"
    }
   ],
   "source": [
    "cat_cols = list(df.dtypes[df.dtypes == \"object\"].index)\n",
    "cat_cols"
   ]
  },
  {
   "cell_type": "markdown",
   "metadata": {
    "id": "scwxclDjmOvu"
   },
   "source": [
    "**Numerical Features**"
   ]
  },
  {
   "cell_type": "code",
   "execution_count": 18,
   "metadata": {
    "id": "2WYZhPN8mJHT"
   },
   "outputs": [
    {
     "data": {
      "text/plain": [
       "['MinTemp',\n",
       " 'MaxTemp',\n",
       " 'Rainfall',\n",
       " 'Evaporation',\n",
       " 'Sunshine',\n",
       " 'WindGustSpeed',\n",
       " 'WindSpeed9am',\n",
       " 'WindSpeed3pm',\n",
       " 'Humidity9am',\n",
       " 'Humidity3pm',\n",
       " 'Pressure9am',\n",
       " 'Pressure3pm',\n",
       " 'Cloud9am',\n",
       " 'Cloud3pm',\n",
       " 'Temp9am',\n",
       " 'Temp3pm']"
      ]
     },
     "execution_count": 18,
     "metadata": {},
     "output_type": "execute_result"
    }
   ],
   "source": [
    "num_cols = list(df.dtypes[df.dtypes != \"object\"].index)\n",
    "num_cols"
   ]
  },
  {
   "cell_type": "code",
   "execution_count": 19,
   "metadata": {
    "id": "VfjzGu2xnjrL"
   },
   "outputs": [
    {
     "data": {
      "text/plain": [
       "array(['No', 'Yes', nan], dtype=object)"
      ]
     },
     "execution_count": 19,
     "metadata": {},
     "output_type": "execute_result"
    }
   ],
   "source": [
    "df['RainTomorrow'].unique()"
   ]
  },
  {
   "cell_type": "code",
   "execution_count": 20,
   "metadata": {
    "id": "Qx4pHeEmn9cx"
   },
   "outputs": [
    {
     "data": {
      "text/plain": [
       "3"
      ]
     },
     "execution_count": 20,
     "metadata": {},
     "output_type": "execute_result"
    }
   ],
   "source": [
    "len(df['RainTomorrow'].unique())"
   ]
  },
  {
   "cell_type": "markdown",
   "metadata": {
    "id": "Kh4jUpJBodPb"
   },
   "source": [
    "### Cardinality Check\n",
    "  **The number of unique values in each categorical feature is known as cardinality.**\n",
    "  > if we have a high cardinality data it will result in higher dimension when that feature is encoded so we must deal with that type of feature. Some ways are:\n",
    "  1. Feature Engineering\n",
    "  2. Drop the feature if it doesn't add value to the model "
   ]
  },
  {
   "cell_type": "code",
   "execution_count": 21,
   "metadata": {
    "id": "YM38EwoznOSO"
   },
   "outputs": [
    {
     "name": "stdout",
     "output_type": "stream",
     "text": [
      "cardinality of Location is 49\n",
      "cardinality of WindGustDir is 17\n",
      "cardinality of WindDir9am is 17\n",
      "cardinality of WindDir3pm is 17\n",
      "cardinality of RainToday is 3\n",
      "cardinality of RainTomorrow is 3\n"
     ]
    }
   ],
   "source": [
    "for feat in cat_cols:\n",
    "    unique_values = len(df[feat].unique())\n",
    "    print(f\"cardinality of {feat} is {unique_values}\")"
   ]
  },
  {
   "cell_type": "code",
   "execution_count": 22,
   "metadata": {
    "id": "MhSyZlVhtwPa"
   },
   "outputs": [
    {
     "data": {
      "text/plain": [
       "<AxesSubplot:>"
      ]
     },
     "execution_count": 22,
     "metadata": {},
     "output_type": "execute_result"
    },
    {
     "data": {
      "image/png": "[encoded data removed]",
      "text/plain": [
       "<Figure size 2160x720 with 1 Axes>"
      ]
     },
     "metadata": {
      "needs_background": "light"
     },
     "output_type": "display_data"
    }
   ],
   "source": [
    "null_values = df[num_cols].isnull().sum()\n",
    "plt.figure(figsize = (30,10))\n",
    "sns.barplot(x=num_cols,y= null_values)"
   ]
  },
  {
   "cell_type": "code",
   "execution_count": 23,
   "metadata": {
    "id": "cW2E1w8Yt2Gx"
   },
   "outputs": [
    {
     "data": {
      "text/plain": [
       "<AxesSubplot:>"
      ]
     },
     "execution_count": 23,
     "metadata": {},
     "output_type": "execute_result"
    },
    {
     "data": {
      "image/png": "[encoded data removed]",
      "text/plain": [
       "<Figure size 1152x360 with 1 Axes>"
      ]
     },
     "metadata": {
      "needs_background": "light"
     },
     "output_type": "display_data"
    }
   ],
   "source": [
    "null_values = df[cat_cols].isnull().sum()\n",
    "plt.figure(figsize = (16,5))\n",
    "sns.barplot(x=cat_cols,y= null_values)"
   ]
  },
  {
   "cell_type": "markdown",
   "metadata": {
    "id": "jLlU9mkGp3zW"
   },
   "source": [
    "## Dealing With The Missing Values\n",
    "1. We use mode value for the categorical features\n",
    "2. We use mean or median for the numerical features\n",
    "  > Mean are sensitive to outliers whereas median are not\n",
    "  - For mean we must deal with the outliers."
   ]
  },
  {
   "cell_type": "code",
   "execution_count": 24,
   "metadata": {
    "id": "9glnfUO0p3MX"
   },
   "outputs": [
    {
     "data": {
      "text/plain": [
       "Canberra    3436\n",
       "Sydney      3344\n",
       "Darwin      3193\n",
       "Hobart      3193\n",
       "Adelaide    3193\n",
       "Name: Location, dtype: int64"
      ]
     },
     "execution_count": 24,
     "metadata": {},
     "output_type": "execute_result"
    }
   ],
   "source": [
    "df['Location'].value_counts().head()"
   ]
  },
  {
   "cell_type": "code",
   "execution_count": 25,
   "metadata": {
    "id": "Wjvz_QRVp3ZR"
   },
   "outputs": [
    {
     "data": {
      "text/plain": [
       "'Canberra'"
      ]
     },
     "execution_count": 25,
     "metadata": {},
     "output_type": "execute_result"
    }
   ],
   "source": [
    "df['Location'].mode()[0]"
   ]
  },
  {
   "cell_type": "code",
   "execution_count": 26,
   "metadata": {
    "id": "FJJK5SUcrSxw"
   },
   "outputs": [],
   "source": [
    "data = df.copy()"
   ]
  },
  {
   "cell_type": "code",
   "execution_count": 27,
   "metadata": {
    "id": "sFHlJ7ciuc1z"
   },
   "outputs": [
    {
     "data": {
      "text/plain": [
       "(0, 0)"
      ]
     },
     "execution_count": 27,
     "metadata": {},
     "output_type": "execute_result"
    }
   ],
   "source": [
    "x = data['Location'].fillna(data['Location'].mode()[0])\n",
    "x.isna().sum(), data['Location'].isna().sum()"
   ]
  },
  {
   "cell_type": "code",
   "execution_count": 28,
   "metadata": {
    "id": "Iv9mfjR3vCsL"
   },
   "outputs": [],
   "source": [
    "# data.fillna?"
   ]
  },
  {
   "cell_type": "code",
   "execution_count": 29,
   "metadata": {
    "id": "VbSGzOPWt08_"
   },
   "outputs": [],
   "source": [
    "for col in cat_cols:\n",
    "    mode_val = data[col].mode()[0] \n",
    "    data[col].fillna(mode_val, inplace=True)"
   ]
  },
  {
   "cell_type": "code",
   "execution_count": 30,
   "metadata": {},
   "outputs": [
    {
     "data": {
      "text/plain": [
       "['Location', 'WindGustDir', 'WindDir9am', 'WindDir3pm', 'RainToday']"
      ]
     },
     "execution_count": 30,
     "metadata": {},
     "output_type": "execute_result"
    }
   ],
   "source": [
    "cat_cols.remove(\"RainTomorrow\")\n",
    "cat_cols"
   ]
  },
  {
   "cell_type": "code",
   "execution_count": 31,
   "metadata": {
    "id": "zDv39hfqvbFV"
   },
   "outputs": [
    {
     "data": {
      "text/plain": [
       "<AxesSubplot:>"
      ]
     },
     "execution_count": 31,
     "metadata": {},
     "output_type": "execute_result"
    },
    {
     "data": {
      "image/png": "[encoded data removed]",
      "text/plain": [
       "<Figure size 1152x360 with 1 Axes>"
      ]
     },
     "metadata": {
      "needs_background": "light"
     },
     "output_type": "display_data"
    }
   ],
   "source": [
    "null_values = data[cat_cols].isnull().sum()\n",
    "plt.figure(figsize = (16,5))\n",
    "sns.barplot(x=cat_cols,y= null_values)"
   ]
  },
  {
   "cell_type": "code",
   "execution_count": 32,
   "metadata": {
    "id": "PhHUGW12xwdT"
   },
   "outputs": [
    {
     "data": {
      "text/plain": [
       "(12.19403438096871, 12.0)"
      ]
     },
     "execution_count": 32,
     "metadata": {},
     "output_type": "execute_result"
    }
   ],
   "source": [
    "data[num_cols[0]].mean(), data[num_cols[0]].median()"
   ]
  },
  {
   "cell_type": "code",
   "execution_count": 33,
   "metadata": {
    "id": "KCA7nUs3zivH"
   },
   "outputs": [
    {
     "data": {
      "text/plain": [
       "<AxesSubplot:xlabel='MinTemp'>"
      ]
     },
     "execution_count": 33,
     "metadata": {},
     "output_type": "execute_result"
    },
    {
     "data": {
      "image/png": "[encoded data removed]",
      "text/plain": [
       "<Figure size 432x288 with 1 Axes>"
      ]
     },
     "metadata": {
      "needs_background": "light"
     },
     "output_type": "display_data"
    }
   ],
   "source": [
    "sns.boxplot(x=data[num_cols[0]])"
   ]
  },
  {
   "cell_type": "code",
   "execution_count": 34,
   "metadata": {
    "id": "x3XP1PDMxslw"
   },
   "outputs": [],
   "source": [
    "for col in num_cols:\n",
    "    mode_val = data[col].median()\n",
    "    data[col].fillna(mode_val, inplace=True)"
   ]
  },
  {
   "cell_type": "code",
   "execution_count": 35,
   "metadata": {
    "id": "3qZwkfFTziQD"
   },
   "outputs": [
    {
     "data": {
      "text/plain": [
       "<AxesSubplot:>"
      ]
     },
     "execution_count": 35,
     "metadata": {},
     "output_type": "execute_result"
    },
    {
     "data": {
      "image/png": "[encoded data removed]",
      "text/plain": [
       "<Figure size 1152x360 with 1 Axes>"
      ]
     },
     "metadata": {
      "needs_background": "light"
     },
     "output_type": "display_data"
    }
   ],
   "source": [
    "null_values = data[num_cols].isnull().sum()\n",
    "plt.figure(figsize = (16,5))\n",
    "sns.barplot(x=num_cols,y= null_values)"
   ]
  },
  {
   "cell_type": "markdown",
   "metadata": {
    "id": "Q5k9VR1E5vHv"
   },
   "source": [
    "## Looking at the Target Variable"
   ]
  },
  {
   "cell_type": "code",
   "execution_count": 36,
   "metadata": {
    "id": "Zd7ArhEV5KV_"
   },
   "outputs": [
    {
     "data": {
      "text/plain": [
       "<AxesSubplot:>"
      ]
     },
     "execution_count": 36,
     "metadata": {},
     "output_type": "execute_result"
    },
    {
     "data": {
      "image/png": "[encoded data removed]",
      "text/plain": [
       "<Figure size 432x288 with 1 Axes>"
      ]
     },
     "metadata": {
      "needs_background": "light"
     },
     "output_type": "display_data"
    }
   ],
   "source": [
    "data.RainTomorrow.value_counts().plot(kind='bar')"
   ]
  },
  {
   "cell_type": "code",
   "execution_count": 37,
   "metadata": {
    "id": "9I1tVLTa_FXK"
   },
   "outputs": [],
   "source": [
    "data['RainToday'].replace({'No':0, 'Yes': 1}, inplace = True)\n",
    "\n",
    "data['RainTomorrow'].replace({'No':0, 'Yes': 1}, inplace = True)"
   ]
  },
  {
   "cell_type": "code",
   "execution_count": 38,
   "metadata": {
    "id": "pbJYC0SQ_7aP"
   },
   "outputs": [],
   "source": [
    "from sklearn.model_selection import train_test_split\n",
    "\n",
    "data_full_train, data_test = train_test_split(data, test_size=0.2, random_state=1)\n",
    "data_train, data_val = train_test_split(data_full_train, test_size=0.25, random_state=1)"
   ]
  },
  {
   "cell_type": "code",
   "execution_count": 39,
   "metadata": {},
   "outputs": [],
   "source": [
    "data_full_train = data_full_train.reset_index(drop=True)\n",
    "data_train = data_train.reset_index(drop=True)\n",
    "data_val = data_val.reset_index(drop=True)\n",
    "data_test = data_test.reset_index(drop=True)"
   ]
  },
  {
   "cell_type": "code",
   "execution_count": 40,
   "metadata": {},
   "outputs": [
    {
     "data": {
      "text/plain": [
       "Index(['Location', 'MinTemp', 'MaxTemp', 'Rainfall', 'Evaporation', 'Sunshine',\n",
       "       'WindGustDir', 'WindGustSpeed', 'WindDir9am', 'WindDir3pm',\n",
       "       'WindSpeed9am', 'WindSpeed3pm', 'Humidity9am', 'Humidity3pm',\n",
       "       'Pressure9am', 'Pressure3pm', 'Cloud9am', 'Cloud3pm', 'Temp9am',\n",
       "       'Temp3pm', 'RainToday', 'RainTomorrow'],\n",
       "      dtype='object')"
      ]
     },
     "execution_count": 40,
     "metadata": {},
     "output_type": "execute_result"
    }
   ],
   "source": [
    "data_test.columns"
   ]
  },
  {
   "cell_type": "code",
   "execution_count": 41,
   "metadata": {
    "id": "Td_EwNl6_1bO"
   },
   "outputs": [],
   "source": [
    "y_train = data_train['RainTomorrow'] \n",
    "y_val = data_val['RainTomorrow'] \n",
    "y_test = data_test['RainTomorrow']\n",
    "\n",
    "del data_train['RainTomorrow']\n",
    "del data_val['RainTomorrow']\n",
    "del data_test['RainTomorrow']"
   ]
  },
  {
   "cell_type": "code",
   "execution_count": 42,
   "metadata": {},
   "outputs": [
    {
     "data": {
      "text/plain": [
       "0        0\n",
       "1        0\n",
       "2        0\n",
       "3        1\n",
       "4        0\n",
       "        ..\n",
       "87271    0\n",
       "87272    0\n",
       "87273    1\n",
       "87274    0\n",
       "87275    0\n",
       "Name: RainTomorrow, Length: 87276, dtype: int64"
      ]
     },
     "execution_count": 42,
     "metadata": {},
     "output_type": "execute_result"
    }
   ],
   "source": [
    "y_train"
   ]
  },
  {
   "cell_type": "code",
   "execution_count": 43,
   "metadata": {
    "id": "t7GwzbeX_V62"
   },
   "outputs": [],
   "source": [
    "from sklearn.feature_extraction import DictVectorizer"
   ]
  },
  {
   "cell_type": "code",
   "execution_count": 44,
   "metadata": {
    "id": "2-IiIsr6ASwF"
   },
   "outputs": [],
   "source": [
    "train_dicts = data_train.to_dict(orient='records')\n",
    "dv = DictVectorizer(sparse=False)\n",
    "X_train = dv.fit_transform(train_dicts)"
   ]
  },
  {
   "cell_type": "code",
   "execution_count": 45,
   "metadata": {
    "id": "zIFnRrDpASlB"
   },
   "outputs": [],
   "source": [
    "val_dicts = data_val.to_dict(orient=\"records\")\n",
    "X_val = dv.transform(val_dicts)"
   ]
  },
  {
   "cell_type": "code",
   "execution_count": 46,
   "metadata": {
    "id": "bFEjEk3mpYBb"
   },
   "outputs": [
    {
     "data": {
      "text/plain": [
       "<AxesSubplot:>"
      ]
     },
     "execution_count": 46,
     "metadata": {},
     "output_type": "execute_result"
    },
    {
     "data": {
      "image/png": "[encoded data removed]",
      "text/plain": [
       "<Figure size 1296x360 with 2 Axes>"
      ]
     },
     "metadata": {
      "needs_background": "light"
     },
     "output_type": "display_data"
    }
   ],
   "source": [
    "cor = data.corr()\n",
    "plt.figure(figsize=(18,5))\n",
    "sns.heatmap(cor, annot=True)"
   ]
  },
  {
   "cell_type": "markdown",
   "metadata": {
    "id": "TXl8anyX_bk7"
   },
   "source": [
    "# Feature Engineering"
   ]
  },
  {
   "cell_type": "code",
   "execution_count": 47,
   "metadata": {
    "id": "yAA7UL2weIYa"
   },
   "outputs": [],
   "source": [
    "from sklearn.metrics import roc_auc_score"
   ]
  },
  {
   "cell_type": "code",
   "execution_count": 48,
   "metadata": {
    "id": "uCXYMETheMWH"
   },
   "outputs": [
    {
     "name": "stdout",
     "output_type": "stream",
     "text": [
      "MinTemp 0.552\n",
      "MaxTemp 0.391\n",
      "Rainfall 0.692\n",
      "Evaporation 0.435\n",
      "Sunshine 0.303\n",
      "WindGustSpeed 0.639\n",
      "WindSpeed9am 0.554\n",
      "WindSpeed3pm 0.551\n",
      "Humidity9am 0.682\n",
      "Humidity3pm 0.791\n",
      "Pressure9am 0.348\n",
      "Pressure3pm 0.361\n",
      "Cloud9am 0.666\n",
      "Cloud3pm 0.696\n",
      "Temp9am 0.479\n",
      "Temp3pm 0.369\n"
     ]
    }
   ],
   "source": [
    "for num in num_cols:\n",
    "  print(num, round(roc_auc_score(data[\"RainTomorrow\"], data[num]),3))"
   ]
  },
  {
   "cell_type": "code",
   "execution_count": 49,
   "metadata": {
    "id": "sTx_QS0MPOB-"
   },
   "outputs": [
    {
     "data": {
      "text/plain": [
       "ExtraTreesRegressor()"
      ]
     },
     "execution_count": 49,
     "metadata": {},
     "output_type": "execute_result"
    }
   ],
   "source": [
    "from sklearn.ensemble import ExtraTreesRegressor\n",
    "etr_model = ExtraTreesRegressor()\n",
    "etr_model.fit(X_train,y_train)\n",
    "# etr_model.feature_importances_"
   ]
  },
  {
   "cell_type": "code",
   "execution_count": 50,
   "metadata": {
    "id": "eBFpNLwWQvc1"
   },
   "outputs": [
    {
     "data": {
      "image/png": "[encoded data removed]",
      "text/plain": [
       "<Figure size 432x288 with 1 Axes>"
      ]
     },
     "metadata": {
      "needs_background": "light"
     },
     "output_type": "display_data"
    }
   ],
   "source": [
    "feat_importances = pd.Series(etr_model.feature_importances_, index=dv.get_feature_names())\n",
    "feat_importances.nlargest(15).plot(kind='barh')\n",
    "plt.title(\"Top 15 important features\")\n",
    "plt.show()"
   ]
  },
  {
   "cell_type": "markdown",
   "metadata": {
    "id": "pqXIDWWU88Dv"
   },
   "source": [
    "## Feature Scaling\n",
    "* Feature Scaling is a technique used to scale, normalize, standardize data in range(0,1). \n",
    "* When each column of a dataset has distinct values, then it helps to scale data of each column to a common level. "
   ]
  },
  {
   "cell_type": "code",
   "execution_count": 51,
   "metadata": {
    "id": "WfJSafI887XA"
   },
   "outputs": [],
   "source": [
    "from sklearn.preprocessing import StandardScaler\n",
    "scaler = StandardScaler()\n",
    "X_train = scaler.fit_transform(X_train)"
   ]
  },
  {
   "cell_type": "code",
   "execution_count": 52,
   "metadata": {
    "id": "w94WqwXJ87SP"
   },
   "outputs": [],
   "source": [
    "X_val = scaler.transform(X_val)"
   ]
  },
  {
   "cell_type": "code",
   "execution_count": 53,
   "metadata": {
    "id": "ZegCHLui87Oh"
   },
   "outputs": [],
   "source": [
    "from sklearn.linear_model import LogisticRegression"
   ]
  },
  {
   "cell_type": "code",
   "execution_count": 54,
   "metadata": {},
   "outputs": [],
   "source": [
    "\n",
    "# Training\n",
    "def train(df_train, y_train, C=1.0):\n",
    "    dicts = df_train[cat_cols+ num_cols].to_dict(orient='records')\n",
    "\n",
    "    dv = DictVectorizer(sparse=False)\n",
    "    X_train = dv.fit_transform(dicts)\n",
    "\n",
    "    model = LogisticRegression(C=C, max_iter=1000)\n",
    "    model.fit(X_train, y_train)\n",
    "\n",
    "    return dv, model\n",
    "\n",
    "def predict(df, dv, model):\n",
    "    dicts = df[cat_cols+num_cols].to_dict(orient='records')\n",
    "\n",
    "    X = dv.transform(dicts)\n",
    "    y_pred = model.predict_proba(X)[:,1]\n",
    "\n",
    "    return y_pred"
   ]
  },
  {
   "cell_type": "code",
   "execution_count": 55,
   "metadata": {
    "id": "DK_vh0No-rhg"
   },
   "outputs": [
    {
     "data": {
      "text/plain": [
       "LogisticRegression(random_state=42)"
      ]
     },
     "execution_count": 55,
     "metadata": {},
     "output_type": "execute_result"
    }
   ],
   "source": [
    "model1 = LogisticRegression(solver='lbfgs', C=1.0, random_state=42)\n",
    "# solver='lbfgs' is the default solver in newer version of sklearn\n",
    "# for older versions, you need to specify it explicitly\n",
    "model1.fit(X_train, y_train)"
   ]
  },
  {
   "cell_type": "code",
   "execution_count": 56,
   "metadata": {
    "id": "wr4QhWz3-rak"
   },
   "outputs": [
    {
     "data": {
      "text/plain": [
       "array([0.02968134, 0.00761175, 0.07876674, ..., 0.15280887, 0.26384442,\n",
       "       0.16886306])"
      ]
     },
     "execution_count": 56,
     "metadata": {},
     "output_type": "execute_result"
    }
   ],
   "source": [
    "y_pred_proba = model1.predict_proba(X_val)[:,1]\n",
    "y_pred_proba"
   ]
  },
  {
   "cell_type": "code",
   "execution_count": 57,
   "metadata": {
    "id": "Jb19fBKgYTgB"
   },
   "outputs": [
    {
     "data": {
      "text/plain": [
       "0        0\n",
       "1        0\n",
       "2        0\n",
       "3        0\n",
       "4        0\n",
       "        ..\n",
       "29087    1\n",
       "29088    1\n",
       "29089    0\n",
       "29090    0\n",
       "29091    0\n",
       "Name: RainTomorrow, Length: 29092, dtype: int64"
      ]
     },
     "execution_count": 57,
     "metadata": {},
     "output_type": "execute_result"
    }
   ],
   "source": [
    "y_val"
   ]
  },
  {
   "cell_type": "code",
   "execution_count": 58,
   "metadata": {
    "id": "4Hx2SdN6YMgf"
   },
   "outputs": [],
   "source": [
    "y_pred = (y_pred_proba >= 0.5).astype(int)"
   ]
  },
  {
   "cell_type": "code",
   "execution_count": 59,
   "metadata": {
    "id": "j5fc55fyYfON"
   },
   "outputs": [
    {
     "data": {
      "text/plain": [
       "array([0, 0, 0, ..., 0, 0, 0])"
      ]
     },
     "execution_count": 59,
     "metadata": {},
     "output_type": "execute_result"
    }
   ],
   "source": [
    "y_pred"
   ]
  },
  {
   "cell_type": "code",
   "execution_count": 60,
   "metadata": {
    "id": "ArtlyrGO-rFF"
   },
   "outputs": [
    {
     "name": "stdout",
     "output_type": "stream",
     "text": [
      "Accuracy Score: 0.849752509280902\n"
     ]
    }
   ],
   "source": [
    "from sklearn.metrics import accuracy_score\n",
    "print(\"Accuracy Score: {}\".format(accuracy_score(y_val,y_pred)))"
   ]
  },
  {
   "cell_type": "code",
   "execution_count": 61,
   "metadata": {
    "id": "7EEUNmwF-_eZ"
   },
   "outputs": [
    {
     "data": {
      "text/plain": [
       "0.8483202713231587"
      ]
     },
     "execution_count": 61,
     "metadata": {},
     "output_type": "execute_result"
    }
   ],
   "source": [
    "model1.score(X_train, y_train)"
   ]
  },
  {
   "cell_type": "code",
   "execution_count": 62,
   "metadata": {
    "id": "YArkAVdBAWpE"
   },
   "outputs": [
    {
     "data": {
      "text/plain": [
       "0.849752509280902"
      ]
     },
     "execution_count": 62,
     "metadata": {},
     "output_type": "execute_result"
    }
   ],
   "source": [
    "model1.score(X_val, y_val)"
   ]
  },
  {
   "cell_type": "code",
   "execution_count": 63,
   "metadata": {},
   "outputs": [],
   "source": [
    "from sklearn.model_selection import KFold"
   ]
  },
  {
   "cell_type": "code",
   "execution_count": 64,
   "metadata": {},
   "outputs": [],
   "source": [
    "C=1.0\n",
    "kfold = KFold(n_splits=5, shuffle=True, random_state=1)"
   ]
  },
  {
   "cell_type": "code",
   "execution_count": 65,
   "metadata": {},
   "outputs": [
    {
     "data": {
      "text/plain": [
       "Index(['Location', 'MinTemp', 'MaxTemp', 'Rainfall', 'Evaporation', 'Sunshine',\n",
       "       'WindGustDir', 'WindGustSpeed', 'WindDir9am', 'WindDir3pm',\n",
       "       'WindSpeed9am', 'WindSpeed3pm', 'Humidity9am', 'Humidity3pm',\n",
       "       'Pressure9am', 'Pressure3pm', 'Cloud9am', 'Cloud3pm', 'Temp9am',\n",
       "       'Temp3pm', 'RainToday'],\n",
       "      dtype='object')"
      ]
     },
     "execution_count": 65,
     "metadata": {},
     "output_type": "execute_result"
    }
   ],
   "source": [
    "data_train.columns"
   ]
  },
  {
   "cell_type": "code",
   "execution_count": 66,
   "metadata": {},
   "outputs": [
    {
     "data": {
      "text/plain": [
       "((87276, 21), (87276,))"
      ]
     },
     "execution_count": 66,
     "metadata": {},
     "output_type": "execute_result"
    }
   ],
   "source": [
    "data_train.shape, y_train.shape"
   ]
  },
  {
   "cell_type": "code",
   "execution_count": 68,
   "metadata": {},
   "outputs": [
    {
     "data": {
      "text/plain": [
       "(116368, 22)"
      ]
     },
     "execution_count": 68,
     "metadata": {},
     "output_type": "execute_result"
    }
   ],
   "source": [
    "data_full_train.shape"
   ]
  },
  {
   "cell_type": "code",
   "execution_count": 71,
   "metadata": {},
   "outputs": [
    {
     "name": "stderr",
     "output_type": "stream",
     "text": [
      "/home/mikeyy/anaconda3/lib/python3.8/site-packages/sklearn/linear_model/_logistic.py:763: ConvergenceWarning: lbfgs failed to converge (status=1):\n",
      "STOP: TOTAL NO. of ITERATIONS REACHED LIMIT.\n",
      "\n",
      "Increase the number of iterations (max_iter) or scale the data as shown in:\n",
      "    https://scikit-learn.org/stable/modules/preprocessing.html\n",
      "Please also refer to the documentation for alternative solver options:\n",
      "    https://scikit-learn.org/stable/modules/linear_model.html#logistic-regression\n",
      "  n_iter_i = _check_optimize_result(\n"
     ]
    },
    {
     "name": "stdout",
     "output_type": "stream",
     "text": [
      "auc on fold 0 is 0.8619700639388997\n"
     ]
    },
    {
     "name": "stderr",
     "output_type": "stream",
     "text": [
      "/home/mikeyy/anaconda3/lib/python3.8/site-packages/sklearn/linear_model/_logistic.py:763: ConvergenceWarning: lbfgs failed to converge (status=1):\n",
      "STOP: TOTAL NO. of ITERATIONS REACHED LIMIT.\n",
      "\n",
      "Increase the number of iterations (max_iter) or scale the data as shown in:\n",
      "    https://scikit-learn.org/stable/modules/preprocessing.html\n",
      "Please also refer to the documentation for alternative solver options:\n",
      "    https://scikit-learn.org/stable/modules/linear_model.html#logistic-regression\n",
      "  n_iter_i = _check_optimize_result(\n"
     ]
    },
    {
     "name": "stdout",
     "output_type": "stream",
     "text": [
      "auc on fold 1 is 0.858321612712493\n"
     ]
    },
    {
     "name": "stderr",
     "output_type": "stream",
     "text": [
      "/home/mikeyy/anaconda3/lib/python3.8/site-packages/sklearn/linear_model/_logistic.py:763: ConvergenceWarning: lbfgs failed to converge (status=1):\n",
      "STOP: TOTAL NO. of ITERATIONS REACHED LIMIT.\n",
      "\n",
      "Increase the number of iterations (max_iter) or scale the data as shown in:\n",
      "    https://scikit-learn.org/stable/modules/preprocessing.html\n",
      "Please also refer to the documentation for alternative solver options:\n",
      "    https://scikit-learn.org/stable/modules/linear_model.html#logistic-regression\n",
      "  n_iter_i = _check_optimize_result(\n"
     ]
    },
    {
     "name": "stdout",
     "output_type": "stream",
     "text": [
      "auc on fold 2 is 0.8657379101774352\n"
     ]
    },
    {
     "name": "stderr",
     "output_type": "stream",
     "text": [
      "/home/mikeyy/anaconda3/lib/python3.8/site-packages/sklearn/linear_model/_logistic.py:763: ConvergenceWarning: lbfgs failed to converge (status=1):\n",
      "STOP: TOTAL NO. of ITERATIONS REACHED LIMIT.\n",
      "\n",
      "Increase the number of iterations (max_iter) or scale the data as shown in:\n",
      "    https://scikit-learn.org/stable/modules/preprocessing.html\n",
      "Please also refer to the documentation for alternative solver options:\n",
      "    https://scikit-learn.org/stable/modules/linear_model.html#logistic-regression\n",
      "  n_iter_i = _check_optimize_result(\n"
     ]
    },
    {
     "name": "stdout",
     "output_type": "stream",
     "text": [
      "auc on fold 3 is 0.8651564161575865\n"
     ]
    },
    {
     "name": "stderr",
     "output_type": "stream",
     "text": [
      "/home/mikeyy/anaconda3/lib/python3.8/site-packages/sklearn/linear_model/_logistic.py:763: ConvergenceWarning: lbfgs failed to converge (status=1):\n",
      "STOP: TOTAL NO. of ITERATIONS REACHED LIMIT.\n",
      "\n",
      "Increase the number of iterations (max_iter) or scale the data as shown in:\n",
      "    https://scikit-learn.org/stable/modules/preprocessing.html\n",
      "Please also refer to the documentation for alternative solver options:\n",
      "    https://scikit-learn.org/stable/modules/linear_model.html#logistic-regression\n",
      "  n_iter_i = _check_optimize_result(\n"
     ]
    },
    {
     "name": "stdout",
     "output_type": "stream",
     "text": [
      "auc on fold 4 is 0.8615175449731621\n",
      "validation results:\n",
      "C=1.0 0.863 +- 0.003\n"
     ]
    }
   ],
   "source": [
    "import warnings\n",
    "\n",
    "def kfold_eval(df_full_train):    \n",
    "    with warnings.catch_warnings():\n",
    "        warnings.simplefilter('ignore')\n",
    "        scores = []\n",
    "        fold= 0\n",
    "\n",
    "        for train_idx, val_idx in kfold.split(df_full_train):\n",
    "            df_train = df_full_train.iloc[train_idx]\n",
    "            df_val = df_full_train.iloc[val_idx]\n",
    "\n",
    "            y_train = df_train.RainTomorrow.values\n",
    "            y_val = df_val.RainTomorrow.values\n",
    "\n",
    "            dv, model = train(df_train, y_train, C=C)\n",
    "            y_pred = predict(df_val, dv, model)\n",
    "\n",
    "            auc = roc_auc_score(y_val, y_pred)\n",
    "            scores.append(auc)\n",
    "\n",
    "            print(f'auc on fold {fold} is {auc}')\n",
    "            fold = fold + 1\n",
    "\n",
    "\n",
    "        print('validation results:')\n",
    "        print('C=%s %.3f +- %.3f' % (C, np.mean(scores), np.std(scores)))\n",
    "\n",
    "kfold_eval(data_full_train)"
   ]
  },
  {
   "cell_type": "markdown",
   "metadata": {
    "id": "W7jJsoggBcsD"
   },
   "source": [
    "#### FOR OUR LOGITIC REGRESSION MODEL\n",
    "**The Accuracy Score are almost similar so there doesn't seem to be overfitting and underfitting**"
   ]
  },
  {
   "cell_type": "markdown",
   "metadata": {
    "id": "hRWUgQ6MlqMF"
   },
   "source": [
    "#### RandomForestRegressor"
   ]
  },
  {
   "cell_type": "code",
   "execution_count": 72,
   "metadata": {
    "id": "ZLP9a4sTe7ye"
   },
   "outputs": [],
   "source": [
    "from sklearn.metrics import mean_squared_error\n",
    "from sklearn.ensemble import RandomForestRegressor"
   ]
  },
  {
   "cell_type": "code",
   "execution_count": 73,
   "metadata": {
    "id": "iAC0xQIRdSEy"
   },
   "outputs": [
    {
     "data": {
      "text/plain": [
       "array([ 10,  20,  30,  40,  50,  60,  70,  80,  90, 100, 110, 120, 130,\n",
       "       140, 150, 160, 170, 180, 190, 200])"
      ]
     },
     "execution_count": 73,
     "metadata": {},
     "output_type": "execute_result"
    }
   ],
   "source": [
    "estimators = np.arange(10,210, step=10)\n",
    "estimators"
   ]
  },
  {
   "cell_type": "markdown",
   "metadata": {
    "id": "PmE7BD7coipq"
   },
   "source": [
    "**Creating the Best Model and evaluating it**"
   ]
  },
  {
   "cell_type": "code",
   "execution_count": 74,
   "metadata": {
    "id": "LqMWn-8ABcVw"
   },
   "outputs": [],
   "source": [
    "from sklearn import metrics "
   ]
  },
  {
   "cell_type": "code",
   "execution_count": 75,
   "metadata": {
    "id": "HFTU_tk3osO9"
   },
   "outputs": [],
   "source": [
    "def eval(y_val, y_pred):\n",
    "    pass"
   ]
  },
  {
   "cell_type": "code",
   "execution_count": 76,
   "metadata": {
    "id": "Nx1Jjlr1gtZ7"
   },
   "outputs": [],
   "source": [
    "actual_positive = (y_val == 1)\n",
    "actual_negative = (y_val == 0)"
   ]
  },
  {
   "cell_type": "code",
   "execution_count": 77,
   "metadata": {
    "id": "nfeAgcxZqtl3"
   },
   "outputs": [
    {
     "data": {
      "text/plain": [
       "array([0. , 0.1, 0.2, 0.3, 0.4, 0.5, 0.6, 0.7, 0.8, 0.9, 1. ])"
      ]
     },
     "execution_count": 77,
     "metadata": {},
     "output_type": "execute_result"
    }
   ],
   "source": [
    "thres = np.linspace(0,1,101)\n",
    "thres[::10]"
   ]
  },
  {
   "cell_type": "code",
   "execution_count": 90,
   "metadata": {},
   "outputs": [],
   "source": [
    "scores = []\n",
    "for t in thres:\n",
    "    pred_positive = (y_pred >= t)\n",
    "    pred_negative = (y_pred < t)\n",
    "\n",
    "    tp = (actual_positive & pred_positive).sum()\n",
    "    tn = (actual_negative & pred_negative).sum()\n",
    "\n",
    "    fp = (actual_negative & pred_positive).sum()\n",
    "    fn = (actual_positive & pred_negative).sum()\n",
    "    \n",
    "    scores.append([t, tp, fp, fn ,tn])   "
   ]
  },
  {
   "cell_type": "code",
   "execution_count": 91,
   "metadata": {
    "id": "Gy13QbYRgtOw"
   },
   "outputs": [],
   "source": [
    "columns = ['threshold', 'tp', 'fp', 'fn', 'tn']\n",
    "data_scores = pd.DataFrame(scores, columns=columns)\n",
    "\n",
    "data_scores['precision'] = data_scores.tp / (data_scores.tp + data_scores.fp)\n",
    "data_scores['recall'] = data_scores.tp / (data_scores.tp + data_scores.fn)\n",
    "\n",
    "data_scores['f1_score'] = 2 * (data_scores['precision'] * data_scores['recall']) /  (data_scores['precision'] + data_scores['recall']) \n",
    "\n",
    "data_scores['accuracy'] = (data_scores.tp + data_scores.tn) / (data_scores.tp + data_scores.tn + data_scores.fp + data_scores.fn)\n"
   ]
  },
  {
   "cell_type": "code",
   "execution_count": 92,
   "metadata": {},
   "outputs": [
    {
     "data": {
      "text/plain": [
       "<matplotlib.legend.Legend at 0x7fd17d88d0a0>"
      ]
     },
     "execution_count": 92,
     "metadata": {},
     "output_type": "execute_result"
    },
    {
     "data": {
      "image/png": "[encoded data removed]",
      "text/plain": [
       "<Figure size 432x288 with 1 Axes>"
      ]
     },
     "metadata": {
      "needs_background": "light"
     },
     "output_type": "display_data"
    }
   ],
   "source": [
    "\n",
    "plt.plot(data_scores.threshold, data_scores['precision'], label='precision')\n",
    "plt.plot(data_scores.threshold, data_scores['recall'], label='recall')\n",
    "plt.legend() # they intersect at 0.4 threshold"
   ]
  },
  {
   "cell_type": "code",
   "execution_count": 97,
   "metadata": {
    "id": "P4m11cVLgLJw"
   },
   "outputs": [
    {
     "data": {
      "text/html": [
       "<div>\n",
       "<style scoped>\n",
       "    .dataframe tbody tr th:only-of-type {\n",
       "        vertical-align: middle;\n",
       "    }\n",
       "\n",
       "    .dataframe tbody tr th {\n",
       "        vertical-align: top;\n",
       "    }\n",
       "\n",
       "    .dataframe thead th {\n",
       "        text-align: right;\n",
       "    }\n",
       "</style>\n",
       "<table border=\"1\" class=\"dataframe\">\n",
       "  <thead>\n",
       "    <tr style=\"text-align: right;\">\n",
       "      <th></th>\n",
       "      <th>threshold</th>\n",
       "      <th>tp</th>\n",
       "      <th>fp</th>\n",
       "      <th>fn</th>\n",
       "      <th>tn</th>\n",
       "      <th>precision</th>\n",
       "      <th>recall</th>\n",
       "      <th>f1_score</th>\n",
       "      <th>accuracy</th>\n",
       "    </tr>\n",
       "  </thead>\n",
       "  <tbody>\n",
       "    <tr>\n",
       "      <th>33</th>\n",
       "      <td>0.33</td>\n",
       "      <td>4463</td>\n",
       "      <td>2898</td>\n",
       "      <td>1890</td>\n",
       "      <td>19841</td>\n",
       "      <td>0.606303</td>\n",
       "      <td>0.702503</td>\n",
       "      <td>0.650868</td>\n",
       "      <td>0.835419</td>\n",
       "    </tr>\n",
       "    <tr>\n",
       "      <th>35</th>\n",
       "      <td>0.35</td>\n",
       "      <td>4292</td>\n",
       "      <td>2559</td>\n",
       "      <td>2061</td>\n",
       "      <td>20180</td>\n",
       "      <td>0.626478</td>\n",
       "      <td>0.675586</td>\n",
       "      <td>0.650106</td>\n",
       "      <td>0.841193</td>\n",
       "    </tr>\n",
       "    <tr>\n",
       "      <th>36</th>\n",
       "      <td>0.36</td>\n",
       "      <td>4292</td>\n",
       "      <td>2559</td>\n",
       "      <td>2061</td>\n",
       "      <td>20180</td>\n",
       "      <td>0.626478</td>\n",
       "      <td>0.675586</td>\n",
       "      <td>0.650106</td>\n",
       "      <td>0.841193</td>\n",
       "    </tr>\n",
       "    <tr>\n",
       "      <th>37</th>\n",
       "      <td>0.37</td>\n",
       "      <td>4208</td>\n",
       "      <td>2385</td>\n",
       "      <td>2145</td>\n",
       "      <td>20354</td>\n",
       "      <td>0.638253</td>\n",
       "      <td>0.662364</td>\n",
       "      <td>0.650085</td>\n",
       "      <td>0.844287</td>\n",
       "    </tr>\n",
       "    <tr>\n",
       "      <th>38</th>\n",
       "      <td>0.38</td>\n",
       "      <td>4126</td>\n",
       "      <td>2220</td>\n",
       "      <td>2227</td>\n",
       "      <td>20519</td>\n",
       "      <td>0.650173</td>\n",
       "      <td>0.649457</td>\n",
       "      <td>0.649815</td>\n",
       "      <td>0.847140</td>\n",
       "    </tr>\n",
       "  </tbody>\n",
       "</table>\n",
       "</div>"
      ],
      "text/plain": [
       "    threshold    tp    fp    fn     tn  precision    recall  f1_score  \\\n",
       "33       0.33  4463  2898  1890  19841   0.606303  0.702503  0.650868   \n",
       "35       0.35  4292  2559  2061  20180   0.626478  0.675586  0.650106   \n",
       "36       0.36  4292  2559  2061  20180   0.626478  0.675586  0.650106   \n",
       "37       0.37  4208  2385  2145  20354   0.638253  0.662364  0.650085   \n",
       "38       0.38  4126  2220  2227  20519   0.650173  0.649457  0.649815   \n",
       "\n",
       "    accuracy  \n",
       "33  0.835419  \n",
       "35  0.841193  \n",
       "36  0.841193  \n",
       "37  0.844287  \n",
       "38  0.847140  "
      ]
     },
     "execution_count": 97,
     "metadata": {},
     "output_type": "execute_result"
    }
   ],
   "source": [
    "data_scores.sort_values(['f1_score', 'accuracy'], ascending=False)[:5]"
   ]
  },
  {
   "cell_type": "markdown",
   "metadata": {},
   "source": [
    "TN FP <br>\n",
    "FN TP"
   ]
  },
  {
   "cell_type": "code",
   "execution_count": 98,
   "metadata": {
    "id": "knj62ih_rs_L"
   },
   "outputs": [
    {
     "data": {
      "text/plain": [
       "array([[19841,  2898],\n",
       "       [ 1890,  4463]])"
      ]
     },
     "execution_count": 98,
     "metadata": {},
     "output_type": "execute_result"
    }
   ],
   "source": [
    "y_pred = (y_pred >= 0.33).astype(int)\n",
    "cnf_matrix = metrics.confusion_matrix(y_val, y_pred)\n",
    "cnf_matrix"
   ]
  },
  {
   "cell_type": "markdown",
   "metadata": {},
   "source": [
    "### See if performance can be increased with cross validation\n",
    "=> Nop, the accuracy seems pretty similar to what we previously had so cross validation didn't have that much of the effort we're hoping for"
   ]
  },
  {
   "cell_type": "code",
   "execution_count": 99,
   "metadata": {},
   "outputs": [],
   "source": [
    "from sklearn.model_selection import cross_val_score"
   ]
  },
  {
   "cell_type": "code",
   "execution_count": null,
   "metadata": {},
   "outputs": [],
   "source": []
  },
  {
   "cell_type": "code",
   "execution_count": 100,
   "metadata": {},
   "outputs": [
    {
     "data": {
      "text/plain": [
       "((87276,), (87276, 114))"
      ]
     },
     "execution_count": 100,
     "metadata": {},
     "output_type": "execute_result"
    }
   ],
   "source": [
    "y_train.shape, X_train.shape"
   ]
  },
  {
   "cell_type": "code",
   "execution_count": 101,
   "metadata": {},
   "outputs": [
    {
     "name": "stdout",
     "output_type": "stream",
     "text": [
      "Cross Validation scores: [0.8439505  0.85081638 0.84772272 0.85007161 0.84714981]\n",
      "Average Cross Validation scores: 0.8479422062388527\n"
     ]
    }
   ],
   "source": [
    "scores = cross_val_score(model1, X_train, y_train, cv=5, scoring='accuracy')\n",
    "print(f\"Cross Validation scores: {scores}\")\n",
    "print(f\"Average Cross Validation scores: {scores.mean()}\")"
   ]
  },
  {
   "cell_type": "code",
   "execution_count": null,
   "metadata": {},
   "outputs": [],
   "source": []
  },
  {
   "cell_type": "markdown",
   "metadata": {},
   "source": [
    "# Let's see if Random Forrest Can Give us a better model "
   ]
  },
  {
   "cell_type": "code",
   "execution_count": 102,
   "metadata": {
    "id": "lyFe0vRXcP3F"
   },
   "outputs": [
    {
     "name": "stdout",
     "output_type": "stream",
     "text": [
      "for n_estimator=10 rmse=0.34007\n",
      "for n_estimator=20 rmse=0.33101\n",
      "for n_estimator=30 rmse=0.32781\n",
      "for n_estimator=40 rmse=0.32657\n",
      "for n_estimator=50 rmse=0.32568\n",
      "for n_estimator=60 rmse=0.32495\n",
      "for n_estimator=70 rmse=0.32451\n",
      "for n_estimator=80 rmse=0.32426\n",
      "for n_estimator=90 rmse=0.32402\n",
      "for n_estimator=100 rmse=0.32381\n",
      "for n_estimator=110 rmse=0.32358\n",
      "for n_estimator=120 rmse=0.32357\n",
      "for n_estimator=130 rmse=0.32339\n",
      "for n_estimator=140 rmse=0.32327\n",
      "for n_estimator=150 rmse=0.32322\n",
      "for n_estimator=160 rmse=0.3232\n",
      "for n_estimator=170 rmse=0.3232\n",
      "for n_estimator=180 rmse=0.3232\n",
      "for n_estimator=190 rmse=0.32319\n",
      "for n_estimator=200 rmse=0.3231\n"
     ]
    }
   ],
   "source": [
    "scores = []\n",
    "for n in estimators:\n",
    "    rf = RandomForestRegressor(n_estimators=n,\n",
    "                            n_jobs=-1,\n",
    "                            random_state=1)\n",
    "    rf.fit(X_train, y_train)\n",
    "\n",
    "    y_pred = rf.predict(X_val)\n",
    "    rmse = np.sqrt(mean_squared_error(y_val, y_pred)) # y_true, y_pred\n",
    "    print(f\"for n_estimator={n} rmse={round(rmse,5)}\")\n",
    "    scores.append((n, rmse))"
   ]
  },
  {
   "cell_type": "markdown",
   "metadata": {
    "id": "UeagZz4ertlD"
   },
   "source": [
    "BEST RANDOMFOREST REGRESSOR"
   ]
  },
  {
   "cell_type": "code",
   "execution_count": 103,
   "metadata": {
    "id": "_rRI3j9Zf95Z"
   },
   "outputs": [
    {
     "data": {
      "text/plain": [
       "[<matplotlib.lines.Line2D at 0x7fd17da51fa0>]"
      ]
     },
     "execution_count": 103,
     "metadata": {},
     "output_type": "execute_result"
    },
    {
     "data": {
      "image/png": "[encoded data removed]",
      "text/plain": [
       "<Figure size 432x288 with 1 Axes>"
      ]
     },
     "metadata": {
      "needs_background": "light"
     },
     "output_type": "display_data"
    }
   ],
   "source": [
    "df_scores = pd.DataFrame(scores, columns=['n_estimators', 'rmse'])\n",
    "plt.plot(df_scores.n_estimators, df_scores.rmse) #130 seems to be a sweet spot"
   ]
  },
  {
   "cell_type": "code",
   "execution_count": 104,
   "metadata": {
    "id": "GUrHf9oqrmdU"
   },
   "outputs": [],
   "source": [
    "rf = RandomForestRegressor(n_estimators=130,\n",
    "                        n_jobs=-1,\n",
    "                        random_state=1)\n",
    "rf.fit(X_train, y_train)\n",
    "\n",
    "y_pred = rf.predict(X_val)\n",
    "rmse = np.sqrt(mean_squared_error(y_val, y_pred)) # y_true, y_pred"
   ]
  },
  {
   "cell_type": "code",
   "execution_count": 105,
   "metadata": {
    "id": "6l2yR-GvrmSZ"
   },
   "outputs": [
    {
     "data": {
      "text/plain": [
       "array([[20230,  2509],\n",
       "       [ 2072,  4281]])"
      ]
     },
     "execution_count": 105,
     "metadata": {},
     "output_type": "execute_result"
    }
   ],
   "source": [
    "y_pred = (y_pred >= 0.36).astype(int)\n",
    "cnf_matrix = metrics.confusion_matrix(y_val, y_pred)\n",
    "cnf_matrix"
   ]
  },
  {
   "cell_type": "code",
   "execution_count": 107,
   "metadata": {},
   "outputs": [
    {
     "data": {
      "text/plain": [
       "0.7817579033358564"
      ]
     },
     "execution_count": 107,
     "metadata": {},
     "output_type": "execute_result"
    }
   ],
   "source": [
    "roc_auc_score(y_val, y_pred)"
   ]
  },
  {
   "cell_type": "code",
   "execution_count": 108,
   "metadata": {},
   "outputs": [],
   "source": [
    "scores = []\n",
    "for t in thres:\n",
    "    pred_positive = (y_pred >= t)\n",
    "    pred_negative = (y_pred < t)\n",
    "\n",
    "    tp = (actual_positive & pred_positive).sum()\n",
    "    tn = (actual_negative & pred_negative).sum()\n",
    "\n",
    "    fp = (actual_negative & pred_positive).sum()\n",
    "    fn = (actual_positive & pred_negative).sum()\n",
    "    \n",
    "    scores.append([t, tp, fp, fn ,tn])   "
   ]
  },
  {
   "cell_type": "code",
   "execution_count": 109,
   "metadata": {},
   "outputs": [],
   "source": [
    "columns = ['threshold', 'tp', 'fp', 'fn', 'tn']\n",
    "data_scores = pd.DataFrame(scores, columns=columns)\n",
    "\n",
    "data_scores['precision'] = data_scores.tp / (data_scores.tp + data_scores.fp)\n",
    "data_scores['recall'] = data_scores.tp / (data_scores.tp + data_scores.fn)\n",
    "\n",
    "data_scores['f1_score'] = 2 * (data_scores['precision'] * data_scores['recall']) /  (data_scores['precision'] + data_scores['recall']) \n",
    "\n",
    "data_scores['accuracy'] = (data_scores.tp + data_scores.tn) / (data_scores.tp + data_scores.tn + data_scores.fp + data_scores.fn)"
   ]
  },
  {
   "cell_type": "code",
   "execution_count": 110,
   "metadata": {},
   "outputs": [
    {
     "data": {
      "text/plain": [
       "<matplotlib.legend.Legend at 0x7fd179a47910>"
      ]
     },
     "execution_count": 110,
     "metadata": {},
     "output_type": "execute_result"
    },
    {
     "data": {
      "image/png": "[encoded data removed]",
      "text/plain": [
       "<Figure size 432x288 with 1 Axes>"
      ]
     },
     "metadata": {
      "needs_background": "light"
     },
     "output_type": "display_data"
    }
   ],
   "source": [
    "plt.plot(data_scores.threshold, data_scores['precision'], label='precision')\n",
    "plt.plot(data_scores.threshold, data_scores['recall'], label='recall')\n",
    "plt.legend() # they intersect at 0.4 threshold"
   ]
  },
  {
   "cell_type": "code",
   "execution_count": 111,
   "metadata": {},
   "outputs": [
    {
     "data": {
      "text/html": [
       "<div>\n",
       "<style scoped>\n",
       "    .dataframe tbody tr th:only-of-type {\n",
       "        vertical-align: middle;\n",
       "    }\n",
       "\n",
       "    .dataframe tbody tr th {\n",
       "        vertical-align: top;\n",
       "    }\n",
       "\n",
       "    .dataframe thead th {\n",
       "        text-align: right;\n",
       "    }\n",
       "</style>\n",
       "<table border=\"1\" class=\"dataframe\">\n",
       "  <thead>\n",
       "    <tr style=\"text-align: right;\">\n",
       "      <th></th>\n",
       "      <th>threshold</th>\n",
       "      <th>tp</th>\n",
       "      <th>fp</th>\n",
       "      <th>fn</th>\n",
       "      <th>tn</th>\n",
       "      <th>precision</th>\n",
       "      <th>recall</th>\n",
       "      <th>f1_score</th>\n",
       "      <th>accuracy</th>\n",
       "    </tr>\n",
       "  </thead>\n",
       "  <tbody>\n",
       "    <tr>\n",
       "      <th>1</th>\n",
       "      <td>0.01</td>\n",
       "      <td>4281</td>\n",
       "      <td>2509</td>\n",
       "      <td>2072</td>\n",
       "      <td>20230</td>\n",
       "      <td>0.630486</td>\n",
       "      <td>0.673855</td>\n",
       "      <td>0.651449</td>\n",
       "      <td>0.842534</td>\n",
       "    </tr>\n",
       "    <tr>\n",
       "      <th>2</th>\n",
       "      <td>0.02</td>\n",
       "      <td>4281</td>\n",
       "      <td>2509</td>\n",
       "      <td>2072</td>\n",
       "      <td>20230</td>\n",
       "      <td>0.630486</td>\n",
       "      <td>0.673855</td>\n",
       "      <td>0.651449</td>\n",
       "      <td>0.842534</td>\n",
       "    </tr>\n",
       "    <tr>\n",
       "      <th>3</th>\n",
       "      <td>0.03</td>\n",
       "      <td>4281</td>\n",
       "      <td>2509</td>\n",
       "      <td>2072</td>\n",
       "      <td>20230</td>\n",
       "      <td>0.630486</td>\n",
       "      <td>0.673855</td>\n",
       "      <td>0.651449</td>\n",
       "      <td>0.842534</td>\n",
       "    </tr>\n",
       "    <tr>\n",
       "      <th>4</th>\n",
       "      <td>0.04</td>\n",
       "      <td>4281</td>\n",
       "      <td>2509</td>\n",
       "      <td>2072</td>\n",
       "      <td>20230</td>\n",
       "      <td>0.630486</td>\n",
       "      <td>0.673855</td>\n",
       "      <td>0.651449</td>\n",
       "      <td>0.842534</td>\n",
       "    </tr>\n",
       "    <tr>\n",
       "      <th>5</th>\n",
       "      <td>0.05</td>\n",
       "      <td>4281</td>\n",
       "      <td>2509</td>\n",
       "      <td>2072</td>\n",
       "      <td>20230</td>\n",
       "      <td>0.630486</td>\n",
       "      <td>0.673855</td>\n",
       "      <td>0.651449</td>\n",
       "      <td>0.842534</td>\n",
       "    </tr>\n",
       "  </tbody>\n",
       "</table>\n",
       "</div>"
      ],
      "text/plain": [
       "   threshold    tp    fp    fn     tn  precision    recall  f1_score  accuracy\n",
       "1       0.01  4281  2509  2072  20230   0.630486  0.673855  0.651449  0.842534\n",
       "2       0.02  4281  2509  2072  20230   0.630486  0.673855  0.651449  0.842534\n",
       "3       0.03  4281  2509  2072  20230   0.630486  0.673855  0.651449  0.842534\n",
       "4       0.04  4281  2509  2072  20230   0.630486  0.673855  0.651449  0.842534\n",
       "5       0.05  4281  2509  2072  20230   0.630486  0.673855  0.651449  0.842534"
      ]
     },
     "execution_count": 111,
     "metadata": {},
     "output_type": "execute_result"
    }
   ],
   "source": [
    "data_scores.sort_values(['f1_score', 'accuracy'], ascending=False)[:5]"
   ]
  },
  {
   "cell_type": "markdown",
   "metadata": {},
   "source": [
    "# TESTING ON THE TEST DATA"
   ]
  },
  {
   "cell_type": "code",
   "execution_count": 112,
   "metadata": {},
   "outputs": [
    {
     "data": {
      "text/plain": [
       "[{'Location': 'Penrith',\n",
       "  'MinTemp': 16.6,\n",
       "  'MaxTemp': 30.5,\n",
       "  'Rainfall': 16.2,\n",
       "  'Evaporation': 4.8,\n",
       "  'Sunshine': 8.4,\n",
       "  'WindGustDir': 'NE',\n",
       "  'WindGustSpeed': 31.0,\n",
       "  'WindDir9am': 'E',\n",
       "  'WindDir3pm': 'NE',\n",
       "  'WindSpeed9am': 4.0,\n",
       "  'WindSpeed3pm': 20.0,\n",
       "  'Humidity9am': 73.0,\n",
       "  'Humidity3pm': 45.0,\n",
       "  'Pressure9am': 1017.6,\n",
       "  'Pressure3pm': 1015.2,\n",
       "  'Cloud9am': 5.0,\n",
       "  'Cloud3pm': 5.0,\n",
       "  'Temp9am': 20.3,\n",
       "  'Temp3pm': 29.4,\n",
       "  'RainToday': 1}]"
      ]
     },
     "execution_count": 112,
     "metadata": {},
     "output_type": "execute_result"
    }
   ],
   "source": [
    "test1 = data_test.head(1).to_dict(orient='records')\n",
    "test1"
   ]
  },
  {
   "cell_type": "code",
   "execution_count": 113,
   "metadata": {},
   "outputs": [
    {
     "data": {
      "text/plain": [
       "0"
      ]
     },
     "execution_count": 113,
     "metadata": {},
     "output_type": "execute_result"
    }
   ],
   "source": [
    "y_test[0]"
   ]
  },
  {
   "cell_type": "code",
   "execution_count": 114,
   "metadata": {},
   "outputs": [
    {
     "data": {
      "text/plain": [
       "array([[5.0000e+00, 5.0000e+00, 4.8000e+00, 4.5000e+01, 7.3000e+01,\n",
       "        0.0000e+00, 0.0000e+00, 0.0000e+00, 0.0000e+00, 0.0000e+00,\n",
       "        0.0000e+00, 0.0000e+00, 0.0000e+00, 0.0000e+00, 0.0000e+00,\n",
       "        0.0000e+00, 0.0000e+00, 0.0000e+00, 0.0000e+00, 0.0000e+00,\n",
       "        0.0000e+00, 0.0000e+00, 0.0000e+00, 0.0000e+00, 0.0000e+00,\n",
       "        0.0000e+00, 0.0000e+00, 0.0000e+00, 0.0000e+00, 0.0000e+00,\n",
       "        0.0000e+00, 0.0000e+00, 0.0000e+00, 0.0000e+00, 0.0000e+00,\n",
       "        1.0000e+00, 0.0000e+00, 0.0000e+00, 0.0000e+00, 0.0000e+00,\n",
       "        0.0000e+00, 0.0000e+00, 0.0000e+00, 0.0000e+00, 0.0000e+00,\n",
       "        0.0000e+00, 0.0000e+00, 0.0000e+00, 0.0000e+00, 0.0000e+00,\n",
       "        0.0000e+00, 0.0000e+00, 0.0000e+00, 0.0000e+00, 3.0500e+01,\n",
       "        1.6600e+01, 1.0152e+03, 1.0176e+03, 1.0000e+00, 1.6200e+01,\n",
       "        8.4000e+00, 2.9400e+01, 2.0300e+01, 0.0000e+00, 0.0000e+00,\n",
       "        0.0000e+00, 0.0000e+00, 1.0000e+00, 0.0000e+00, 0.0000e+00,\n",
       "        0.0000e+00, 0.0000e+00, 0.0000e+00, 0.0000e+00, 0.0000e+00,\n",
       "        0.0000e+00, 0.0000e+00, 0.0000e+00, 0.0000e+00, 1.0000e+00,\n",
       "        0.0000e+00, 0.0000e+00, 0.0000e+00, 0.0000e+00, 0.0000e+00,\n",
       "        0.0000e+00, 0.0000e+00, 0.0000e+00, 0.0000e+00, 0.0000e+00,\n",
       "        0.0000e+00, 0.0000e+00, 0.0000e+00, 0.0000e+00, 0.0000e+00,\n",
       "        0.0000e+00, 0.0000e+00, 0.0000e+00, 0.0000e+00, 1.0000e+00,\n",
       "        0.0000e+00, 0.0000e+00, 0.0000e+00, 0.0000e+00, 0.0000e+00,\n",
       "        0.0000e+00, 0.0000e+00, 0.0000e+00, 0.0000e+00, 0.0000e+00,\n",
       "        0.0000e+00, 3.1000e+01, 2.0000e+01, 4.0000e+00]])"
      ]
     },
     "execution_count": 114,
     "metadata": {},
     "output_type": "execute_result"
    }
   ],
   "source": [
    "test1 = dv.transform(test1)\n",
    "test1"
   ]
  },
  {
   "cell_type": "code",
   "execution_count": 115,
   "metadata": {},
   "outputs": [
    {
     "data": {
      "text/plain": [
       "0"
      ]
     },
     "execution_count": 115,
     "metadata": {},
     "output_type": "execute_result"
    }
   ],
   "source": [
    "test_pred_prob = model1.predict_proba(test1)[:,1]\n",
    "test_pred = (test_pred_prob >= 0.36).astype(int)\n",
    "test_pred[0]"
   ]
  },
  {
   "cell_type": "code",
   "execution_count": 116,
   "metadata": {},
   "outputs": [
    {
     "data": {
      "text/plain": [
       "0"
      ]
     },
     "execution_count": 116,
     "metadata": {},
     "output_type": "execute_result"
    }
   ],
   "source": [
    "y_test[0]"
   ]
  },
  {
   "cell_type": "code",
   "execution_count": 117,
   "metadata": {},
   "outputs": [
    {
     "data": {
      "text/plain": [
       "0"
      ]
     },
     "execution_count": 117,
     "metadata": {},
     "output_type": "execute_result"
    }
   ],
   "source": [
    "test_pred_prob = rf.predict(test1)\n",
    "test_pred = (test_pred_prob >= 0.36).astype(int)\n",
    "test_pred[0]"
   ]
  },
  {
   "cell_type": "code",
   "execution_count": null,
   "metadata": {},
   "outputs": [],
   "source": []
  },
  {
   "cell_type": "markdown",
   "metadata": {},
   "source": [
    "# Checking From The Docker Container "
   ]
  },
  {
   "cell_type": "code",
   "execution_count": 154,
   "metadata": {},
   "outputs": [
    {
     "ename": "TypeError",
     "evalue": "'(5, slice(None, None, None))' is an invalid key",
     "output_type": "error",
     "traceback": [
      "\u001b[0;31m---------------------------------------------------------------------------\u001b[0m",
      "\u001b[0;31mTypeError\u001b[0m                                 Traceback (most recent call last)",
      "\u001b[0;32m/tmp/ipykernel_26614/2447688749.py\u001b[0m in \u001b[0;36m<module>\u001b[0;34m\u001b[0m\n\u001b[0;32m----> 1\u001b[0;31m \u001b[0mtest_model_data\u001b[0m \u001b[0;34m=\u001b[0m \u001b[0mdata_test\u001b[0m\u001b[0;34m[\u001b[0m\u001b[0;36m5\u001b[0m\u001b[0;34m,\u001b[0m\u001b[0;34m:\u001b[0m\u001b[0;34m]\u001b[0m\u001b[0;34m\u001b[0m\u001b[0;34m\u001b[0m\u001b[0m\n\u001b[0m\u001b[1;32m      2\u001b[0m \u001b[0mtest_model_data\u001b[0m\u001b[0;34m,\u001b[0m \u001b[0mtype\u001b[0m\u001b[0;34m(\u001b[0m\u001b[0mtest_model_data\u001b[0m\u001b[0;34m)\u001b[0m\u001b[0;34m\u001b[0m\u001b[0;34m\u001b[0m\u001b[0m\n",
      "\u001b[0;32m~/anaconda3/lib/python3.8/site-packages/pandas/core/frame.py\u001b[0m in \u001b[0;36m__getitem__\u001b[0;34m(self, key)\u001b[0m\n\u001b[1;32m   3022\u001b[0m             \u001b[0;32mif\u001b[0m \u001b[0mself\u001b[0m\u001b[0;34m.\u001b[0m\u001b[0mcolumns\u001b[0m\u001b[0;34m.\u001b[0m\u001b[0mnlevels\u001b[0m \u001b[0;34m>\u001b[0m \u001b[0;36m1\u001b[0m\u001b[0;34m:\u001b[0m\u001b[0;34m\u001b[0m\u001b[0;34m\u001b[0m\u001b[0m\n\u001b[1;32m   3023\u001b[0m                 \u001b[0;32mreturn\u001b[0m \u001b[0mself\u001b[0m\u001b[0;34m.\u001b[0m\u001b[0m_getitem_multilevel\u001b[0m\u001b[0;34m(\u001b[0m\u001b[0mkey\u001b[0m\u001b[0;34m)\u001b[0m\u001b[0;34m\u001b[0m\u001b[0;34m\u001b[0m\u001b[0m\n\u001b[0;32m-> 3024\u001b[0;31m             \u001b[0mindexer\u001b[0m \u001b[0;34m=\u001b[0m \u001b[0mself\u001b[0m\u001b[0;34m.\u001b[0m\u001b[0mcolumns\u001b[0m\u001b[0;34m.\u001b[0m\u001b[0mget_loc\u001b[0m\u001b[0;34m(\u001b[0m\u001b[0mkey\u001b[0m\u001b[0;34m)\u001b[0m\u001b[0;34m\u001b[0m\u001b[0;34m\u001b[0m\u001b[0m\n\u001b[0m\u001b[1;32m   3025\u001b[0m             \u001b[0;32mif\u001b[0m \u001b[0mis_integer\u001b[0m\u001b[0;34m(\u001b[0m\u001b[0mindexer\u001b[0m\u001b[0;34m)\u001b[0m\u001b[0;34m:\u001b[0m\u001b[0;34m\u001b[0m\u001b[0;34m\u001b[0m\u001b[0m\n\u001b[1;32m   3026\u001b[0m                 \u001b[0mindexer\u001b[0m \u001b[0;34m=\u001b[0m \u001b[0;34m[\u001b[0m\u001b[0mindexer\u001b[0m\u001b[0;34m]\u001b[0m\u001b[0;34m\u001b[0m\u001b[0;34m\u001b[0m\u001b[0m\n",
      "\u001b[0;32m~/anaconda3/lib/python3.8/site-packages/pandas/core/indexes/base.py\u001b[0m in \u001b[0;36mget_loc\u001b[0;34m(self, key, method, tolerance)\u001b[0m\n\u001b[1;32m   3078\u001b[0m             \u001b[0mcasted_key\u001b[0m \u001b[0;34m=\u001b[0m \u001b[0mself\u001b[0m\u001b[0;34m.\u001b[0m\u001b[0m_maybe_cast_indexer\u001b[0m\u001b[0;34m(\u001b[0m\u001b[0mkey\u001b[0m\u001b[0;34m)\u001b[0m\u001b[0;34m\u001b[0m\u001b[0;34m\u001b[0m\u001b[0m\n\u001b[1;32m   3079\u001b[0m             \u001b[0;32mtry\u001b[0m\u001b[0;34m:\u001b[0m\u001b[0;34m\u001b[0m\u001b[0;34m\u001b[0m\u001b[0m\n\u001b[0;32m-> 3080\u001b[0;31m                 \u001b[0;32mreturn\u001b[0m \u001b[0mself\u001b[0m\u001b[0;34m.\u001b[0m\u001b[0m_engine\u001b[0m\u001b[0;34m.\u001b[0m\u001b[0mget_loc\u001b[0m\u001b[0;34m(\u001b[0m\u001b[0mcasted_key\u001b[0m\u001b[0;34m)\u001b[0m\u001b[0;34m\u001b[0m\u001b[0;34m\u001b[0m\u001b[0m\n\u001b[0m\u001b[1;32m   3081\u001b[0m             \u001b[0;32mexcept\u001b[0m \u001b[0mKeyError\u001b[0m \u001b[0;32mas\u001b[0m \u001b[0merr\u001b[0m\u001b[0;34m:\u001b[0m\u001b[0;34m\u001b[0m\u001b[0;34m\u001b[0m\u001b[0m\n\u001b[1;32m   3082\u001b[0m                 \u001b[0;32mraise\u001b[0m \u001b[0mKeyError\u001b[0m\u001b[0;34m(\u001b[0m\u001b[0mkey\u001b[0m\u001b[0;34m)\u001b[0m \u001b[0;32mfrom\u001b[0m \u001b[0merr\u001b[0m\u001b[0;34m\u001b[0m\u001b[0;34m\u001b[0m\u001b[0m\n",
      "\u001b[0;32mpandas/_libs/index.pyx\u001b[0m in \u001b[0;36mpandas._libs.index.IndexEngine.get_loc\u001b[0;34m()\u001b[0m\n",
      "\u001b[0;32mpandas/_libs/index.pyx\u001b[0m in \u001b[0;36mpandas._libs.index.IndexEngine.get_loc\u001b[0;34m()\u001b[0m\n",
      "\u001b[0;31mTypeError\u001b[0m: '(5, slice(None, None, None))' is an invalid key"
     ]
    }
   ],
   "source": [
    "test_model_data = data_test[5,:]\n",
    "test_model_data, type(test_model_data)"
   ]
  },
  {
   "cell_type": "code",
   "execution_count": 134,
   "metadata": {},
   "outputs": [
    {
     "ename": "AttributeError",
     "evalue": "'str' object has no attribute 'to_json'",
     "output_type": "error",
     "traceback": [
      "\u001b[0;31m---------------------------------------------------------------------------\u001b[0m",
      "\u001b[0;31mAttributeError\u001b[0m                            Traceback (most recent call last)",
      "\u001b[0;32m/tmp/ipykernel_26614/3878571621.py\u001b[0m in \u001b[0;36m<module>\u001b[0;34m\u001b[0m\n\u001b[0;32m----> 1\u001b[0;31m \u001b[0mtest_model_data\u001b[0m \u001b[0;34m=\u001b[0m \u001b[0mtest_model_data\u001b[0m\u001b[0;34m.\u001b[0m\u001b[0mto_json\u001b[0m\u001b[0;34m(\u001b[0m\u001b[0;34m)\u001b[0m\u001b[0;34m\u001b[0m\u001b[0;34m\u001b[0m\u001b[0m\n\u001b[0m\u001b[1;32m      2\u001b[0m \u001b[0mtest_model_data\u001b[0m\u001b[0;34m\u001b[0m\u001b[0;34m\u001b[0m\u001b[0m\n",
      "\u001b[0;31mAttributeError\u001b[0m: 'str' object has no attribute 'to_json'"
     ]
    }
   ],
   "source": [
    "test_model_data = test_model_data.to_json()\n",
    "test_model_data"
   ]
  },
  {
   "cell_type": "code",
   "execution_count": 135,
   "metadata": {},
   "outputs": [],
   "source": [
    "import requests"
   ]
  },
  {
   "cell_type": "code",
   "execution_count": 179,
   "metadata": {},
   "outputs": [],
   "source": [
    "url = \"http://192.168.100.124:9696/predict\""
   ]
  },
  {
   "cell_type": "code",
   "execution_count": 180,
   "metadata": {},
   "outputs": [
    {
     "data": {
      "text/plain": [
       "{'Location': 'Melbourne',\n",
       " 'MinTemp': 12.4,\n",
       " 'MaxTemp': 18.1,\n",
       " 'Rainfall': 0.0,\n",
       " 'Evaporation': 5.6,\n",
       " 'Sunshine': 1.9,\n",
       " 'WindGustDir': 'SW',\n",
       " 'WindGustSpeed': 35.0,\n",
       " 'WindDir9am': 'SE',\n",
       " 'WindDir3pm': 'SE',\n",
       " 'WindSpeed9am': 19.0,\n",
       " 'WindSpeed3pm': 15.0,\n",
       " 'Humidity9am': 55.0,\n",
       " 'Humidity3pm': 51.0,\n",
       " 'Pressure9am': 1013.6,\n",
       " 'Pressure3pm': 1010.7,\n",
       " 'Cloud9am': 5.0,\n",
       " 'Cloud3pm': 5.0,\n",
       " 'Temp9am': 14.2,\n",
       " 'Temp3pm': 16.9,\n",
       " 'RainToday': 0}"
      ]
     },
     "execution_count": 180,
     "metadata": {},
     "output_type": "execute_result"
    }
   ],
   "source": [
    "data = test_model.to_dict(orient='records')[0]\n",
    "# data = test_model_data.to_dict()\n",
    "data"
   ]
  },
  {
   "cell_type": "code",
   "execution_count": 181,
   "metadata": {},
   "outputs": [
    {
     "data": {
      "text/plain": [
       "{'rain': False, 'tommorow_rain_probability': 0.0}"
      ]
     },
     "execution_count": 181,
     "metadata": {},
     "output_type": "execute_result"
    }
   ],
   "source": [
    "requests.post(url, json=data).json()"
   ]
  },
  {
   "cell_type": "code",
   "execution_count": 182,
   "metadata": {},
   "outputs": [
    {
     "data": {
      "text/plain": [
       "b'<b>Send a post request to <i>/predict</i></b>'"
      ]
     },
     "execution_count": 182,
     "metadata": {},
     "output_type": "execute_result"
    }
   ],
   "source": [
    "requests.get(\"http://192.168.100.124:9696\").content"
   ]
  },
  {
   "cell_type": "code",
   "execution_count": 183,
   "metadata": {},
   "outputs": [
    {
     "data": {
      "text/plain": [
       "0"
      ]
     },
     "execution_count": 183,
     "metadata": {},
     "output_type": "execute_result"
    }
   ],
   "source": [
    "y_test.iloc[5]"
   ]
  },
  {
   "cell_type": "code",
   "execution_count": 184,
   "metadata": {},
   "outputs": [],
   "source": [
    "test_model_data = data_test.iloc[2]"
   ]
  },
  {
   "cell_type": "code",
   "execution_count": 185,
   "metadata": {},
   "outputs": [
    {
     "data": {
      "text/plain": [
       "1"
      ]
     },
     "execution_count": 185,
     "metadata": {},
     "output_type": "execute_result"
    }
   ],
   "source": [
    "y_test.iloc[2]"
   ]
  },
  {
   "cell_type": "code",
   "execution_count": 186,
   "metadata": {},
   "outputs": [
    {
     "data": {
      "text/plain": [
       "{'Location': 'Adelaide',\n",
       " 'MinTemp': 9.1,\n",
       " 'MaxTemp': 13.8,\n",
       " 'Rainfall': 0.0,\n",
       " 'Evaporation': 1.6,\n",
       " 'Sunshine': 8.4,\n",
       " 'WindGustDir': 'NE',\n",
       " 'WindGustSpeed': 43.0,\n",
       " 'WindDir9am': 'NNE',\n",
       " 'WindDir3pm': 'N',\n",
       " 'WindSpeed9am': 13.0,\n",
       " 'WindSpeed3pm': 13.0,\n",
       " 'Humidity9am': 56.0,\n",
       " 'Humidity3pm': 50.0,\n",
       " 'Pressure9am': 1017.9,\n",
       " 'Pressure3pm': 1012.3,\n",
       " 'Cloud9am': 5.0,\n",
       " 'Cloud3pm': 5.0,\n",
       " 'Temp9am': 10.6,\n",
       " 'Temp3pm': 13.6,\n",
       " 'RainToday': 0}"
      ]
     },
     "execution_count": 186,
     "metadata": {},
     "output_type": "execute_result"
    }
   ],
   "source": [
    "data = test_model_data.to_dict()\n",
    "data"
   ]
  },
  {
   "cell_type": "code",
   "execution_count": 261,
   "metadata": {},
   "outputs": [],
   "source": [
    "data = {'Location': 'Adelaide',\n",
    " 'MinTemp': 9.1,\n",
    " 'MaxTemp': 13.8,\n",
    " 'Rainfall': 0.0,\n",
    " 'Evaporation': 1.6,\n",
    " 'Sunshine': 8.4,\n",
    " 'WindGustDir': 'NE',\n",
    " 'WindGustSpeed': 43.0,\n",
    " 'WindDir9am': 'NNE',\n",
    " 'WindDir3pm': 'N',\n",
    " 'WindSpeed9am': 13.0,\n",
    " 'WindSpeed3pm': 13.0,\n",
    " 'Humidity9am': 56.0,\n",
    " 'Humidity3pm': 50.0,\n",
    " 'Pressure9am': 1017.9,\n",
    " 'Pressure3pm': 1012.3,\n",
    " 'Cloud9am': 5.0,\n",
    " 'Cloud3pm': 5.0,\n",
    " 'Temp9am': 10.6,\n",
    " 'Temp3pm': 13.6,\n",
    " 'RainToday': 1}"
   ]
  },
  {
   "cell_type": "code",
   "execution_count": 262,
   "metadata": {},
   "outputs": [
    {
     "data": {
      "text/plain": [
       "{'rain': True, 'tommorow_rain_probability': 0.371853}"
      ]
     },
     "execution_count": 262,
     "metadata": {},
     "output_type": "execute_result"
    }
   ],
   "source": [
    "requests.post(url, json=data).json()"
   ]
  },
  {
   "cell_type": "code",
   "execution_count": null,
   "metadata": {},
   "outputs": [],
   "source": []
  }
 ],
 "metadata": {
  "colab": {
   "name": "Capstone Project 1.ipynb",
   "provenance": []
  },
  "kernelspec": {
   "display_name": "Python 3 (ipykernel)",
   "language": "python",
   "name": "python3"
  },
  "language_info": {
   "codemirror_mode": {
    "name": "ipython",
    "version": 3
   },
   "file_extension": ".py",
   "mimetype": "text/x-python",
   "name": "python",
   "nbconvert_exporter": "python",
   "pygments_lexer": "ipython3",
   "version": "3.8.8"
  }
 },
 "nbformat": 4,
 "nbformat_minor": 1
}
