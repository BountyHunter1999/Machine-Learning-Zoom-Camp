{
  "nbformat": 4,
  "nbformat_minor": 0,
  "metadata": {
    "kernelspec": {
      "display_name": "Python 3",
      "language": "python",
      "name": "python3"
    },
    "language_info": {
      "codemirror_mode": {
        "name": "ipython",
        "version": 3
      },
      "file_extension": ".py",
      "mimetype": "text/x-python",
      "name": "python",
      "nbconvert_exporter": "python",
      "pygments_lexer": "ipython3",
      "version": "3.7.3"
    },
    "colab": {
      "name": "Homework #6.ipynb",
      "provenance": [],
      "include_colab_link": true
    }
  },
  "cells": [
    {
      "cell_type": "markdown",
      "metadata": {
        "id": "view-in-github",
        "colab_type": "text"
      },
      "source": [
        "<a href=\"https://colab.research.google.com/github/BountyHunter1999/Machine-Learning-Zoom-Camp/blob/main/Homeworks/Homework%20%236.ipynb\" target=\"_parent\"><img src=\"https://colab.research.google.com/assets/colab-badge.svg\" alt=\"Open In Colab\"/></a>"
      ]
    },
    {
      "cell_type": "markdown",
      "metadata": {
        "id": "WzuN4z4okjj0"
      },
      "source": [
        "## 6.10 Homework\n",
        "\n",
        "The goal of this homework is to create a tree-based regression model for prediction apartment prices (column `'price'`).\n",
        "\n",
        "In this homework we'll again use the New York City Airbnb Open Data dataset - the same one we used in homework 2 and 3.\n",
        "\n",
        "You can take it from [Kaggle](https://www.kaggle.com/dgomonov/new-york-city-airbnb-open-data?select=AB_NYC_2019.csv)\n",
        "or download from [here](https://raw.githubusercontent.com/alexeygrigorev/datasets/master/AB_NYC_2019.csv)\n",
        "if you don't want to sign up to Kaggle.\n",
        "\n",
        "Let's load the data:"
      ]
    },
    {
      "cell_type": "code",
      "metadata": {
        "id": "IsocOb4vkjj-"
      },
      "source": [
        "import pandas as pd\n",
        "import numpy as np\n",
        "\n",
        "import matplotlib.pyplot as plt\n",
        "import seaborn as sns\n",
        "\n",
        "%matplotlib inline"
      ],
      "execution_count": 1,
      "outputs": []
    },
    {
      "cell_type": "code",
      "metadata": {
        "colab": {
          "base_uri": "https://localhost:8080/"
        },
        "id": "2unUiOvblh65",
        "outputId": "3bf37104-3c99-40e6-c2e9-df79159ec2fe"
      },
      "source": [
        "!wget https://raw.githubusercontent.com/alexeygrigorev/datasets/master/AB_NYC_2019.csv"
      ],
      "execution_count": 3,
      "outputs": [
        {
          "output_type": "stream",
          "name": "stdout",
          "text": [
            "--2021-10-14 11:35:53--  https://raw.githubusercontent.com/alexeygrigorev/datasets/master/AB_NYC_2019.csv\n",
            "Resolving raw.githubusercontent.com (raw.githubusercontent.com)... 185.199.110.133, 185.199.111.133, 185.199.108.133, ...\n",
            "Connecting to raw.githubusercontent.com (raw.githubusercontent.com)|185.199.110.133|:443... connected.\n",
            "HTTP request sent, awaiting response... 200 OK\n",
            "Length: 7077973 (6.8M) [text/plain]\n",
            "Saving to: ‘AB_NYC_2019.csv’\n",
            "\n",
            "AB_NYC_2019.csv     100%[===================>]   6.75M  --.-KB/s    in 0.1s    \n",
            "\n",
            "2021-10-14 11:35:54 (61.7 MB/s) - ‘AB_NYC_2019.csv’ saved [7077973/7077973]\n",
            "\n"
          ]
        }
      ]
    },
    {
      "cell_type": "code",
      "metadata": {
        "id": "FxEOLoENkjkA"
      },
      "source": [
        "columns = [\n",
        "    'neighbourhood_group', 'room_type', 'latitude', 'longitude',\n",
        "    'minimum_nights', 'number_of_reviews','reviews_per_month',\n",
        "    'calculated_host_listings_count', 'availability_365',\n",
        "    'price'\n",
        "]\n",
        "\n",
        "df = pd.read_csv('AB_NYC_2019.csv', usecols=columns)\n",
        "df.reviews_per_month = df.reviews_per_month.fillna(0)"
      ],
      "execution_count": 4,
      "outputs": []
    },
    {
      "cell_type": "code",
      "metadata": {
        "colab": {
          "base_uri": "https://localhost:8080/",
          "height": 359
        },
        "id": "8-gdw7DtloOW",
        "outputId": "289dcd8e-0ad2-4a02-9372-4a1917698f57"
      },
      "source": [
        "df.head().T"
      ],
      "execution_count": 6,
      "outputs": [
        {
          "output_type": "execute_result",
          "data": {
            "text/html": [
              "<div>\n",
              "<style scoped>\n",
              "    .dataframe tbody tr th:only-of-type {\n",
              "        vertical-align: middle;\n",
              "    }\n",
              "\n",
              "    .dataframe tbody tr th {\n",
              "        vertical-align: top;\n",
              "    }\n",
              "\n",
              "    .dataframe thead th {\n",
              "        text-align: right;\n",
              "    }\n",
              "</style>\n",
              "<table border=\"1\" class=\"dataframe\">\n",
              "  <thead>\n",
              "    <tr style=\"text-align: right;\">\n",
              "      <th></th>\n",
              "      <th>0</th>\n",
              "      <th>1</th>\n",
              "      <th>2</th>\n",
              "      <th>3</th>\n",
              "      <th>4</th>\n",
              "    </tr>\n",
              "  </thead>\n",
              "  <tbody>\n",
              "    <tr>\n",
              "      <th>neighbourhood_group</th>\n",
              "      <td>Brooklyn</td>\n",
              "      <td>Manhattan</td>\n",
              "      <td>Manhattan</td>\n",
              "      <td>Brooklyn</td>\n",
              "      <td>Manhattan</td>\n",
              "    </tr>\n",
              "    <tr>\n",
              "      <th>latitude</th>\n",
              "      <td>40.6475</td>\n",
              "      <td>40.7536</td>\n",
              "      <td>40.809</td>\n",
              "      <td>40.6851</td>\n",
              "      <td>40.7985</td>\n",
              "    </tr>\n",
              "    <tr>\n",
              "      <th>longitude</th>\n",
              "      <td>-73.9724</td>\n",
              "      <td>-73.9838</td>\n",
              "      <td>-73.9419</td>\n",
              "      <td>-73.9598</td>\n",
              "      <td>-73.944</td>\n",
              "    </tr>\n",
              "    <tr>\n",
              "      <th>room_type</th>\n",
              "      <td>Private room</td>\n",
              "      <td>Entire home/apt</td>\n",
              "      <td>Private room</td>\n",
              "      <td>Entire home/apt</td>\n",
              "      <td>Entire home/apt</td>\n",
              "    </tr>\n",
              "    <tr>\n",
              "      <th>price</th>\n",
              "      <td>149</td>\n",
              "      <td>225</td>\n",
              "      <td>150</td>\n",
              "      <td>89</td>\n",
              "      <td>80</td>\n",
              "    </tr>\n",
              "    <tr>\n",
              "      <th>minimum_nights</th>\n",
              "      <td>1</td>\n",
              "      <td>1</td>\n",
              "      <td>3</td>\n",
              "      <td>1</td>\n",
              "      <td>10</td>\n",
              "    </tr>\n",
              "    <tr>\n",
              "      <th>number_of_reviews</th>\n",
              "      <td>9</td>\n",
              "      <td>45</td>\n",
              "      <td>0</td>\n",
              "      <td>270</td>\n",
              "      <td>9</td>\n",
              "    </tr>\n",
              "    <tr>\n",
              "      <th>reviews_per_month</th>\n",
              "      <td>0.21</td>\n",
              "      <td>0.38</td>\n",
              "      <td>0</td>\n",
              "      <td>4.64</td>\n",
              "      <td>0.1</td>\n",
              "    </tr>\n",
              "    <tr>\n",
              "      <th>calculated_host_listings_count</th>\n",
              "      <td>6</td>\n",
              "      <td>2</td>\n",
              "      <td>1</td>\n",
              "      <td>1</td>\n",
              "      <td>1</td>\n",
              "    </tr>\n",
              "    <tr>\n",
              "      <th>availability_365</th>\n",
              "      <td>365</td>\n",
              "      <td>355</td>\n",
              "      <td>365</td>\n",
              "      <td>194</td>\n",
              "      <td>0</td>\n",
              "    </tr>\n",
              "  </tbody>\n",
              "</table>\n",
              "</div>"
            ],
            "text/plain": [
              "                                           0  ...                4\n",
              "neighbourhood_group                 Brooklyn  ...        Manhattan\n",
              "latitude                             40.6475  ...          40.7985\n",
              "longitude                           -73.9724  ...          -73.944\n",
              "room_type                       Private room  ...  Entire home/apt\n",
              "price                                    149  ...               80\n",
              "minimum_nights                             1  ...               10\n",
              "number_of_reviews                          9  ...                9\n",
              "reviews_per_month                       0.21  ...              0.1\n",
              "calculated_host_listings_count             6  ...                1\n",
              "availability_365                         365  ...                0\n",
              "\n",
              "[10 rows x 5 columns]"
            ]
          },
          "metadata": {},
          "execution_count": 6
        }
      ]
    },
    {
      "cell_type": "markdown",
      "metadata": {
        "id": "URPv0d6ekjkA"
      },
      "source": [
        "* Apply the log tranform to `price`\n",
        "* Do train/validation/test split with 60%/20%/20% distribution. \n",
        "* Use the `train_test_split` function and set the `random_state` parameter to 1"
      ]
    },
    {
      "cell_type": "code",
      "metadata": {
        "id": "A8HRIYg8lgMM"
      },
      "source": [
        "df.price = np.log1p(df.price)"
      ],
      "execution_count": 8,
      "outputs": []
    },
    {
      "cell_type": "code",
      "metadata": {
        "id": "tet4UQOWkjkB"
      },
      "source": [
        "from sklearn.model_selection import train_test_split\n",
        "\n",
        "df_full_train, df_test = train_test_split(df, test_size=0.2, random_state=1)\n",
        "df_train, df_val = train_test_split(df_full_train, test_size=0.25, random_state=1)"
      ],
      "execution_count": 9,
      "outputs": []
    },
    {
      "cell_type": "code",
      "metadata": {
        "id": "o2YeVyoPmedN"
      },
      "source": [
        "df_train = df_train.reset_index(drop=True)\n",
        "df_val = df_val.reset_index(drop=True)\n",
        "df_test = df_test.reset_index(drop=True)"
      ],
      "execution_count": 10,
      "outputs": []
    },
    {
      "cell_type": "code",
      "metadata": {
        "id": "BpfmSVHrmiv1"
      },
      "source": [
        "y_train = df_train['price'] \n",
        "y_val = df_val['price'] \n",
        "y_test = df_test['price'] "
      ],
      "execution_count": 11,
      "outputs": []
    },
    {
      "cell_type": "code",
      "metadata": {
        "id": "EvwSpo_YmuhS"
      },
      "source": [
        "del df_train['price']\n",
        "del df_val['price']\n",
        "del df_test['price']"
      ],
      "execution_count": 12,
      "outputs": []
    },
    {
      "cell_type": "code",
      "metadata": {
        "colab": {
          "base_uri": "https://localhost:8080/",
          "height": 238
        },
        "id": "D8g3QEJqmzwi",
        "outputId": "fde045fc-338f-4232-daca-fad541e44900"
      },
      "source": [
        "df_train.head()"
      ],
      "execution_count": 13,
      "outputs": [
        {
          "output_type": "execute_result",
          "data": {
            "text/html": [
              "<div>\n",
              "<style scoped>\n",
              "    .dataframe tbody tr th:only-of-type {\n",
              "        vertical-align: middle;\n",
              "    }\n",
              "\n",
              "    .dataframe tbody tr th {\n",
              "        vertical-align: top;\n",
              "    }\n",
              "\n",
              "    .dataframe thead th {\n",
              "        text-align: right;\n",
              "    }\n",
              "</style>\n",
              "<table border=\"1\" class=\"dataframe\">\n",
              "  <thead>\n",
              "    <tr style=\"text-align: right;\">\n",
              "      <th></th>\n",
              "      <th>neighbourhood_group</th>\n",
              "      <th>latitude</th>\n",
              "      <th>longitude</th>\n",
              "      <th>room_type</th>\n",
              "      <th>minimum_nights</th>\n",
              "      <th>number_of_reviews</th>\n",
              "      <th>reviews_per_month</th>\n",
              "      <th>calculated_host_listings_count</th>\n",
              "      <th>availability_365</th>\n",
              "    </tr>\n",
              "  </thead>\n",
              "  <tbody>\n",
              "    <tr>\n",
              "      <th>0</th>\n",
              "      <td>Queens</td>\n",
              "      <td>40.76434</td>\n",
              "      <td>-73.92132</td>\n",
              "      <td>Entire home/apt</td>\n",
              "      <td>4</td>\n",
              "      <td>30</td>\n",
              "      <td>0.32</td>\n",
              "      <td>1</td>\n",
              "      <td>363</td>\n",
              "    </tr>\n",
              "    <tr>\n",
              "      <th>1</th>\n",
              "      <td>Brooklyn</td>\n",
              "      <td>40.73442</td>\n",
              "      <td>-73.95854</td>\n",
              "      <td>Private room</td>\n",
              "      <td>5</td>\n",
              "      <td>2</td>\n",
              "      <td>0.16</td>\n",
              "      <td>1</td>\n",
              "      <td>0</td>\n",
              "    </tr>\n",
              "    <tr>\n",
              "      <th>2</th>\n",
              "      <td>Brooklyn</td>\n",
              "      <td>40.66359</td>\n",
              "      <td>-73.99487</td>\n",
              "      <td>Entire home/apt</td>\n",
              "      <td>1</td>\n",
              "      <td>33</td>\n",
              "      <td>2.75</td>\n",
              "      <td>5</td>\n",
              "      <td>113</td>\n",
              "    </tr>\n",
              "    <tr>\n",
              "      <th>3</th>\n",
              "      <td>Brooklyn</td>\n",
              "      <td>40.63766</td>\n",
              "      <td>-74.02626</td>\n",
              "      <td>Private room</td>\n",
              "      <td>3</td>\n",
              "      <td>1</td>\n",
              "      <td>0.12</td>\n",
              "      <td>2</td>\n",
              "      <td>362</td>\n",
              "    </tr>\n",
              "    <tr>\n",
              "      <th>4</th>\n",
              "      <td>Brooklyn</td>\n",
              "      <td>40.65118</td>\n",
              "      <td>-74.00842</td>\n",
              "      <td>Private room</td>\n",
              "      <td>2</td>\n",
              "      <td>0</td>\n",
              "      <td>0.00</td>\n",
              "      <td>2</td>\n",
              "      <td>365</td>\n",
              "    </tr>\n",
              "  </tbody>\n",
              "</table>\n",
              "</div>"
            ],
            "text/plain": [
              "  neighbourhood_group  ...  availability_365\n",
              "0              Queens  ...               363\n",
              "1            Brooklyn  ...                 0\n",
              "2            Brooklyn  ...               113\n",
              "3            Brooklyn  ...               362\n",
              "4            Brooklyn  ...               365\n",
              "\n",
              "[5 rows x 9 columns]"
            ]
          },
          "metadata": {},
          "execution_count": 13
        }
      ]
    },
    {
      "cell_type": "markdown",
      "metadata": {
        "id": "7UXWWKQHkjkC"
      },
      "source": [
        "Now, use `DictVectorizer` to turn train and validation into matrices:"
      ]
    },
    {
      "cell_type": "code",
      "metadata": {
        "colab": {
          "base_uri": "https://localhost:8080/"
        },
        "id": "v4baopEBnNBf",
        "outputId": "4c4b97b1-740f-420b-cbd6-19cccd2c3663"
      },
      "source": [
        "df.isnull().sum()"
      ],
      "execution_count": 20,
      "outputs": [
        {
          "output_type": "execute_result",
          "data": {
            "text/plain": [
              "neighbourhood_group               0\n",
              "latitude                          0\n",
              "longitude                         0\n",
              "room_type                         0\n",
              "price                             0\n",
              "minimum_nights                    0\n",
              "number_of_reviews                 0\n",
              "reviews_per_month                 0\n",
              "calculated_host_listings_count    0\n",
              "availability_365                  0\n",
              "dtype: int64"
            ]
          },
          "metadata": {},
          "execution_count": 20
        }
      ]
    },
    {
      "cell_type": "code",
      "metadata": {
        "id": "7JQ_pTWRkjkE"
      },
      "source": [
        "from sklearn.feature_extraction import DictVectorizer\n",
        "\n",
        "train_dicts = df_train.to_dict(orient='records')\n",
        "dv = DictVectorizer(sparse=False)\n",
        "X_train = dv.fit_transform(train_dicts)"
      ],
      "execution_count": 21,
      "outputs": []
    },
    {
      "cell_type": "code",
      "metadata": {
        "id": "Q7zhHD7In-ge"
      },
      "source": [
        "val_dicts = df_val.to_dict(orient=\"records\")\n",
        "X_val = dv.transform(val_dicts)"
      ],
      "execution_count": 22,
      "outputs": []
    },
    {
      "cell_type": "markdown",
      "metadata": {
        "id": "BcSU0vcXkjkF"
      },
      "source": [
        "## Question 1\n",
        "\n",
        "Let's train a decision tree regressor to predict the price variable. \n",
        "\n",
        "* Train a model with `max_depth=1`"
      ]
    },
    {
      "cell_type": "code",
      "metadata": {
        "id": "aMgCqQrAkjkG"
      },
      "source": [
        "from sklearn.tree import DecisionTreeRegressor"
      ],
      "execution_count": 30,
      "outputs": []
    },
    {
      "cell_type": "code",
      "metadata": {
        "colab": {
          "base_uri": "https://localhost:8080/",
          "height": 282
        },
        "id": "TrCkSUdNooy_",
        "outputId": "f092b280-d034-4924-cfc5-cbe847d7b1d0"
      },
      "source": [
        "df_train.ntypes"
      ],
      "execution_count": 32,
      "outputs": [
        {
          "output_type": "error",
          "ename": "AttributeError",
          "evalue": "ignored",
          "traceback": [
            "\u001b[0;31m---------------------------------------------------------------------------\u001b[0m",
            "\u001b[0;31mAttributeError\u001b[0m                            Traceback (most recent call last)",
            "\u001b[0;32m<ipython-input-32-a454146aad60>\u001b[0m in \u001b[0;36m<module>\u001b[0;34m()\u001b[0m\n\u001b[0;32m----> 1\u001b[0;31m \u001b[0mdf_train\u001b[0m\u001b[0;34m.\u001b[0m\u001b[0mntypes\u001b[0m\u001b[0;34m\u001b[0m\u001b[0;34m\u001b[0m\u001b[0m\n\u001b[0m",
            "\u001b[0;32m/usr/local/lib/python3.7/dist-packages/pandas/core/generic.py\u001b[0m in \u001b[0;36m__getattr__\u001b[0;34m(self, name)\u001b[0m\n\u001b[1;32m   5139\u001b[0m             \u001b[0;32mif\u001b[0m \u001b[0mself\u001b[0m\u001b[0;34m.\u001b[0m\u001b[0m_info_axis\u001b[0m\u001b[0;34m.\u001b[0m\u001b[0m_can_hold_identifiers_and_holds_name\u001b[0m\u001b[0;34m(\u001b[0m\u001b[0mname\u001b[0m\u001b[0;34m)\u001b[0m\u001b[0;34m:\u001b[0m\u001b[0;34m\u001b[0m\u001b[0;34m\u001b[0m\u001b[0m\n\u001b[1;32m   5140\u001b[0m                 \u001b[0;32mreturn\u001b[0m \u001b[0mself\u001b[0m\u001b[0;34m[\u001b[0m\u001b[0mname\u001b[0m\u001b[0;34m]\u001b[0m\u001b[0;34m\u001b[0m\u001b[0;34m\u001b[0m\u001b[0m\n\u001b[0;32m-> 5141\u001b[0;31m             \u001b[0;32mreturn\u001b[0m \u001b[0mobject\u001b[0m\u001b[0;34m.\u001b[0m\u001b[0m__getattribute__\u001b[0m\u001b[0;34m(\u001b[0m\u001b[0mself\u001b[0m\u001b[0;34m,\u001b[0m \u001b[0mname\u001b[0m\u001b[0;34m)\u001b[0m\u001b[0;34m\u001b[0m\u001b[0;34m\u001b[0m\u001b[0m\n\u001b[0m\u001b[1;32m   5142\u001b[0m \u001b[0;34m\u001b[0m\u001b[0m\n\u001b[1;32m   5143\u001b[0m     \u001b[0;32mdef\u001b[0m \u001b[0m__setattr__\u001b[0m\u001b[0;34m(\u001b[0m\u001b[0mself\u001b[0m\u001b[0;34m,\u001b[0m \u001b[0mname\u001b[0m\u001b[0;34m:\u001b[0m \u001b[0mstr\u001b[0m\u001b[0;34m,\u001b[0m \u001b[0mvalue\u001b[0m\u001b[0;34m)\u001b[0m \u001b[0;34m->\u001b[0m \u001b[0;32mNone\u001b[0m\u001b[0;34m:\u001b[0m\u001b[0;34m\u001b[0m\u001b[0;34m\u001b[0m\u001b[0m\n",
            "\u001b[0;31mAttributeError\u001b[0m: 'DataFrame' object has no attribute 'ntypes'"
          ]
        }
      ]
    },
    {
      "cell_type": "code",
      "metadata": {
        "colab": {
          "base_uri": "https://localhost:8080/"
        },
        "id": "xZnNKi2XoQk2",
        "outputId": "f186b4c2-53c9-4d33-d7b1-3ac048f5b2fa"
      },
      "source": [
        "dt = DecisionTreeRegressor(max_depth=1)\n",
        "dt.fit(X_train, y_train)"
      ],
      "execution_count": 34,
      "outputs": [
        {
          "output_type": "execute_result",
          "data": {
            "text/plain": [
              "DecisionTreeRegressor(ccp_alpha=0.0, criterion='mse', max_depth=1,\n",
              "                      max_features=None, max_leaf_nodes=None,\n",
              "                      min_impurity_decrease=0.0, min_impurity_split=None,\n",
              "                      min_samples_leaf=1, min_samples_split=2,\n",
              "                      min_weight_fraction_leaf=0.0, presort='deprecated',\n",
              "                      random_state=None, splitter='best')"
            ]
          },
          "metadata": {},
          "execution_count": 34
        }
      ]
    },
    {
      "cell_type": "markdown",
      "metadata": {
        "id": "bLLpz43BkjkH"
      },
      "source": [
        "Which feature is used for splitting the data?\n",
        "\n",
        "* `room_type` : **THIS**\n",
        "* `neighbourhood_group`\n",
        "* `number_of_reviews`\n",
        "* `reviews_per_month`"
      ]
    },
    {
      "cell_type": "code",
      "metadata": {
        "colab": {
          "base_uri": "https://localhost:8080/"
        },
        "id": "C2by3ZZppIoB",
        "outputId": "ab22d361-ddfe-4752-96c3-3febaa97af96"
      },
      "source": [
        "dv.get_feature_names()"
      ],
      "execution_count": 36,
      "outputs": [
        {
          "output_type": "execute_result",
          "data": {
            "text/plain": [
              "['availability_365',\n",
              " 'calculated_host_listings_count',\n",
              " 'latitude',\n",
              " 'longitude',\n",
              " 'minimum_nights',\n",
              " 'neighbourhood_group=Bronx',\n",
              " 'neighbourhood_group=Brooklyn',\n",
              " 'neighbourhood_group=Manhattan',\n",
              " 'neighbourhood_group=Queens',\n",
              " 'neighbourhood_group=Staten Island',\n",
              " 'number_of_reviews',\n",
              " 'reviews_per_month',\n",
              " 'room_type=Entire home/apt',\n",
              " 'room_type=Private room',\n",
              " 'room_type=Shared room']"
            ]
          },
          "metadata": {},
          "execution_count": 36
        }
      ]
    },
    {
      "cell_type": "code",
      "metadata": {
        "id": "MD1UHrrvpaEs"
      },
      "source": [
        "from sklearn.tree import export_text"
      ],
      "execution_count": 38,
      "outputs": []
    },
    {
      "cell_type": "code",
      "metadata": {
        "colab": {
          "base_uri": "https://localhost:8080/"
        },
        "id": "r8wmjsr5pVhT",
        "outputId": "5b09db62-29a5-4889-ea51-948e1881e864"
      },
      "source": [
        "print(export_text(dt, feature_names=dv.get_feature_names()))"
      ],
      "execution_count": 39,
      "outputs": [
        {
          "output_type": "stream",
          "name": "stdout",
          "text": [
            "|--- room_type=Entire home/apt <= 0.50\n",
            "|   |--- value: [4.29]\n",
            "|--- room_type=Entire home/apt >  0.50\n",
            "|   |--- value: [5.15]\n",
            "\n"
          ]
        }
      ]
    },
    {
      "cell_type": "markdown",
      "metadata": {
        "id": "JuzHuOVFkjkI"
      },
      "source": [
        "## Question 2\n",
        "\n",
        "Train a random forest model with these parameters:\n",
        "\n",
        "* `n_estimators=10`\n",
        "* `random_state=1`\n",
        "* `n_jobs=-1`  (optional - to make training faster)"
      ]
    },
    {
      "cell_type": "code",
      "metadata": {
        "id": "fkCDYuZmkjkJ"
      },
      "source": [
        ""
      ],
      "execution_count": null,
      "outputs": []
    },
    {
      "cell_type": "markdown",
      "metadata": {
        "id": "EgcxaNj9kjkJ"
      },
      "source": [
        "What's the RMSE of this model on validation?\n",
        "\n",
        "* 0.059\n",
        "* 0.259\n",
        "* 0.459\n",
        "* 0.659"
      ]
    },
    {
      "cell_type": "markdown",
      "metadata": {
        "id": "IGDn4GMakjkK"
      },
      "source": [
        "## Question 3\n",
        "\n",
        "Now let's experiment with the `n_estimators` parameter\n",
        "\n",
        "* Try different values of this parameter from 10 to 200 with step 10\n",
        "* Set `random_state` to `1`\n",
        "* Evaluate the model on the validation dataset"
      ]
    },
    {
      "cell_type": "code",
      "metadata": {
        "id": "mSbyrrefkjkK"
      },
      "source": [
        ""
      ],
      "execution_count": null,
      "outputs": []
    },
    {
      "cell_type": "markdown",
      "metadata": {
        "id": "Z5GdtWMRkjkL"
      },
      "source": [
        "After which value of `n_estimators` does RMSE stop improving?\n",
        "\n",
        "- 10\n",
        "- 50\n",
        "- 70\n",
        "- 120"
      ]
    },
    {
      "cell_type": "markdown",
      "metadata": {
        "id": "XKjuPmF2kjkL"
      },
      "source": [
        "## Question 4\n",
        "\n",
        "Let's select the best `max_depth`:\n",
        "\n",
        "* Try different values of `max_depth`: `[10, 15, 20, 25]`\n",
        "* For each of these values, try different values of `n_estimators` from 10 till 200 (with step 10)\n",
        "* Fix the random seed: `random_state=1`"
      ]
    },
    {
      "cell_type": "code",
      "metadata": {
        "id": "OT5yl8OjkjkL"
      },
      "source": [
        ""
      ],
      "execution_count": null,
      "outputs": []
    },
    {
      "cell_type": "markdown",
      "metadata": {
        "id": "EdqPoqvDkjkL"
      },
      "source": [
        "What's the best `max_depth`:\n",
        "\n",
        "* 10\n",
        "* 15\n",
        "* 20\n",
        "* 25\n",
        "\n",
        "Bonus question (not graded):\n",
        "\n",
        "Will the answer be different if we change the seed for the model?"
      ]
    },
    {
      "cell_type": "markdown",
      "metadata": {
        "id": "yxdugFKekjkM"
      },
      "source": [
        "## Question 5\n",
        "\n",
        "We can extract feature importance information from tree-based models. \n",
        "\n",
        "At each step of the decision tree learning algorith, it finds the best split. \n",
        "When doint it, we can calculate \"gain\" - the reduction in impurity before and after the split. \n",
        "This gain is quite useful in understanding what are the imporatant features \n",
        "for tree-based models.\n",
        "\n",
        "In Scikit-Learn, tree-based models contain this information in the `feature_importances_` field. \n",
        "\n",
        "For this homework question, we'll find the most important feature:\n",
        "\n",
        "* Train the model with these parametes:\n",
        "    * `n_estimators=10`,\n",
        "    * `max_depth=20`,\n",
        "    * `random_state=1`,\n",
        "    * `n_jobs=-1` (optional)\n",
        "* Get the feature importance information from this model"
      ]
    },
    {
      "cell_type": "code",
      "metadata": {
        "id": "x378D1NQkjkN"
      },
      "source": [
        ""
      ],
      "execution_count": null,
      "outputs": []
    },
    {
      "cell_type": "markdown",
      "metadata": {
        "id": "m89uGSVkkjkN"
      },
      "source": [
        "What's the most important feature? \n",
        "\n",
        "* `neighbourhood_group=Manhattan`\n",
        "* `room_type=Entire home/apt`\t\n",
        "* `longitude`\n",
        "* `latitude`"
      ]
    },
    {
      "cell_type": "markdown",
      "metadata": {
        "id": "cSaxGDBjkjkO"
      },
      "source": [
        "## Question 6"
      ]
    },
    {
      "cell_type": "markdown",
      "metadata": {
        "id": "MKYRWIwakjkO"
      },
      "source": [
        "Now let's train an XGBoost model! For this question, we'll tune the `eta` parameter\n",
        "\n",
        "* Install XGBoost\n",
        "* Create DMatrix for train and validation\n",
        "* Create a watchlist\n",
        "* Train a model with these parameters for 100 rounds:\n",
        "\n",
        "```\n",
        "xgb_params = {\n",
        "    'eta': 0.3, \n",
        "    'max_depth': 6,\n",
        "    'min_child_weight': 1,\n",
        "    \n",
        "    'objective': 'reg:squarederror',\n",
        "    'nthread': 8,\n",
        "    \n",
        "    'seed': 1,\n",
        "    'verbosity': 1,\n",
        "}\n",
        "```"
      ]
    },
    {
      "cell_type": "code",
      "metadata": {
        "id": "6bc0XdNpkjkP"
      },
      "source": [
        ""
      ],
      "execution_count": null,
      "outputs": []
    },
    {
      "cell_type": "markdown",
      "metadata": {
        "id": "wAvtjf0qkjkP"
      },
      "source": [
        "Now change `eta` first to `0.1` and then to `0.01`"
      ]
    },
    {
      "cell_type": "code",
      "metadata": {
        "id": "COl9vS3DkjkP"
      },
      "source": [
        ""
      ],
      "execution_count": null,
      "outputs": []
    },
    {
      "cell_type": "markdown",
      "metadata": {
        "id": "JHZO8Wj9kjkP"
      },
      "source": [
        "What's the best eta?\n",
        "\n",
        "* 0.3\n",
        "* 0.1\n",
        "* 0.01"
      ]
    },
    {
      "cell_type": "markdown",
      "metadata": {
        "id": "kyBJCZc6kjkQ"
      },
      "source": [
        "## Submit the results\n",
        "\n",
        "\n",
        "Submit your results here: https://forms.gle/wQgFkYE6CtdDed4w8\n",
        "\n",
        "It's possible that your answers won't match exactly. If it's the case, select the closest one.\n",
        "\n",
        "\n",
        "## Deadline\n",
        "\n",
        "\n",
        "The deadline for submitting is 20 October 2021, 17:00 CET (Wednesday). After that, the form will be closed.\n",
        "\n"
      ]
    }
  ]
}