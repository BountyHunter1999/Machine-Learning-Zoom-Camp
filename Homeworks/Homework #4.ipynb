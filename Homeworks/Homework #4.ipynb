{
  "nbformat": 4,
  "nbformat_minor": 0,
  "metadata": {
    "kernelspec": {
      "display_name": "Python 3",
      "language": "python",
      "name": "python3"
    },
    "language_info": {
      "codemirror_mode": {
        "name": "ipython",
        "version": 3
      },
      "file_extension": ".py",
      "mimetype": "text/x-python",
      "name": "python",
      "nbconvert_exporter": "python",
      "pygments_lexer": "ipython3",
      "version": "3.6.9"
    },
    "colab": {
      "name": "homework-4-starter.ipynb",
      "provenance": [],
      "include_colab_link": true
    }
  },
  "cells": [
    {
      "cell_type": "markdown",
      "metadata": {
        "id": "view-in-github",
        "colab_type": "text"
      },
      "source": [
        "<a href=\"https://colab.research.google.com/github/BountyHunter1999/Machine-Learning-Zoom-Camp/blob/main/Homeworks/Homework%20%234.ipynb\" target=\"_parent\"><img src=\"https://colab.research.google.com/assets/colab-badge.svg\" alt=\"Open In Colab\"/></a>"
      ]
    },
    {
      "cell_type": "markdown",
      "metadata": {
        "id": "g8I496FyST8l"
      },
      "source": [
        "## Homework 4\n",
        "\n",
        "Use this notebook as a starter"
      ]
    },
    {
      "cell_type": "code",
      "metadata": {
        "id": "53FDzMRqST8y"
      },
      "source": [
        "import pandas as pd\n",
        "import numpy as np\n",
        "\n",
        "import matplotlib.pyplot as plt\n",
        "import seaborn as sns\n",
        "\n",
        "%matplotlib inline"
      ],
      "execution_count": 94,
      "outputs": []
    },
    {
      "cell_type": "markdown",
      "metadata": {
        "id": "AEgdpaIiST83"
      },
      "source": [
        "Data:\n",
        "\n",
        "- https://github.com/gastonstat/CreditScoring\n",
        "- Also available [here](https://raw.githubusercontent.com/alexeygrigorev/mlbookcamp-code/master/chapter-06-trees/CreditScoring.csv)"
      ]
    },
    {
      "cell_type": "code",
      "metadata": {
        "scrolled": true,
        "id": "sQxgHYSZST85",
        "colab": {
          "base_uri": "https://localhost:8080/"
        },
        "outputId": "aead01e0-4254-4b34-e205-bc0030aa7004"
      },
      "source": [
        "!wget https://raw.githubusercontent.com/alexeygrigorev/mlbookcamp-code/master/chapter-06-trees/CreditScoring.csv"
      ],
      "execution_count": 95,
      "outputs": [
        {
          "output_type": "stream",
          "name": "stdout",
          "text": [
            "--2021-10-03 13:09:43--  https://raw.githubusercontent.com/alexeygrigorev/mlbookcamp-code/master/chapter-06-trees/CreditScoring.csv\n",
            "Resolving raw.githubusercontent.com (raw.githubusercontent.com)... 185.199.109.133, 185.199.108.133, 185.199.110.133, ...\n",
            "Connecting to raw.githubusercontent.com (raw.githubusercontent.com)|185.199.109.133|:443... connected.\n",
            "HTTP request sent, awaiting response... 200 OK\n",
            "Length: 182489 (178K) [text/plain]\n",
            "Saving to: ‘CreditScoring.csv.2’\n",
            "\n",
            "\rCreditScoring.csv.2   0%[                    ]       0  --.-KB/s               \rCreditScoring.csv.2 100%[===================>] 178.21K  --.-KB/s    in 0.01s   \n",
            "\n",
            "2021-10-03 13:09:44 (17.6 MB/s) - ‘CreditScoring.csv.2’ saved [182489/182489]\n",
            "\n"
          ]
        }
      ]
    },
    {
      "cell_type": "markdown",
      "metadata": {
        "id": "oe4n9h0NST88"
      },
      "source": [
        "## Preparation \n",
        "\n",
        "We'll talk about this dataset in more details in week 6. But for now, use the following code to get started"
      ]
    },
    {
      "cell_type": "code",
      "metadata": {
        "id": "0ca0tKzoST89"
      },
      "source": [
        "df = pd.read_csv('CreditScoring.csv')\n",
        "df.columns = df.columns.str.lower()"
      ],
      "execution_count": 96,
      "outputs": []
    },
    {
      "cell_type": "markdown",
      "metadata": {
        "id": "p-ozNM1cST9D"
      },
      "source": [
        "Some of the features are encoded as numbers. Use the following code to de-code them:"
      ]
    },
    {
      "cell_type": "code",
      "metadata": {
        "id": "o8OhyhroZ7ex"
      },
      "source": [
        "df.status.map?"
      ],
      "execution_count": 97,
      "outputs": []
    },
    {
      "cell_type": "code",
      "metadata": {
        "colab": {
          "base_uri": "https://localhost:8080/"
        },
        "id": "fHYovKH3bl1t",
        "outputId": "8d11801a-2b8b-4834-d581-bcabaf329786"
      },
      "source": [
        "df.status.value_counts()"
      ],
      "execution_count": 98,
      "outputs": [
        {
          "output_type": "execute_result",
          "data": {
            "text/plain": [
              "1    3200\n",
              "2    1254\n",
              "0       1\n",
              "Name: status, dtype: int64"
            ]
          },
          "metadata": {},
          "execution_count": 98
        }
      ]
    },
    {
      "cell_type": "code",
      "metadata": {
        "id": "HQQIrlksST9E"
      },
      "source": [
        "status_values = {\n",
        "    1: 'ok',\n",
        "    2: 'default',\n",
        "    0: 'unk'\n",
        "}\n",
        "\n",
        "df.status = df.status.map(status_values)\n",
        "\n",
        "\n",
        "home_values = {\n",
        "    1: 'rent',\n",
        "    2: 'owner',\n",
        "    3: 'private',\n",
        "    4: 'ignore',\n",
        "    5: 'parents',\n",
        "    6: 'other',\n",
        "    0: 'unk'\n",
        "}\n",
        "\n",
        "df.home = df.home.map(home_values)\n",
        "\n",
        "marital_values = {\n",
        "    1: 'single',\n",
        "    2: 'married',\n",
        "    3: 'widow',\n",
        "    4: 'separated',\n",
        "    5: 'divorced',\n",
        "    0: 'unk'\n",
        "}\n",
        "\n",
        "df.marital = df.marital.map(marital_values)\n",
        "\n",
        "records_values = {\n",
        "    1: 'no',\n",
        "    2: 'yes',\n",
        "    0: 'unk'\n",
        "}\n",
        "\n",
        "df.records = df.records.map(records_values)\n",
        "\n",
        "job_values = {\n",
        "    1: 'fixed',\n",
        "    2: 'partime',\n",
        "    3: 'freelance',\n",
        "    4: 'others',\n",
        "    0: 'unk'\n",
        "}\n",
        "\n",
        "df.job = df.job.map(job_values)"
      ],
      "execution_count": 99,
      "outputs": []
    },
    {
      "cell_type": "markdown",
      "metadata": {
        "id": "MhSMVvjjST9G"
      },
      "source": [
        "Prepare the numerical variables:"
      ]
    },
    {
      "cell_type": "code",
      "metadata": {
        "id": "KcfOpVp-a2sz"
      },
      "source": [
        "df.replace?"
      ],
      "execution_count": 100,
      "outputs": []
    },
    {
      "cell_type": "code",
      "metadata": {
        "id": "v_hlxnsQST9I"
      },
      "source": [
        "for c in ['income', 'assets', 'debt']:\n",
        "    df[c] = df[c].replace(to_replace=99999999, value=0)"
      ],
      "execution_count": 101,
      "outputs": []
    },
    {
      "cell_type": "markdown",
      "metadata": {
        "id": "cZsYPvrWST9J"
      },
      "source": [
        "Remove clients with unknown default status"
      ]
    },
    {
      "cell_type": "code",
      "metadata": {
        "id": "1b1WD7oHdlNR",
        "colab": {
          "base_uri": "https://localhost:8080/"
        },
        "outputId": "b26eb73d-5496-4b2c-e39a-bab79839cc8c"
      },
      "source": [
        "df.status.value_counts()"
      ],
      "execution_count": 102,
      "outputs": [
        {
          "output_type": "execute_result",
          "data": {
            "text/plain": [
              "ok         3200\n",
              "default    1254\n",
              "unk           1\n",
              "Name: status, dtype: int64"
            ]
          },
          "metadata": {},
          "execution_count": 102
        }
      ]
    },
    {
      "cell_type": "code",
      "metadata": {
        "id": "dk4LNcBDST9L"
      },
      "source": [
        "df = df[df.status != 'unk'].reset_index(drop=True)"
      ],
      "execution_count": 103,
      "outputs": []
    },
    {
      "cell_type": "markdown",
      "metadata": {
        "id": "FOhxfv9rST9L"
      },
      "source": [
        "Create the target variable"
      ]
    },
    {
      "cell_type": "code",
      "metadata": {
        "id": "-SN0aUo4dh9T",
        "colab": {
          "base_uri": "https://localhost:8080/"
        },
        "outputId": "19509bcd-dc8e-4d5c-926f-acd89e3b52c9"
      },
      "source": [
        "df.status.value_counts()"
      ],
      "execution_count": 104,
      "outputs": [
        {
          "output_type": "execute_result",
          "data": {
            "text/plain": [
              "ok         3200\n",
              "default    1254\n",
              "Name: status, dtype: int64"
            ]
          },
          "metadata": {},
          "execution_count": 104
        }
      ]
    },
    {
      "cell_type": "code",
      "metadata": {
        "id": "Ks0DfrYoST9M"
      },
      "source": [
        "df['default'] = (df.status == 'default').astype(int) # default value is either T or F\n",
        "del df['status']"
      ],
      "execution_count": 105,
      "outputs": []
    },
    {
      "cell_type": "code",
      "metadata": {
        "colab": {
          "base_uri": "https://localhost:8080/"
        },
        "id": "uBjjxbxOJzxc",
        "outputId": "6c66f289-652d-4fcc-b2d0-dc9465673858"
      },
      "source": [
        "df['default'].value_counts()"
      ],
      "execution_count": 106,
      "outputs": [
        {
          "output_type": "execute_result",
          "data": {
            "text/plain": [
              "0    3200\n",
              "1    1254\n",
              "Name: default, dtype: int64"
            ]
          },
          "metadata": {},
          "execution_count": 106
        }
      ]
    },
    {
      "cell_type": "markdown",
      "metadata": {
        "id": "_hAd8kivST9N"
      },
      "source": [
        "## Your code"
      ]
    },
    {
      "cell_type": "markdown",
      "metadata": {
        "id": "AbdXaLjnST9N"
      },
      "source": [
        "What are the categorical variables? What are the numerical?"
      ]
    },
    {
      "cell_type": "code",
      "metadata": {
        "id": "xg3jfyFiST9O",
        "colab": {
          "base_uri": "https://localhost:8080/"
        },
        "outputId": "4a31470c-e050-4791-a5c0-4068fb4b7b3f"
      },
      "source": [
        "df.columns"
      ],
      "execution_count": 107,
      "outputs": [
        {
          "output_type": "execute_result",
          "data": {
            "text/plain": [
              "Index(['seniority', 'home', 'time', 'age', 'marital', 'records', 'job',\n",
              "       'expenses', 'income', 'assets', 'debt', 'amount', 'price', 'default'],\n",
              "      dtype='object')"
            ]
          },
          "metadata": {},
          "execution_count": 107
        }
      ]
    },
    {
      "cell_type": "code",
      "metadata": {
        "id": "Gq-auA2jeKnu",
        "colab": {
          "base_uri": "https://localhost:8080/"
        },
        "outputId": "c6f1d8dc-390a-4a4f-f2da-00c284cb54fc"
      },
      "source": [
        "df.dtypes"
      ],
      "execution_count": 108,
      "outputs": [
        {
          "output_type": "execute_result",
          "data": {
            "text/plain": [
              "seniority     int64\n",
              "home         object\n",
              "time          int64\n",
              "age           int64\n",
              "marital      object\n",
              "records      object\n",
              "job          object\n",
              "expenses      int64\n",
              "income        int64\n",
              "assets        int64\n",
              "debt          int64\n",
              "amount        int64\n",
              "price         int64\n",
              "default       int64\n",
              "dtype: object"
            ]
          },
          "metadata": {},
          "execution_count": 108
        }
      ]
    },
    {
      "cell_type": "markdown",
      "metadata": {
        "id": "upWngPfCh8x3"
      },
      "source": [
        "**CATEGORICAL**"
      ]
    },
    {
      "cell_type": "code",
      "metadata": {
        "id": "uwGL8uYYeZ-E",
        "colab": {
          "base_uri": "https://localhost:8080/"
        },
        "outputId": "53ff4ea2-1a2c-43c6-904e-fea90d36ee30"
      },
      "source": [
        "cat_cols = list(df.dtypes[df.dtypes == \"object\"].index)\n",
        "cat_cols"
      ],
      "execution_count": 109,
      "outputs": [
        {
          "output_type": "execute_result",
          "data": {
            "text/plain": [
              "['home', 'marital', 'records', 'job']"
            ]
          },
          "metadata": {},
          "execution_count": 109
        }
      ]
    },
    {
      "cell_type": "markdown",
      "metadata": {
        "id": "6fwLQbXPiH-a"
      },
      "source": [
        "**NUMERICAL**"
      ]
    },
    {
      "cell_type": "code",
      "metadata": {
        "id": "Q3Xc2P5zem1d",
        "colab": {
          "base_uri": "https://localhost:8080/"
        },
        "outputId": "2a49725f-eed2-4d53-8901-96aa26cde0af"
      },
      "source": [
        "num_cols = list(df.dtypes[df.dtypes != \"object\"].index)\n",
        "num_cols.remove(\"default\")\n",
        "num_cols"
      ],
      "execution_count": 110,
      "outputs": [
        {
          "output_type": "execute_result",
          "data": {
            "text/plain": [
              "['seniority',\n",
              " 'time',\n",
              " 'age',\n",
              " 'expenses',\n",
              " 'income',\n",
              " 'assets',\n",
              " 'debt',\n",
              " 'amount',\n",
              " 'price']"
            ]
          },
          "metadata": {},
          "execution_count": 110
        }
      ]
    },
    {
      "cell_type": "markdown",
      "metadata": {
        "id": "40MsWWLxST9P"
      },
      "source": [
        "Split the data into 3 parts: train/validation/test with 60%/20%/20% distribution. Use `train_test_split` funciton for that with `random_state=1`"
      ]
    },
    {
      "cell_type": "code",
      "metadata": {
        "id": "-75O93JHST9P"
      },
      "source": [
        "from sklearn.model_selection import train_test_split"
      ],
      "execution_count": 111,
      "outputs": []
    },
    {
      "cell_type": "code",
      "metadata": {
        "id": "ifb6pqAmi-hu"
      },
      "source": [
        "train_test_split?"
      ],
      "execution_count": 112,
      "outputs": []
    },
    {
      "cell_type": "code",
      "metadata": {
        "id": "rQwTwLI3jEo5"
      },
      "source": [
        "df_full_train, df_test = train_test_split(df, test_size=0.2, random_state=1)\n",
        "df_train, df_val = train_test_split(df_full_train, test_size = 0.25, random_state=1)"
      ],
      "execution_count": 113,
      "outputs": []
    },
    {
      "cell_type": "code",
      "metadata": {
        "id": "09ho3Qw5msB7"
      },
      "source": [
        "y_train = df_train[\"default\"]\n",
        "y_val = df_val[\"default\"]\n",
        "y_test = df_test[\"default\"]"
      ],
      "execution_count": 114,
      "outputs": []
    },
    {
      "cell_type": "code",
      "metadata": {
        "id": "Sz8mhAmlm7MK"
      },
      "source": [
        "del df_train[\"default\"]\n",
        "del df_val[\"default\"]\n",
        "del df_test[\"default\"]"
      ],
      "execution_count": 115,
      "outputs": []
    },
    {
      "cell_type": "code",
      "metadata": {
        "id": "UykQK1bBnCmm",
        "colab": {
          "base_uri": "https://localhost:8080/"
        },
        "outputId": "c3c40b9c-c231-45b8-ad7f-01f366bae368"
      },
      "source": [
        "df_train.columns"
      ],
      "execution_count": 116,
      "outputs": [
        {
          "output_type": "execute_result",
          "data": {
            "text/plain": [
              "Index(['seniority', 'home', 'time', 'age', 'marital', 'records', 'job',\n",
              "       'expenses', 'income', 'assets', 'debt', 'amount', 'price'],\n",
              "      dtype='object')"
            ]
          },
          "metadata": {},
          "execution_count": 116
        }
      ]
    },
    {
      "cell_type": "code",
      "metadata": {
        "id": "t2Ay7GsnjfVa",
        "colab": {
          "base_uri": "https://localhost:8080/"
        },
        "outputId": "4f610431-818a-435c-91f6-7e1512299b5e"
      },
      "source": [
        "len(df_train), len(df_val), len(df_test)"
      ],
      "execution_count": 117,
      "outputs": [
        {
          "output_type": "execute_result",
          "data": {
            "text/plain": [
              "(2672, 891, 891)"
            ]
          },
          "metadata": {},
          "execution_count": 117
        }
      ]
    },
    {
      "cell_type": "markdown",
      "metadata": {
        "id": "megj1G_PST9R"
      },
      "source": [
        "## Question 1\n",
        "\n",
        "ROC AUC could also be used to evaluate feature importance of numerical variables. \n",
        "\n",
        "Let's do that\n",
        "\n",
        "* For each numerical variable, use it as score and compute AUC with the default variable\n",
        "* Use the training dataset for that\n",
        "\n",
        "\n",
        "If your AUC is < 0.5, invert this variable by putting \"-\" in front\n",
        "\n",
        "(e.g. `-df_train['expenses']`)\n",
        "\n",
        "AUC can go below 0.5 if the variable is negatively correlated with the target varialble. You can change the direction of the correlation by negating this variable - then negative correlation becomes positive."
      ]
    },
    {
      "cell_type": "code",
      "metadata": {
        "id": "1a1jvhR25Lxf"
      },
      "source": [
        "from sklearn.metrics import roc_auc_score"
      ],
      "execution_count": 118,
      "outputs": []
    },
    {
      "cell_type": "code",
      "metadata": {
        "id": "GAPlx4FiAhNL"
      },
      "source": [
        "roc_auc_score?"
      ],
      "execution_count": 119,
      "outputs": []
    },
    {
      "cell_type": "markdown",
      "metadata": {
        "id": "O1JitCzMKdly"
      },
      "source": [
        "`print(num, round(roc_auc_score( df[\"default\"], df[num]),3))`\n",
        "\n",
        "here default is our output so,\n"
      ]
    },
    {
      "cell_type": "code",
      "metadata": {
        "id": "rZkU1YUUST9T",
        "colab": {
          "base_uri": "https://localhost:8080/"
        },
        "outputId": "a9132992-984c-445d-8979-e55249faff06"
      },
      "source": [
        "for num in num_cols:\n",
        "  print(num, round(roc_auc_score( df[\"default\"], df[num]),3))"
      ],
      "execution_count": 120,
      "outputs": [
        {
          "output_type": "stream",
          "name": "stdout",
          "text": [
            "seniority 0.303\n",
            "time 0.554\n",
            "age 0.442\n",
            "expenses 0.502\n",
            "income 0.333\n",
            "assets 0.367\n",
            "debt 0.493\n",
            "amount 0.595\n",
            "price 0.5\n"
          ]
        }
      ]
    },
    {
      "cell_type": "markdown",
      "metadata": {
        "id": "EhDIbuHOR_1g"
      },
      "source": [
        "**Actual Solution**"
      ]
    },
    {
      "cell_type": "code",
      "metadata": {
        "colab": {
          "base_uri": "https://localhost:8080/"
        },
        "id": "IZnrvGI2R0Mt",
        "outputId": "aa12243f-48a4-4ee2-d18f-aa5e372bc53c"
      },
      "source": [
        "for num in num_cols:\n",
        "  print(num, round(roc_auc_score( y_train, df_train[num]),3))"
      ],
      "execution_count": 143,
      "outputs": [
        {
          "output_type": "stream",
          "name": "stdout",
          "text": [
            "seniority 0.291\n",
            "time 0.561\n",
            "age 0.427\n",
            "expenses 0.499\n",
            "income 0.318\n",
            "assets 0.351\n",
            "debt 0.495\n",
            "amount 0.591\n",
            "price 0.504\n"
          ]
        }
      ]
    },
    {
      "cell_type": "markdown",
      "metadata": {
        "id": "9j6f21OkST9U"
      },
      "source": [
        "Which numerical variable (among the following 4) has the highest AUC?\n",
        "\n",
        "- seniority\n",
        "- time\n",
        "- income\n",
        "- debt"
      ]
    },
    {
      "cell_type": "markdown",
      "metadata": {
        "id": "FbT4ZA75ST9V"
      },
      "source": [
        "## Training the model\n",
        "\n",
        "From now on, use these columns only:\n",
        "\n",
        "```\n",
        "['seniority', 'income', 'assets', 'records', 'job', 'home']\n",
        "```\n",
        "\n",
        "Apply one-hot-encoding using `DictVectorizer` and train the logistic regression with these parameters:\n",
        "\n",
        "```\n",
        "LogisticRegression(solver='liblinear', C=1.0, max_iter=1000)\n",
        "```"
      ]
    },
    {
      "cell_type": "code",
      "metadata": {
        "id": "Z488_TphST9W"
      },
      "source": [
        "cols = ['seniority', 'income', 'assets', 'records', 'job', 'home']"
      ],
      "execution_count": 122,
      "outputs": []
    },
    {
      "cell_type": "code",
      "metadata": {
        "id": "2hoqT6ckCJu5"
      },
      "source": [
        "from sklearn.feature_extraction import DictVectorizer\n",
        "from sklearn.linear_model import LogisticRegression"
      ],
      "execution_count": 123,
      "outputs": []
    },
    {
      "cell_type": "code",
      "metadata": {
        "colab": {
          "base_uri": "https://localhost:8080/"
        },
        "id": "-t1qD1dJCUGg",
        "outputId": "5df9588f-0120-4b5e-fbcb-a4586942ef2f"
      },
      "source": [
        "cat_cols, num_cols"
      ],
      "execution_count": 124,
      "outputs": [
        {
          "output_type": "execute_result",
          "data": {
            "text/plain": [
              "(['home', 'marital', 'records', 'job'],\n",
              " ['seniority',\n",
              "  'time',\n",
              "  'age',\n",
              "  'expenses',\n",
              "  'income',\n",
              "  'assets',\n",
              "  'debt',\n",
              "  'amount',\n",
              "  'price'])"
            ]
          },
          "metadata": {},
          "execution_count": 124
        }
      ]
    },
    {
      "cell_type": "code",
      "metadata": {
        "colab": {
          "base_uri": "https://localhost:8080/"
        },
        "id": "QzN9Lh6eCTzm",
        "outputId": "19531fa8-5d19-4075-b6d9-4548cb181415"
      },
      "source": [
        "dv = DictVectorizer(sparse=False)\n",
        "\n",
        "train_dict = df_train[cols].to_dict(orient=\"records\")\n",
        "X_train = dv.fit_transform(train_dict)\n",
        "\n",
        "model = LogisticRegression(solver='liblinear', C=1.0, max_iter=1000)\n",
        "\n",
        "model.fit(X_train, y_train)"
      ],
      "execution_count": 125,
      "outputs": [
        {
          "output_type": "execute_result",
          "data": {
            "text/plain": [
              "LogisticRegression(C=1.0, class_weight=None, dual=False, fit_intercept=True,\n",
              "                   intercept_scaling=1, l1_ratio=None, max_iter=1000,\n",
              "                   multi_class='auto', n_jobs=None, penalty='l2',\n",
              "                   random_state=None, solver='liblinear', tol=0.0001, verbose=0,\n",
              "                   warm_start=False)"
            ]
          },
          "metadata": {},
          "execution_count": 125
        }
      ]
    },
    {
      "cell_type": "code",
      "metadata": {
        "colab": {
          "base_uri": "https://localhost:8080/"
        },
        "id": "pERhCrF9DUnD",
        "outputId": "18df040b-b767-4aea-e9f2-ae9b91b7cc65"
      },
      "source": [
        "val_dict = df_val[cols].to_dict(orient=\"records\")\n",
        "val_dict[:2]"
      ],
      "execution_count": 126,
      "outputs": [
        {
          "output_type": "execute_result",
          "data": {
            "text/plain": [
              "[{'assets': 30000,\n",
              "  'home': 'owner',\n",
              "  'income': 178,\n",
              "  'job': 'freelance',\n",
              "  'records': 'yes',\n",
              "  'seniority': 15},\n",
              " {'assets': 4000,\n",
              "  'home': 'owner',\n",
              "  'income': 184,\n",
              "  'job': 'fixed',\n",
              "  'records': 'no',\n",
              "  'seniority': 2}]"
            ]
          },
          "metadata": {},
          "execution_count": 126
        }
      ]
    },
    {
      "cell_type": "code",
      "metadata": {
        "id": "fP7fP_6VDwt7"
      },
      "source": [
        "X_val = dv.transform(val_dict)\n",
        "\n",
        "y_pred = model.predict_proba(X_val)[:,1]"
      ],
      "execution_count": 127,
      "outputs": []
    },
    {
      "cell_type": "code",
      "metadata": {
        "colab": {
          "base_uri": "https://localhost:8080/"
        },
        "id": "4wPuu3S4IDz4",
        "outputId": "4b620950-7a65-44b9-e410-9af235efecc0"
      },
      "source": [
        "round(roc_auc_score(y_val, y_pred),3)"
      ],
      "execution_count": 128,
      "outputs": [
        {
          "output_type": "execute_result",
          "data": {
            "text/plain": [
              "0.812"
            ]
          },
          "metadata": {},
          "execution_count": 128
        }
      ]
    },
    {
      "cell_type": "markdown",
      "metadata": {
        "id": "ReziorxVST9X"
      },
      "source": [
        "## Question 2\n",
        "\n",
        "What's the AUC of this model on the validation dataset? (round to 3 digits)\n",
        "\n",
        "- 0.512\n",
        "- 0.612\n",
        "- 0.712\n",
        "- 0.812 (this)"
      ]
    },
    {
      "cell_type": "markdown",
      "metadata": {
        "id": "PLdrNI7eST9Y"
      },
      "source": [
        "## Question 3\n",
        "\n",
        "Now let's compute precision and recall for our model.\n",
        "\n",
        "* Evaluate the model on all thresholds from 0.0 to 1.0 with step 0.01\n",
        "* For each threshold, compute precision and recall\n",
        "* Plot them"
      ]
    },
    {
      "cell_type": "code",
      "metadata": {
        "id": "dxbxkxXYOBI4"
      },
      "source": [
        "np.linspace?"
      ],
      "execution_count": 129,
      "outputs": []
    },
    {
      "cell_type": "code",
      "metadata": {
        "id": "pf_xncvRST9Z",
        "colab": {
          "base_uri": "https://localhost:8080/"
        },
        "outputId": "84507eda-7893-4a4e-e51a-f47a1211fea3"
      },
      "source": [
        "thres = np.linspace(0,1,101)\n",
        "thres[::10]"
      ],
      "execution_count": 130,
      "outputs": [
        {
          "output_type": "execute_result",
          "data": {
            "text/plain": [
              "array([0. , 0.1, 0.2, 0.3, 0.4, 0.5, 0.6, 0.7, 0.8, 0.9, 1. ])"
            ]
          },
          "metadata": {},
          "execution_count": 130
        }
      ]
    },
    {
      "cell_type": "markdown",
      "metadata": {
        "id": "0dFbypXYOWnT"
      },
      "source": [
        "## Precision:(Counted with the predicted T values\n",
        "## Recall: (Counted with the actual T values)"
      ]
    },
    {
      "cell_type": "code",
      "metadata": {
        "id": "jxb03IWOPYqM",
        "colab": {
          "base_uri": "https://localhost:8080/"
        },
        "outputId": "8fcf7b64-0d3b-4698-e818-dfc4b2527c8a"
      },
      "source": [
        "y_val.value_counts()"
      ],
      "execution_count": 131,
      "outputs": [
        {
          "output_type": "execute_result",
          "data": {
            "text/plain": [
              "0    645\n",
              "1    246\n",
              "Name: default, dtype: int64"
            ]
          },
          "metadata": {},
          "execution_count": 131
        }
      ]
    },
    {
      "cell_type": "code",
      "metadata": {
        "id": "ygvCC39dO7XT"
      },
      "source": [
        "actual_positive = (y_val == 1)\n",
        "actual_negative = (y_val == 0)"
      ],
      "execution_count": 132,
      "outputs": []
    },
    {
      "cell_type": "code",
      "metadata": {
        "id": "yOdYLlPROSXq"
      },
      "source": [
        "scores = []\n",
        "for t in thres:\n",
        "  pred_positive = (y_pred >= t)\n",
        "  pred_negative = (y_pred < t)\n",
        "\n",
        "  tp = (actual_positive & pred_positive).sum()\n",
        "  tn = (actual_negative & pred_negative).sum()\n",
        "\n",
        "  fp = (actual_negative & pred_positive).sum()\n",
        "  fn = (actual_positive & pred_negative).sum()\n",
        "\n",
        "  scores.append([t, tp, fp, fn, tn])"
      ],
      "execution_count": 133,
      "outputs": []
    },
    {
      "cell_type": "code",
      "metadata": {
        "id": "6p9qSdrbQftA"
      },
      "source": [
        "columns = ['threshold',  \"tp\", \"fp\", \"fn\", \"tn\"]\n",
        "df_scores = pd.DataFrame(scores, columns=columns)\n",
        "\n",
        "df_scores[\"precision\"] = df_scores.tp / (df_scores.tp + df_scores.fp) \n",
        "df_scores[\"recall\"] = df_scores.tp / (df_scores.tp + df_scores.fn) "
      ],
      "execution_count": 134,
      "outputs": []
    },
    {
      "cell_type": "code",
      "metadata": {
        "id": "p7drPqJVRxDg",
        "colab": {
          "base_uri": "https://localhost:8080/",
          "height": 282
        },
        "outputId": "95c59f41-a83e-46b0-baae-c36d03fa04cf"
      },
      "source": [
        "plt.plot(df_scores.threshold, df_scores['precision'], label='precision')\n",
        "plt.plot(df_scores.threshold, df_scores['recall'], label='recall')\n",
        "plt.legend()"
      ],
      "execution_count": 135,
      "outputs": [
        {
          "output_type": "execute_result",
          "data": {
            "text/plain": [
              "<matplotlib.legend.Legend at 0x7f1279acbb50>"
            ]
          },
          "metadata": {},
          "execution_count": 135
        },
        {
          "output_type": "display_data",
          "data": {
            "image/png": "[encoded data removed]",
            "text/plain": [
              "<Figure size 432x288 with 1 Axes>"
            ]
          },
          "metadata": {
            "needs_background": "light"
          }
        }
      ]
    },
    {
      "cell_type": "markdown",
      "metadata": {
        "id": "UQqna5u5ST9Z"
      },
      "source": [
        "At which threshold precision and recall curves intersect?\n",
        "\n",
        "* 0.2\n",
        "* 0.4 this\n",
        "* 0.6\n",
        "* 0.8"
      ]
    },
    {
      "cell_type": "markdown",
      "metadata": {
        "id": "9yuSZUwrST9a"
      },
      "source": [
        "## Question 4\n",
        "\n",
        "Precision and recall are conflicting - when one grows, the other goes down. That's why they are often combined into the F1 score - a metrics that takes into account both\n",
        "\n",
        "This is the formula for computing F1:\n",
        "\n",
        "$$F_1 = 2 \\cdot \\cfrac{P \\cdot R}{P + R}$$\n",
        "\n",
        "Where $P$ is precision and $R$ is recall.\n",
        "\n",
        "Let's compute F1 for all thresholds from 0.0 to 1.0 with increment 0.01"
      ]
    },
    {
      "cell_type": "code",
      "metadata": {
        "id": "_A_IENoZST9b"
      },
      "source": [
        "df_scores[\"f1_score\"] = 2 * (df_scores[\"precision\"] * df_scores[\"recall\"]) / (df_scores[\"precision\"] + df_scores[\"recall\"])"
      ],
      "execution_count": 136,
      "outputs": []
    },
    {
      "cell_type": "code",
      "metadata": {
        "id": "a0slIFWTVMnp",
        "colab": {
          "base_uri": "https://localhost:8080/",
          "height": 80
        },
        "outputId": "1d0a07bf-43ff-45a2-d791-4ff917f19f2d"
      },
      "source": [
        "df_scores[df_scores[\"f1_score\"] == df_scores[\"f1_score\"].max()]"
      ],
      "execution_count": 137,
      "outputs": [
        {
          "output_type": "execute_result",
          "data": {
            "text/html": [
              "<div>\n",
              "<style scoped>\n",
              "    .dataframe tbody tr th:only-of-type {\n",
              "        vertical-align: middle;\n",
              "    }\n",
              "\n",
              "    .dataframe tbody tr th {\n",
              "        vertical-align: top;\n",
              "    }\n",
              "\n",
              "    .dataframe thead th {\n",
              "        text-align: right;\n",
              "    }\n",
              "</style>\n",
              "<table border=\"1\" class=\"dataframe\">\n",
              "  <thead>\n",
              "    <tr style=\"text-align: right;\">\n",
              "      <th></th>\n",
              "      <th>threshold</th>\n",
              "      <th>tp</th>\n",
              "      <th>fp</th>\n",
              "      <th>fn</th>\n",
              "      <th>tn</th>\n",
              "      <th>precision</th>\n",
              "      <th>recall</th>\n",
              "      <th>f1_score</th>\n",
              "    </tr>\n",
              "  </thead>\n",
              "  <tbody>\n",
              "    <tr>\n",
              "      <th>30</th>\n",
              "      <td>0.3</td>\n",
              "      <td>187</td>\n",
              "      <td>162</td>\n",
              "      <td>59</td>\n",
              "      <td>483</td>\n",
              "      <td>0.535817</td>\n",
              "      <td>0.760163</td>\n",
              "      <td>0.628571</td>\n",
              "    </tr>\n",
              "  </tbody>\n",
              "</table>\n",
              "</div>"
            ],
            "text/plain": [
              "    threshold   tp   fp  fn   tn  precision    recall  f1_score\n",
              "30        0.3  187  162  59  483   0.535817  0.760163  0.628571"
            ]
          },
          "metadata": {},
          "execution_count": 137
        }
      ]
    },
    {
      "cell_type": "markdown",
      "metadata": {
        "id": "u8ytKRlfST9c"
      },
      "source": [
        "At which threshold F1 is maximal?\n",
        "\n",
        "- 0.1\n",
        "- 0.3 this\n",
        "- 0.5\n",
        "- 0.7"
      ]
    },
    {
      "cell_type": "markdown",
      "metadata": {
        "id": "wYo9wkk-ST9c"
      },
      "source": [
        "## Question 5\n",
        "\n",
        "\n",
        "Use the `KFold` class from Scikit-Learn to evaluate our model on 5 different folds:\n",
        "\n",
        "```\n",
        "KFold(n_splits=5, shuffle=True, random_state=1)\n",
        "```\n",
        "\n",
        "* Iterate over different folds of `df_full_train`\n",
        "* Split the data into train and validation\n",
        "* Train the model on train with these parameters: `LogisticRegression(solver='liblinear', C=1.0, max_iter=1000)`\n",
        "* Use AUC to evaluate the model on validation\n"
      ]
    },
    {
      "cell_type": "code",
      "metadata": {
        "colab": {
          "base_uri": "https://localhost:8080/"
        },
        "id": "k2YyFyiSHHgp",
        "outputId": "03d0bdbe-bbcd-4f27-b1cc-d776069ca161"
      },
      "source": [
        "cols"
      ],
      "execution_count": 138,
      "outputs": [
        {
          "output_type": "execute_result",
          "data": {
            "text/plain": [
              "['seniority', 'income', 'assets', 'records', 'job', 'home']"
            ]
          },
          "metadata": {},
          "execution_count": 138
        }
      ]
    },
    {
      "cell_type": "code",
      "metadata": {
        "id": "_ZZ8QC3LST9d"
      },
      "source": [
        "def train(df, y, C=1.0):\n",
        "  dicts = df[cols].to_dict(orient=\"records\")\n",
        "  dv = DictVectorizer(sparse=False)\n",
        "  X_train = dv.fit_transform(dicts)\n",
        "\n",
        "  model = LogisticRegression(solver='liblinear',C=C, max_iter=1000)\n",
        "  model.fit(X_train, y)\n",
        "\n",
        "  return dv,model"
      ],
      "execution_count": 160,
      "outputs": []
    },
    {
      "cell_type": "code",
      "metadata": {
        "id": "1m2-tP1YHiPD"
      },
      "source": [
        "def predict(df, dv, model):\n",
        "  dicts = df[cols].to_dict(orient=\"records\")\n",
        "  \n",
        "  X = dv.transform(dicts)\n",
        "  y_pred = model.predict_proba(X)[:,1]\n",
        "  \n",
        "  return y_pred"
      ],
      "execution_count": 161,
      "outputs": []
    },
    {
      "cell_type": "code",
      "metadata": {
        "id": "DKYf0F1EIZCL"
      },
      "source": [
        "# !pip install KFold"
      ],
      "execution_count": 146,
      "outputs": []
    },
    {
      "cell_type": "markdown",
      "metadata": {
        "id": "-0ui7rhIVdfa"
      },
      "source": [
        "For timing our loop process"
      ]
    },
    {
      "cell_type": "code",
      "metadata": {
        "id": "YrwmB3f_IYwy"
      },
      "source": [
        "from tqdm.auto import tqdm"
      ],
      "execution_count": 145,
      "outputs": []
    },
    {
      "cell_type": "code",
      "metadata": {
        "id": "QQjlj-SUVdIg"
      },
      "source": [
        "from sklearn.model_selection import KFold"
      ],
      "execution_count": 147,
      "outputs": []
    },
    {
      "cell_type": "code",
      "metadata": {
        "id": "UkPXLVBKVseB"
      },
      "source": [
        "n_splits = 5"
      ],
      "execution_count": 148,
      "outputs": []
    },
    {
      "cell_type": "code",
      "metadata": {
        "id": "1A-hcnZfYM1R"
      },
      "source": [
        "# df.default"
      ],
      "execution_count": 151,
      "outputs": []
    },
    {
      "cell_type": "code",
      "metadata": {
        "id": "poqUbhk2boYE",
        "outputId": "39d2cb45-695f-4376-ef56-1ea9d496cbda",
        "colab": {
          "base_uri": "https://localhost:8080/"
        }
      },
      "source": [
        "type(y_train)"
      ],
      "execution_count": 156,
      "outputs": [
        {
          "output_type": "execute_result",
          "data": {
            "text/plain": [
              "numpy.ndarray"
            ]
          },
          "metadata": {},
          "execution_count": 156
        }
      ]
    },
    {
      "cell_type": "code",
      "metadata": {
        "id": "OT1N0WADVc6B",
        "outputId": "c4d558eb-677e-4119-ddda-326e28fda6ee",
        "colab": {
          "base_uri": "https://localhost:8080/"
        }
      },
      "source": [
        "kfold = KFold(n_splits=n_splits, shuffle=True, random_state=1)\n",
        "scores = []\n",
        "\n",
        "for train_idx, val_idx in kfold.split(df_full_train):\n",
        "  df_train = df_full_train.iloc[train_idx]\n",
        "  df_val = df_full_train.iloc[val_idx]\n",
        "\n",
        "  y_train = df_train.default.values\n",
        "  y_val = df_val.default.values\n",
        "\n",
        "  dv,model = train(df_train, y_train, C=1)\n",
        "  pred = predict(df_val, dv , model)\n",
        "\n",
        "  auc = roc_auc_score(y_val, pred) # target, data\n",
        "  scores.append(auc)\n",
        "\n",
        "print(f\"mean:{np.mean(scores):.3f}, standard Deviation:{np.std(scores):.3f}\")"
      ],
      "execution_count": 166,
      "outputs": [
        {
          "output_type": "stream",
          "name": "stdout",
          "text": [
            "mean:0.812, standard Deviation:0.014\n"
          ]
        }
      ]
    },
    {
      "cell_type": "markdown",
      "metadata": {
        "id": "MtQBEAbZST9e"
      },
      "source": [
        "How large is standard devidation of the scores across different folds?\n",
        "\n",
        "- 0.001\n",
        "- 0.014 THIS\n",
        "- 0.09\n",
        "- 0.14"
      ]
    },
    {
      "cell_type": "markdown",
      "metadata": {
        "id": "4g9WPrsBST9f"
      },
      "source": [
        "## Question 6\n",
        "\n",
        "Now let's use 5-Fold cross-validation to find the best parameter C\n",
        "\n",
        "* Iterate over the following C values: `[0.01, 0.1, 1, 10]`\n",
        "* Use these parametes for the model: `LogisticRegression(solver='liblinear', C=C, max_iter=1000)`\n",
        "* Compute the mean score as well as the std"
      ]
    },
    {
      "cell_type": "code",
      "metadata": {
        "id": "hJW9hsyfST9f",
        "colab": {
          "base_uri": "https://localhost:8080/"
        },
        "outputId": "22981d85-52cb-4866-84c4-c9c0cce281b7"
      },
      "source": [
        "n_splits = 5\n",
        "for C in [0.01, 0.1, 1, 10]:\n",
        "  kfold = KFold(n_splits=n_splits, shuffle=True, random_state=1)\n",
        "  scores = []\n",
        "\n",
        "  for train_idx, val_idx in kfold.split(df_full_train):\n",
        "    df_train = df_full_train.iloc[train_idx]\n",
        "    df_val = df_full_train.iloc[val_idx]\n",
        "\n",
        "    y_train = df_train.default.values\n",
        "    y_val = df_val.default.values\n",
        "\n",
        "    dv,model = train(df_train, y_train, C=C)\n",
        "    pred = predict(df_val, dv , model)\n",
        "\n",
        "    auc = roc_auc_score(y_val, pred) # target, data\n",
        "    scores.append(auc)\n",
        "\n",
        "  print(f\"for C={C} \\t mean:{np.mean(scores):.3f}\\t standard Deviation:{np.std(scores):.3f}\")"
      ],
      "execution_count": 169,
      "outputs": [
        {
          "output_type": "stream",
          "name": "stdout",
          "text": [
            "for C=0.01 \t mean:0.808\t standard Deviation:0.012\n",
            "for C=0.1 \t mean:0.813\t standard Deviation:0.014\n",
            "for C=1 \t mean:0.812\t standard Deviation:0.014\n",
            "for C=10 \t mean:0.814\t standard Deviation:0.015\n"
          ]
        }
      ]
    },
    {
      "cell_type": "markdown",
      "metadata": {
        "id": "qcKW8FHnST9g"
      },
      "source": [
        "Which C leads to the best mean score?\n",
        "\n",
        "- 0.01\n",
        "- 0.1\n",
        "- 1\n",
        "- 10 this\n",
        "\n",
        "If you have ties, select the score with the lowest std. If you still have ties, select the smallest C"
      ]
    },
    {
      "cell_type": "code",
      "metadata": {
        "id": "uoCTfMsVST9g"
      },
      "source": [
        ""
      ],
      "execution_count": 141,
      "outputs": []
    },
    {
      "cell_type": "markdown",
      "metadata": {
        "id": "hnnITncHST9h"
      },
      "source": [
        "## Submit the results\n",
        "\n",
        "Submit your results here: https://forms.gle/e497sR5iB36mM9Cs5\n",
        "\n",
        "It's possible that your answers won't match exactly. If it's the case, select the closest one.\n",
        "\n",
        "## Deadline\n",
        "\n",
        "The deadline for submitting is 04 October 2021, 17:00 CET. After that, the form will be closed."
      ]
    },
    {
      "cell_type": "code",
      "metadata": {
        "id": "BQfiCOz4ST9h"
      },
      "source": [
        ""
      ],
      "execution_count": 141,
      "outputs": []
    }
  ]
}