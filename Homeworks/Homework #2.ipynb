{
  "nbformat": 4,
  "nbformat_minor": 0,
  "metadata": {
    "colab": {
      "name": "Homework #2.ipynb",
      "provenance": [],
      "authorship_tag": "ABX9TyPnIfTDBPd0cLbbA0EFZDj2",
      "include_colab_link": true
    },
    "kernelspec": {
      "name": "python3",
      "display_name": "Python 3"
    },
    "language_info": {
      "name": "python"
    }
  },
  "cells": [
    {
      "cell_type": "markdown",
      "metadata": {
        "id": "view-in-github",
        "colab_type": "text"
      },
      "source": [
        "<a href=\"https://colab.research.google.com/github/BountyHunter1999/Machine-Learning-Zoom-Camp/blob/main/Homeworks/Homework%20%232.ipynb\" target=\"_parent\"><img src=\"https://colab.research.google.com/assets/colab-badge.svg\" alt=\"Open In Colab\"/></a>"
      ]
    },
    {
      "cell_type": "code",
      "metadata": {
        "colab": {
          "base_uri": "https://localhost:8080/"
        },
        "id": "YXoa0IRDR7HP",
        "outputId": "93debb1d-76d0-40f8-da6a-cd1560c53931"
      },
      "source": [
        "!wget https://raw.githubusercontent.com/alexeygrigorev/datasets/master/AB_NYC_2019.csv"
      ],
      "execution_count": 201,
      "outputs": [
        {
          "output_type": "stream",
          "name": "stdout",
          "text": [
            "--2021-09-19 15:59:49--  https://raw.githubusercontent.com/alexeygrigorev/datasets/master/AB_NYC_2019.csv\n",
            "Resolving raw.githubusercontent.com (raw.githubusercontent.com)... 185.199.108.133, 185.199.109.133, 185.199.110.133, ...\n",
            "Connecting to raw.githubusercontent.com (raw.githubusercontent.com)|185.199.108.133|:443... connected.\n",
            "HTTP request sent, awaiting response... 200 OK\n",
            "Length: 7077973 (6.8M) [text/plain]\n",
            "Saving to: ‘AB_NYC_2019.csv.3’\n",
            "\n",
            "AB_NYC_2019.csv.3   100%[===================>]   6.75M  --.-KB/s    in 0.08s   \n",
            "\n",
            "2021-09-19 15:59:49 (87.3 MB/s) - ‘AB_NYC_2019.csv.3’ saved [7077973/7077973]\n",
            "\n"
          ]
        }
      ]
    },
    {
      "cell_type": "code",
      "metadata": {
        "id": "yGWuAvGbSDX2"
      },
      "source": [
        "import numpy as np\n",
        "import pandas as pd\n",
        "import seaborn as sns\n",
        "\n",
        "%matplotlib inline"
      ],
      "execution_count": 202,
      "outputs": []
    },
    {
      "cell_type": "code",
      "metadata": {
        "colab": {
          "base_uri": "https://localhost:8080/",
          "height": 411
        },
        "id": "OxAK0L3USQGw",
        "outputId": "63ab8d46-8ca5-4f62-aba3-06db5963386e"
      },
      "source": [
        "df = pd.read_csv(\"AB_NYC_2019.csv\")\n",
        "df.head()"
      ],
      "execution_count": 203,
      "outputs": [
        {
          "output_type": "execute_result",
          "data": {
            "text/html": [
              "<div>\n",
              "<style scoped>\n",
              "    .dataframe tbody tr th:only-of-type {\n",
              "        vertical-align: middle;\n",
              "    }\n",
              "\n",
              "    .dataframe tbody tr th {\n",
              "        vertical-align: top;\n",
              "    }\n",
              "\n",
              "    .dataframe thead th {\n",
              "        text-align: right;\n",
              "    }\n",
              "</style>\n",
              "<table border=\"1\" class=\"dataframe\">\n",
              "  <thead>\n",
              "    <tr style=\"text-align: right;\">\n",
              "      <th></th>\n",
              "      <th>id</th>\n",
              "      <th>name</th>\n",
              "      <th>host_id</th>\n",
              "      <th>host_name</th>\n",
              "      <th>neighbourhood_group</th>\n",
              "      <th>neighbourhood</th>\n",
              "      <th>latitude</th>\n",
              "      <th>longitude</th>\n",
              "      <th>room_type</th>\n",
              "      <th>price</th>\n",
              "      <th>minimum_nights</th>\n",
              "      <th>number_of_reviews</th>\n",
              "      <th>last_review</th>\n",
              "      <th>reviews_per_month</th>\n",
              "      <th>calculated_host_listings_count</th>\n",
              "      <th>availability_365</th>\n",
              "    </tr>\n",
              "  </thead>\n",
              "  <tbody>\n",
              "    <tr>\n",
              "      <th>0</th>\n",
              "      <td>2539</td>\n",
              "      <td>Clean &amp; quiet apt home by the park</td>\n",
              "      <td>2787</td>\n",
              "      <td>John</td>\n",
              "      <td>Brooklyn</td>\n",
              "      <td>Kensington</td>\n",
              "      <td>40.64749</td>\n",
              "      <td>-73.97237</td>\n",
              "      <td>Private room</td>\n",
              "      <td>149</td>\n",
              "      <td>1</td>\n",
              "      <td>9</td>\n",
              "      <td>2018-10-19</td>\n",
              "      <td>0.21</td>\n",
              "      <td>6</td>\n",
              "      <td>365</td>\n",
              "    </tr>\n",
              "    <tr>\n",
              "      <th>1</th>\n",
              "      <td>2595</td>\n",
              "      <td>Skylit Midtown Castle</td>\n",
              "      <td>2845</td>\n",
              "      <td>Jennifer</td>\n",
              "      <td>Manhattan</td>\n",
              "      <td>Midtown</td>\n",
              "      <td>40.75362</td>\n",
              "      <td>-73.98377</td>\n",
              "      <td>Entire home/apt</td>\n",
              "      <td>225</td>\n",
              "      <td>1</td>\n",
              "      <td>45</td>\n",
              "      <td>2019-05-21</td>\n",
              "      <td>0.38</td>\n",
              "      <td>2</td>\n",
              "      <td>355</td>\n",
              "    </tr>\n",
              "    <tr>\n",
              "      <th>2</th>\n",
              "      <td>3647</td>\n",
              "      <td>THE VILLAGE OF HARLEM....NEW YORK !</td>\n",
              "      <td>4632</td>\n",
              "      <td>Elisabeth</td>\n",
              "      <td>Manhattan</td>\n",
              "      <td>Harlem</td>\n",
              "      <td>40.80902</td>\n",
              "      <td>-73.94190</td>\n",
              "      <td>Private room</td>\n",
              "      <td>150</td>\n",
              "      <td>3</td>\n",
              "      <td>0</td>\n",
              "      <td>NaN</td>\n",
              "      <td>NaN</td>\n",
              "      <td>1</td>\n",
              "      <td>365</td>\n",
              "    </tr>\n",
              "    <tr>\n",
              "      <th>3</th>\n",
              "      <td>3831</td>\n",
              "      <td>Cozy Entire Floor of Brownstone</td>\n",
              "      <td>4869</td>\n",
              "      <td>LisaRoxanne</td>\n",
              "      <td>Brooklyn</td>\n",
              "      <td>Clinton Hill</td>\n",
              "      <td>40.68514</td>\n",
              "      <td>-73.95976</td>\n",
              "      <td>Entire home/apt</td>\n",
              "      <td>89</td>\n",
              "      <td>1</td>\n",
              "      <td>270</td>\n",
              "      <td>2019-07-05</td>\n",
              "      <td>4.64</td>\n",
              "      <td>1</td>\n",
              "      <td>194</td>\n",
              "    </tr>\n",
              "    <tr>\n",
              "      <th>4</th>\n",
              "      <td>5022</td>\n",
              "      <td>Entire Apt: Spacious Studio/Loft by central park</td>\n",
              "      <td>7192</td>\n",
              "      <td>Laura</td>\n",
              "      <td>Manhattan</td>\n",
              "      <td>East Harlem</td>\n",
              "      <td>40.79851</td>\n",
              "      <td>-73.94399</td>\n",
              "      <td>Entire home/apt</td>\n",
              "      <td>80</td>\n",
              "      <td>10</td>\n",
              "      <td>9</td>\n",
              "      <td>2018-11-19</td>\n",
              "      <td>0.10</td>\n",
              "      <td>1</td>\n",
              "      <td>0</td>\n",
              "    </tr>\n",
              "  </tbody>\n",
              "</table>\n",
              "</div>"
            ],
            "text/plain": [
              "     id  ... availability_365\n",
              "0  2539  ...              365\n",
              "1  2595  ...              355\n",
              "2  3647  ...              365\n",
              "3  3831  ...              194\n",
              "4  5022  ...                0\n",
              "\n",
              "[5 rows x 16 columns]"
            ]
          },
          "metadata": {},
          "execution_count": 203
        }
      ]
    },
    {
      "cell_type": "code",
      "metadata": {
        "colab": {
          "base_uri": "https://localhost:8080/"
        },
        "id": "KwwjmZlCSW-U",
        "outputId": "d5709fcb-e2df-4247-9440-efd958abe46c"
      },
      "source": [
        "price = df[\"price\"]\n",
        "price"
      ],
      "execution_count": 204,
      "outputs": [
        {
          "output_type": "execute_result",
          "data": {
            "text/plain": [
              "0        149\n",
              "1        225\n",
              "2        150\n",
              "3         89\n",
              "4         80\n",
              "        ... \n",
              "48890     70\n",
              "48891     40\n",
              "48892    115\n",
              "48893     55\n",
              "48894     90\n",
              "Name: price, Length: 48895, dtype: int64"
            ]
          },
          "metadata": {},
          "execution_count": 204
        }
      ]
    },
    {
      "cell_type": "code",
      "metadata": {
        "colab": {
          "base_uri": "https://localhost:8080/",
          "height": 296
        },
        "id": "2SSoh7irTZtB",
        "outputId": "a9277208-ea2a-474d-a4da-b631853f052d"
      },
      "source": [
        "sns.histplot(price, bins=25)"
      ],
      "execution_count": 205,
      "outputs": [
        {
          "output_type": "execute_result",
          "data": {
            "text/plain": [
              "<matplotlib.axes._subplots.AxesSubplot at 0x7faf2e04a750>"
            ]
          },
          "metadata": {},
          "execution_count": 205
        },
        {
          "output_type": "display_data",
          "data": {
            "image/png": "[encoded data removed]",
            "text/plain": [
              "<Figure size 432x288 with 1 Axes>"
            ]
          },
          "metadata": {
            "needs_background": "light"
          }
        }
      ]
    },
    {
      "cell_type": "markdown",
      "metadata": {
        "id": "IJQyUgZ8UAxm"
      },
      "source": [
        "# GETTING ONLY THE REQUIRED FEATURES"
      ]
    },
    {
      "cell_type": "code",
      "metadata": {
        "id": "qqa8xnJxTh8D"
      },
      "source": [
        "df = df[['latitude',\n",
        "'longitude',\n",
        "'price',\n",
        "'minimum_nights',\n",
        "'number_of_reviews',\n",
        "'reviews_per_month',\n",
        "'calculated_host_listings_count',\n",
        "'availability_365']]"
      ],
      "execution_count": 206,
      "outputs": []
    },
    {
      "cell_type": "code",
      "metadata": {
        "colab": {
          "base_uri": "https://localhost:8080/",
          "height": 204
        },
        "id": "QRiPp8H2UIbF",
        "outputId": "9df4dd1e-8d2d-4be7-8b9b-fc433a4056b6"
      },
      "source": [
        "df.head()"
      ],
      "execution_count": 207,
      "outputs": [
        {
          "output_type": "execute_result",
          "data": {
            "text/html": [
              "<div>\n",
              "<style scoped>\n",
              "    .dataframe tbody tr th:only-of-type {\n",
              "        vertical-align: middle;\n",
              "    }\n",
              "\n",
              "    .dataframe tbody tr th {\n",
              "        vertical-align: top;\n",
              "    }\n",
              "\n",
              "    .dataframe thead th {\n",
              "        text-align: right;\n",
              "    }\n",
              "</style>\n",
              "<table border=\"1\" class=\"dataframe\">\n",
              "  <thead>\n",
              "    <tr style=\"text-align: right;\">\n",
              "      <th></th>\n",
              "      <th>latitude</th>\n",
              "      <th>longitude</th>\n",
              "      <th>price</th>\n",
              "      <th>minimum_nights</th>\n",
              "      <th>number_of_reviews</th>\n",
              "      <th>reviews_per_month</th>\n",
              "      <th>calculated_host_listings_count</th>\n",
              "      <th>availability_365</th>\n",
              "    </tr>\n",
              "  </thead>\n",
              "  <tbody>\n",
              "    <tr>\n",
              "      <th>0</th>\n",
              "      <td>40.64749</td>\n",
              "      <td>-73.97237</td>\n",
              "      <td>149</td>\n",
              "      <td>1</td>\n",
              "      <td>9</td>\n",
              "      <td>0.21</td>\n",
              "      <td>6</td>\n",
              "      <td>365</td>\n",
              "    </tr>\n",
              "    <tr>\n",
              "      <th>1</th>\n",
              "      <td>40.75362</td>\n",
              "      <td>-73.98377</td>\n",
              "      <td>225</td>\n",
              "      <td>1</td>\n",
              "      <td>45</td>\n",
              "      <td>0.38</td>\n",
              "      <td>2</td>\n",
              "      <td>355</td>\n",
              "    </tr>\n",
              "    <tr>\n",
              "      <th>2</th>\n",
              "      <td>40.80902</td>\n",
              "      <td>-73.94190</td>\n",
              "      <td>150</td>\n",
              "      <td>3</td>\n",
              "      <td>0</td>\n",
              "      <td>NaN</td>\n",
              "      <td>1</td>\n",
              "      <td>365</td>\n",
              "    </tr>\n",
              "    <tr>\n",
              "      <th>3</th>\n",
              "      <td>40.68514</td>\n",
              "      <td>-73.95976</td>\n",
              "      <td>89</td>\n",
              "      <td>1</td>\n",
              "      <td>270</td>\n",
              "      <td>4.64</td>\n",
              "      <td>1</td>\n",
              "      <td>194</td>\n",
              "    </tr>\n",
              "    <tr>\n",
              "      <th>4</th>\n",
              "      <td>40.79851</td>\n",
              "      <td>-73.94399</td>\n",
              "      <td>80</td>\n",
              "      <td>10</td>\n",
              "      <td>9</td>\n",
              "      <td>0.10</td>\n",
              "      <td>1</td>\n",
              "      <td>0</td>\n",
              "    </tr>\n",
              "  </tbody>\n",
              "</table>\n",
              "</div>"
            ],
            "text/plain": [
              "   latitude  longitude  ...  calculated_host_listings_count  availability_365\n",
              "0  40.64749  -73.97237  ...                               6               365\n",
              "1  40.75362  -73.98377  ...                               2               355\n",
              "2  40.80902  -73.94190  ...                               1               365\n",
              "3  40.68514  -73.95976  ...                               1               194\n",
              "4  40.79851  -73.94399  ...                               1                 0\n",
              "\n",
              "[5 rows x 8 columns]"
            ]
          },
          "metadata": {},
          "execution_count": 207
        }
      ]
    },
    {
      "cell_type": "code",
      "metadata": {
        "colab": {
          "base_uri": "https://localhost:8080/"
        },
        "id": "DbVx2eTmUJ1E",
        "outputId": "b0eae960-7cb5-4020-cd8e-51b983d11026"
      },
      "source": [
        "len(df.columns)"
      ],
      "execution_count": 208,
      "outputs": [
        {
          "output_type": "execute_result",
          "data": {
            "text/plain": [
              "8"
            ]
          },
          "metadata": {},
          "execution_count": 208
        }
      ]
    },
    {
      "cell_type": "markdown",
      "metadata": {
        "id": "gYg0IAnmc_Q_"
      },
      "source": [
        "# Question 1\n",
        "## Find a feature with missing values. How many missing values does it have?\n",
        "\n",
        "*   reviews_per_month                 10052\n",
        "\n",
        "\n"
      ]
    },
    {
      "cell_type": "code",
      "metadata": {
        "colab": {
          "base_uri": "https://localhost:8080/"
        },
        "id": "ChcDqu51Vx1C",
        "outputId": "f6d70ea2-9d23-4201-dde4-236705410cf2"
      },
      "source": [
        "df.isnull().sum()"
      ],
      "execution_count": 209,
      "outputs": [
        {
          "output_type": "execute_result",
          "data": {
            "text/plain": [
              "latitude                              0\n",
              "longitude                             0\n",
              "price                                 0\n",
              "minimum_nights                        0\n",
              "number_of_reviews                     0\n",
              "reviews_per_month                 10052\n",
              "calculated_host_listings_count        0\n",
              "availability_365                      0\n",
              "dtype: int64"
            ]
          },
          "metadata": {},
          "execution_count": 209
        }
      ]
    },
    {
      "cell_type": "markdown",
      "metadata": {
        "id": "JVuFZAoodENG"
      },
      "source": [
        "# Question 2\n",
        "## What's the median (50% percentile) for variable 'minimum_nights'?\n",
        "\n"
      ]
    },
    {
      "cell_type": "code",
      "metadata": {
        "colab": {
          "base_uri": "https://localhost:8080/"
        },
        "id": "ANfMM6hXWDh0",
        "outputId": "aadf1bd4-167e-4eb1-d9d9-4bb0307b0e4d"
      },
      "source": [
        "df['minimum_nights'].describe()"
      ],
      "execution_count": 210,
      "outputs": [
        {
          "output_type": "execute_result",
          "data": {
            "text/plain": [
              "count    48895.000000\n",
              "mean         7.029962\n",
              "std         20.510550\n",
              "min          1.000000\n",
              "25%          1.000000\n",
              "50%          3.000000\n",
              "75%          5.000000\n",
              "max       1250.000000\n",
              "Name: minimum_nights, dtype: float64"
            ]
          },
          "metadata": {},
          "execution_count": 210
        }
      ]
    },
    {
      "cell_type": "markdown",
      "metadata": {
        "id": "fnA6jeoQdowP"
      },
      "source": [
        "Split the data\n",
        "* Shuffle the initial dataset, use seed 42.\n",
        "* Split your data in train/val/test sets, with 60%/20%/20% distribution.\n",
        "* Make sure that the target value ('price') is not in your dataframe.\n",
        "* Apply the log transformation to the price variable using the np.log1p() function.\n"
      ]
    },
    {
      "cell_type": "code",
      "metadata": {
        "id": "qbZCRHy7dvjZ"
      },
      "source": [
        "np.random.seed(42)"
      ],
      "execution_count": 211,
      "outputs": []
    },
    {
      "cell_type": "code",
      "metadata": {
        "colab": {
          "base_uri": "https://localhost:8080/"
        },
        "id": "w85nQhDxelEP",
        "outputId": "1e513506-e351-4c16-86d1-21b427d3ffdc"
      },
      "source": [
        "n = len(df)\n",
        "n"
      ],
      "execution_count": 212,
      "outputs": [
        {
          "output_type": "execute_result",
          "data": {
            "text/plain": [
              "48895"
            ]
          },
          "metadata": {},
          "execution_count": 212
        }
      ]
    },
    {
      "cell_type": "code",
      "metadata": {
        "colab": {
          "base_uri": "https://localhost:8080/"
        },
        "id": "PE6XCnN6eCjQ",
        "outputId": "7b788bd8-1aa7-4306-c34b-e6f9c39705c6"
      },
      "source": [
        "idx = np.arange(n)\n",
        "idx"
      ],
      "execution_count": 213,
      "outputs": [
        {
          "output_type": "execute_result",
          "data": {
            "text/plain": [
              "array([    0,     1,     2, ..., 48892, 48893, 48894])"
            ]
          },
          "metadata": {},
          "execution_count": 213
        }
      ]
    },
    {
      "cell_type": "code",
      "metadata": {
        "colab": {
          "base_uri": "https://localhost:8080/"
        },
        "id": "Bk44OcpieVVZ",
        "outputId": "aade59f2-2958-40cd-e8eb-989f35f4fdf9"
      },
      "source": [
        "np.random.shuffle(idx)\n",
        "idx"
      ],
      "execution_count": 214,
      "outputs": [
        {
          "output_type": "execute_result",
          "data": {
            "text/plain": [
              "array([  879, 44383, 15394, ..., 38158,   860, 15795])"
            ]
          },
          "metadata": {},
          "execution_count": 214
        }
      ]
    },
    {
      "cell_type": "code",
      "metadata": {
        "colab": {
          "base_uri": "https://localhost:8080/"
        },
        "id": "hPhX5PrkfMxW",
        "outputId": "a97f8503-537e-4847-b17f-0760553a600f"
      },
      "source": [
        "n_train = int(n * 0.6) \n",
        "n_val = int(n * 0.2) \n",
        "n_test = int(n * 0.2) \n",
        "\n",
        "n_train, n_val , n_test"
      ],
      "execution_count": 215,
      "outputs": [
        {
          "output_type": "execute_result",
          "data": {
            "text/plain": [
              "(29337, 9779, 9779)"
            ]
          },
          "metadata": {},
          "execution_count": 215
        }
      ]
    },
    {
      "cell_type": "markdown",
      "metadata": {
        "id": "V5j-tCeGmQRb"
      },
      "source": [
        "**Seeing how we can get our shuffled dataset**"
      ]
    },
    {
      "cell_type": "code",
      "metadata": {
        "colab": {
          "base_uri": "https://localhost:8080/",
          "height": 204
        },
        "id": "Hx9rPeWcf_b0",
        "outputId": "e1e30033-309d-4ebe-9c90-e057f7e1d126"
      },
      "source": [
        "df.head()"
      ],
      "execution_count": 216,
      "outputs": [
        {
          "output_type": "execute_result",
          "data": {
            "text/html": [
              "<div>\n",
              "<style scoped>\n",
              "    .dataframe tbody tr th:only-of-type {\n",
              "        vertical-align: middle;\n",
              "    }\n",
              "\n",
              "    .dataframe tbody tr th {\n",
              "        vertical-align: top;\n",
              "    }\n",
              "\n",
              "    .dataframe thead th {\n",
              "        text-align: right;\n",
              "    }\n",
              "</style>\n",
              "<table border=\"1\" class=\"dataframe\">\n",
              "  <thead>\n",
              "    <tr style=\"text-align: right;\">\n",
              "      <th></th>\n",
              "      <th>latitude</th>\n",
              "      <th>longitude</th>\n",
              "      <th>price</th>\n",
              "      <th>minimum_nights</th>\n",
              "      <th>number_of_reviews</th>\n",
              "      <th>reviews_per_month</th>\n",
              "      <th>calculated_host_listings_count</th>\n",
              "      <th>availability_365</th>\n",
              "    </tr>\n",
              "  </thead>\n",
              "  <tbody>\n",
              "    <tr>\n",
              "      <th>0</th>\n",
              "      <td>40.64749</td>\n",
              "      <td>-73.97237</td>\n",
              "      <td>149</td>\n",
              "      <td>1</td>\n",
              "      <td>9</td>\n",
              "      <td>0.21</td>\n",
              "      <td>6</td>\n",
              "      <td>365</td>\n",
              "    </tr>\n",
              "    <tr>\n",
              "      <th>1</th>\n",
              "      <td>40.75362</td>\n",
              "      <td>-73.98377</td>\n",
              "      <td>225</td>\n",
              "      <td>1</td>\n",
              "      <td>45</td>\n",
              "      <td>0.38</td>\n",
              "      <td>2</td>\n",
              "      <td>355</td>\n",
              "    </tr>\n",
              "    <tr>\n",
              "      <th>2</th>\n",
              "      <td>40.80902</td>\n",
              "      <td>-73.94190</td>\n",
              "      <td>150</td>\n",
              "      <td>3</td>\n",
              "      <td>0</td>\n",
              "      <td>NaN</td>\n",
              "      <td>1</td>\n",
              "      <td>365</td>\n",
              "    </tr>\n",
              "    <tr>\n",
              "      <th>3</th>\n",
              "      <td>40.68514</td>\n",
              "      <td>-73.95976</td>\n",
              "      <td>89</td>\n",
              "      <td>1</td>\n",
              "      <td>270</td>\n",
              "      <td>4.64</td>\n",
              "      <td>1</td>\n",
              "      <td>194</td>\n",
              "    </tr>\n",
              "    <tr>\n",
              "      <th>4</th>\n",
              "      <td>40.79851</td>\n",
              "      <td>-73.94399</td>\n",
              "      <td>80</td>\n",
              "      <td>10</td>\n",
              "      <td>9</td>\n",
              "      <td>0.10</td>\n",
              "      <td>1</td>\n",
              "      <td>0</td>\n",
              "    </tr>\n",
              "  </tbody>\n",
              "</table>\n",
              "</div>"
            ],
            "text/plain": [
              "   latitude  longitude  ...  calculated_host_listings_count  availability_365\n",
              "0  40.64749  -73.97237  ...                               6               365\n",
              "1  40.75362  -73.98377  ...                               2               355\n",
              "2  40.80902  -73.94190  ...                               1               365\n",
              "3  40.68514  -73.95976  ...                               1               194\n",
              "4  40.79851  -73.94399  ...                               1                 0\n",
              "\n",
              "[5 rows x 8 columns]"
            ]
          },
          "metadata": {},
          "execution_count": 216
        }
      ]
    },
    {
      "cell_type": "code",
      "metadata": {
        "colab": {
          "base_uri": "https://localhost:8080/"
        },
        "id": "d_bU_y3rhlge",
        "outputId": "2e0bc028-9965-4e32-865c-3153a3c2a134"
      },
      "source": [
        "idx[:n_train][:5]"
      ],
      "execution_count": 217,
      "outputs": [
        {
          "output_type": "execute_result",
          "data": {
            "text/plain": [
              "array([  879, 44383, 15394, 43230, 16332])"
            ]
          },
          "metadata": {},
          "execution_count": 217
        }
      ]
    },
    {
      "cell_type": "code",
      "metadata": {
        "colab": {
          "base_uri": "https://localhost:8080/",
          "height": 204
        },
        "id": "lhOsnZyJko-Y",
        "outputId": "c21141aa-787d-4a3f-e001-9c6cc87993f2"
      },
      "source": [
        "df.iloc[:n_train][:5]"
      ],
      "execution_count": 218,
      "outputs": [
        {
          "output_type": "execute_result",
          "data": {
            "text/html": [
              "<div>\n",
              "<style scoped>\n",
              "    .dataframe tbody tr th:only-of-type {\n",
              "        vertical-align: middle;\n",
              "    }\n",
              "\n",
              "    .dataframe tbody tr th {\n",
              "        vertical-align: top;\n",
              "    }\n",
              "\n",
              "    .dataframe thead th {\n",
              "        text-align: right;\n",
              "    }\n",
              "</style>\n",
              "<table border=\"1\" class=\"dataframe\">\n",
              "  <thead>\n",
              "    <tr style=\"text-align: right;\">\n",
              "      <th></th>\n",
              "      <th>latitude</th>\n",
              "      <th>longitude</th>\n",
              "      <th>price</th>\n",
              "      <th>minimum_nights</th>\n",
              "      <th>number_of_reviews</th>\n",
              "      <th>reviews_per_month</th>\n",
              "      <th>calculated_host_listings_count</th>\n",
              "      <th>availability_365</th>\n",
              "    </tr>\n",
              "  </thead>\n",
              "  <tbody>\n",
              "    <tr>\n",
              "      <th>0</th>\n",
              "      <td>40.64749</td>\n",
              "      <td>-73.97237</td>\n",
              "      <td>149</td>\n",
              "      <td>1</td>\n",
              "      <td>9</td>\n",
              "      <td>0.21</td>\n",
              "      <td>6</td>\n",
              "      <td>365</td>\n",
              "    </tr>\n",
              "    <tr>\n",
              "      <th>1</th>\n",
              "      <td>40.75362</td>\n",
              "      <td>-73.98377</td>\n",
              "      <td>225</td>\n",
              "      <td>1</td>\n",
              "      <td>45</td>\n",
              "      <td>0.38</td>\n",
              "      <td>2</td>\n",
              "      <td>355</td>\n",
              "    </tr>\n",
              "    <tr>\n",
              "      <th>2</th>\n",
              "      <td>40.80902</td>\n",
              "      <td>-73.94190</td>\n",
              "      <td>150</td>\n",
              "      <td>3</td>\n",
              "      <td>0</td>\n",
              "      <td>NaN</td>\n",
              "      <td>1</td>\n",
              "      <td>365</td>\n",
              "    </tr>\n",
              "    <tr>\n",
              "      <th>3</th>\n",
              "      <td>40.68514</td>\n",
              "      <td>-73.95976</td>\n",
              "      <td>89</td>\n",
              "      <td>1</td>\n",
              "      <td>270</td>\n",
              "      <td>4.64</td>\n",
              "      <td>1</td>\n",
              "      <td>194</td>\n",
              "    </tr>\n",
              "    <tr>\n",
              "      <th>4</th>\n",
              "      <td>40.79851</td>\n",
              "      <td>-73.94399</td>\n",
              "      <td>80</td>\n",
              "      <td>10</td>\n",
              "      <td>9</td>\n",
              "      <td>0.10</td>\n",
              "      <td>1</td>\n",
              "      <td>0</td>\n",
              "    </tr>\n",
              "  </tbody>\n",
              "</table>\n",
              "</div>"
            ],
            "text/plain": [
              "   latitude  longitude  ...  calculated_host_listings_count  availability_365\n",
              "0  40.64749  -73.97237  ...                               6               365\n",
              "1  40.75362  -73.98377  ...                               2               355\n",
              "2  40.80902  -73.94190  ...                               1               365\n",
              "3  40.68514  -73.95976  ...                               1               194\n",
              "4  40.79851  -73.94399  ...                               1                 0\n",
              "\n",
              "[5 rows x 8 columns]"
            ]
          },
          "metadata": {},
          "execution_count": 218
        }
      ]
    },
    {
      "cell_type": "code",
      "metadata": {
        "colab": {
          "base_uri": "https://localhost:8080/",
          "height": 204
        },
        "id": "l0wGwzt5f5rp",
        "outputId": "8fce4719-af78-4a7c-83b7-26290ca7d526"
      },
      "source": [
        "df.iloc[idx[:n_train]][:5]"
      ],
      "execution_count": 219,
      "outputs": [
        {
          "output_type": "execute_result",
          "data": {
            "text/html": [
              "<div>\n",
              "<style scoped>\n",
              "    .dataframe tbody tr th:only-of-type {\n",
              "        vertical-align: middle;\n",
              "    }\n",
              "\n",
              "    .dataframe tbody tr th {\n",
              "        vertical-align: top;\n",
              "    }\n",
              "\n",
              "    .dataframe thead th {\n",
              "        text-align: right;\n",
              "    }\n",
              "</style>\n",
              "<table border=\"1\" class=\"dataframe\">\n",
              "  <thead>\n",
              "    <tr style=\"text-align: right;\">\n",
              "      <th></th>\n",
              "      <th>latitude</th>\n",
              "      <th>longitude</th>\n",
              "      <th>price</th>\n",
              "      <th>minimum_nights</th>\n",
              "      <th>number_of_reviews</th>\n",
              "      <th>reviews_per_month</th>\n",
              "      <th>calculated_host_listings_count</th>\n",
              "      <th>availability_365</th>\n",
              "    </tr>\n",
              "  </thead>\n",
              "  <tbody>\n",
              "    <tr>\n",
              "      <th>879</th>\n",
              "      <td>40.64354</td>\n",
              "      <td>-73.97777</td>\n",
              "      <td>89</td>\n",
              "      <td>3</td>\n",
              "      <td>62</td>\n",
              "      <td>0.71</td>\n",
              "      <td>1</td>\n",
              "      <td>189</td>\n",
              "    </tr>\n",
              "    <tr>\n",
              "      <th>44383</th>\n",
              "      <td>40.70666</td>\n",
              "      <td>-73.90779</td>\n",
              "      <td>30</td>\n",
              "      <td>21</td>\n",
              "      <td>0</td>\n",
              "      <td>NaN</td>\n",
              "      <td>1</td>\n",
              "      <td>73</td>\n",
              "    </tr>\n",
              "    <tr>\n",
              "      <th>15394</th>\n",
              "      <td>40.76116</td>\n",
              "      <td>-73.99016</td>\n",
              "      <td>120</td>\n",
              "      <td>2</td>\n",
              "      <td>17</td>\n",
              "      <td>0.43</td>\n",
              "      <td>1</td>\n",
              "      <td>0</td>\n",
              "    </tr>\n",
              "    <tr>\n",
              "      <th>43230</th>\n",
              "      <td>40.70763</td>\n",
              "      <td>-74.01050</td>\n",
              "      <td>470</td>\n",
              "      <td>2</td>\n",
              "      <td>5</td>\n",
              "      <td>1.88</td>\n",
              "      <td>327</td>\n",
              "      <td>272</td>\n",
              "    </tr>\n",
              "    <tr>\n",
              "      <th>16332</th>\n",
              "      <td>40.79658</td>\n",
              "      <td>-73.93287</td>\n",
              "      <td>199</td>\n",
              "      <td>2</td>\n",
              "      <td>30</td>\n",
              "      <td>0.80</td>\n",
              "      <td>1</td>\n",
              "      <td>30</td>\n",
              "    </tr>\n",
              "  </tbody>\n",
              "</table>\n",
              "</div>"
            ],
            "text/plain": [
              "       latitude  longitude  ...  calculated_host_listings_count  availability_365\n",
              "879    40.64354  -73.97777  ...                               1               189\n",
              "44383  40.70666  -73.90779  ...                               1                73\n",
              "15394  40.76116  -73.99016  ...                               1                 0\n",
              "43230  40.70763  -74.01050  ...                             327               272\n",
              "16332  40.79658  -73.93287  ...                               1                30\n",
              "\n",
              "[5 rows x 8 columns]"
            ]
          },
          "metadata": {},
          "execution_count": 219
        }
      ]
    },
    {
      "cell_type": "markdown",
      "metadata": {
        "id": "PZsZa4KBmGsM"
      },
      "source": [
        "**Checking the total number of train, val and test dataset**"
      ]
    },
    {
      "cell_type": "code",
      "metadata": {
        "colab": {
          "base_uri": "https://localhost:8080/"
        },
        "id": "JznCZO4NfeyW",
        "outputId": "30cef212-da0f-43fb-e359-ba5cb8719f68"
      },
      "source": [
        "df_train = df.iloc[idx[:n_train]]\n",
        "len(df_train)"
      ],
      "execution_count": 220,
      "outputs": [
        {
          "output_type": "execute_result",
          "data": {
            "text/plain": [
              "29337"
            ]
          },
          "metadata": {},
          "execution_count": 220
        }
      ]
    },
    {
      "cell_type": "code",
      "metadata": {
        "colab": {
          "base_uri": "https://localhost:8080/"
        },
        "id": "bcKZ_829for-",
        "outputId": "7551fd3f-8535-4ed4-be83-ca02c4d4fe75"
      },
      "source": [
        "df_val = df.iloc[idx[n_train:n_train + n_val]]\n",
        "len(df_val)"
      ],
      "execution_count": 221,
      "outputs": [
        {
          "output_type": "execute_result",
          "data": {
            "text/plain": [
              "9779"
            ]
          },
          "metadata": {},
          "execution_count": 221
        }
      ]
    },
    {
      "cell_type": "code",
      "metadata": {
        "colab": {
          "base_uri": "https://localhost:8080/"
        },
        "id": "zOB_rZ5fln4C",
        "outputId": "3f0e5b5b-b39f-4c05-b70c-200993043023"
      },
      "source": [
        "df_test = df.iloc[idx[n_train + n_val:]]\n",
        "len(df_test)"
      ],
      "execution_count": 222,
      "outputs": [
        {
          "output_type": "execute_result",
          "data": {
            "text/plain": [
              "9779"
            ]
          },
          "metadata": {},
          "execution_count": 222
        }
      ]
    },
    {
      "cell_type": "markdown",
      "metadata": {
        "id": "Fm3Na0wEnfS7"
      },
      "source": [
        "**Our Final Dataset**"
      ]
    },
    {
      "cell_type": "code",
      "metadata": {
        "colab": {
          "base_uri": "https://localhost:8080/",
          "height": 173
        },
        "id": "F8T8HUhUneq6",
        "outputId": "a61b4b22-73eb-40ca-e615-fad085372561"
      },
      "source": [
        "df_train[:4]"
      ],
      "execution_count": 223,
      "outputs": [
        {
          "output_type": "execute_result",
          "data": {
            "text/html": [
              "<div>\n",
              "<style scoped>\n",
              "    .dataframe tbody tr th:only-of-type {\n",
              "        vertical-align: middle;\n",
              "    }\n",
              "\n",
              "    .dataframe tbody tr th {\n",
              "        vertical-align: top;\n",
              "    }\n",
              "\n",
              "    .dataframe thead th {\n",
              "        text-align: right;\n",
              "    }\n",
              "</style>\n",
              "<table border=\"1\" class=\"dataframe\">\n",
              "  <thead>\n",
              "    <tr style=\"text-align: right;\">\n",
              "      <th></th>\n",
              "      <th>latitude</th>\n",
              "      <th>longitude</th>\n",
              "      <th>price</th>\n",
              "      <th>minimum_nights</th>\n",
              "      <th>number_of_reviews</th>\n",
              "      <th>reviews_per_month</th>\n",
              "      <th>calculated_host_listings_count</th>\n",
              "      <th>availability_365</th>\n",
              "    </tr>\n",
              "  </thead>\n",
              "  <tbody>\n",
              "    <tr>\n",
              "      <th>879</th>\n",
              "      <td>40.64354</td>\n",
              "      <td>-73.97777</td>\n",
              "      <td>89</td>\n",
              "      <td>3</td>\n",
              "      <td>62</td>\n",
              "      <td>0.71</td>\n",
              "      <td>1</td>\n",
              "      <td>189</td>\n",
              "    </tr>\n",
              "    <tr>\n",
              "      <th>44383</th>\n",
              "      <td>40.70666</td>\n",
              "      <td>-73.90779</td>\n",
              "      <td>30</td>\n",
              "      <td>21</td>\n",
              "      <td>0</td>\n",
              "      <td>NaN</td>\n",
              "      <td>1</td>\n",
              "      <td>73</td>\n",
              "    </tr>\n",
              "    <tr>\n",
              "      <th>15394</th>\n",
              "      <td>40.76116</td>\n",
              "      <td>-73.99016</td>\n",
              "      <td>120</td>\n",
              "      <td>2</td>\n",
              "      <td>17</td>\n",
              "      <td>0.43</td>\n",
              "      <td>1</td>\n",
              "      <td>0</td>\n",
              "    </tr>\n",
              "    <tr>\n",
              "      <th>43230</th>\n",
              "      <td>40.70763</td>\n",
              "      <td>-74.01050</td>\n",
              "      <td>470</td>\n",
              "      <td>2</td>\n",
              "      <td>5</td>\n",
              "      <td>1.88</td>\n",
              "      <td>327</td>\n",
              "      <td>272</td>\n",
              "    </tr>\n",
              "  </tbody>\n",
              "</table>\n",
              "</div>"
            ],
            "text/plain": [
              "       latitude  longitude  ...  calculated_host_listings_count  availability_365\n",
              "879    40.64354  -73.97777  ...                               1               189\n",
              "44383  40.70666  -73.90779  ...                               1                73\n",
              "15394  40.76116  -73.99016  ...                               1                 0\n",
              "43230  40.70763  -74.01050  ...                             327               272\n",
              "\n",
              "[4 rows x 8 columns]"
            ]
          },
          "metadata": {},
          "execution_count": 223
        }
      ]
    },
    {
      "cell_type": "code",
      "metadata": {
        "colab": {
          "base_uri": "https://localhost:8080/",
          "height": 173
        },
        "id": "zogbuCXmnvyy",
        "outputId": "b5dbc60a-971d-4227-907e-c91f20dfb559"
      },
      "source": [
        "df_train = df_train.reset_index(drop=True)\n",
        "df_train[:4]"
      ],
      "execution_count": 224,
      "outputs": [
        {
          "output_type": "execute_result",
          "data": {
            "text/html": [
              "<div>\n",
              "<style scoped>\n",
              "    .dataframe tbody tr th:only-of-type {\n",
              "        vertical-align: middle;\n",
              "    }\n",
              "\n",
              "    .dataframe tbody tr th {\n",
              "        vertical-align: top;\n",
              "    }\n",
              "\n",
              "    .dataframe thead th {\n",
              "        text-align: right;\n",
              "    }\n",
              "</style>\n",
              "<table border=\"1\" class=\"dataframe\">\n",
              "  <thead>\n",
              "    <tr style=\"text-align: right;\">\n",
              "      <th></th>\n",
              "      <th>latitude</th>\n",
              "      <th>longitude</th>\n",
              "      <th>price</th>\n",
              "      <th>minimum_nights</th>\n",
              "      <th>number_of_reviews</th>\n",
              "      <th>reviews_per_month</th>\n",
              "      <th>calculated_host_listings_count</th>\n",
              "      <th>availability_365</th>\n",
              "    </tr>\n",
              "  </thead>\n",
              "  <tbody>\n",
              "    <tr>\n",
              "      <th>0</th>\n",
              "      <td>40.64354</td>\n",
              "      <td>-73.97777</td>\n",
              "      <td>89</td>\n",
              "      <td>3</td>\n",
              "      <td>62</td>\n",
              "      <td>0.71</td>\n",
              "      <td>1</td>\n",
              "      <td>189</td>\n",
              "    </tr>\n",
              "    <tr>\n",
              "      <th>1</th>\n",
              "      <td>40.70666</td>\n",
              "      <td>-73.90779</td>\n",
              "      <td>30</td>\n",
              "      <td>21</td>\n",
              "      <td>0</td>\n",
              "      <td>NaN</td>\n",
              "      <td>1</td>\n",
              "      <td>73</td>\n",
              "    </tr>\n",
              "    <tr>\n",
              "      <th>2</th>\n",
              "      <td>40.76116</td>\n",
              "      <td>-73.99016</td>\n",
              "      <td>120</td>\n",
              "      <td>2</td>\n",
              "      <td>17</td>\n",
              "      <td>0.43</td>\n",
              "      <td>1</td>\n",
              "      <td>0</td>\n",
              "    </tr>\n",
              "    <tr>\n",
              "      <th>3</th>\n",
              "      <td>40.70763</td>\n",
              "      <td>-74.01050</td>\n",
              "      <td>470</td>\n",
              "      <td>2</td>\n",
              "      <td>5</td>\n",
              "      <td>1.88</td>\n",
              "      <td>327</td>\n",
              "      <td>272</td>\n",
              "    </tr>\n",
              "  </tbody>\n",
              "</table>\n",
              "</div>"
            ],
            "text/plain": [
              "   latitude  longitude  ...  calculated_host_listings_count  availability_365\n",
              "0  40.64354  -73.97777  ...                               1               189\n",
              "1  40.70666  -73.90779  ...                               1                73\n",
              "2  40.76116  -73.99016  ...                               1                 0\n",
              "3  40.70763  -74.01050  ...                             327               272\n",
              "\n",
              "[4 rows x 8 columns]"
            ]
          },
          "metadata": {},
          "execution_count": 224
        }
      ]
    },
    {
      "cell_type": "code",
      "metadata": {
        "id": "RZOl1jYGn35U"
      },
      "source": [
        "df_val = df_val.reset_index(drop=True)\n",
        "df_test = df_test.reset_index(drop=True)"
      ],
      "execution_count": 225,
      "outputs": []
    },
    {
      "cell_type": "markdown",
      "metadata": {
        "id": "f2Tw6rVqmb2A"
      },
      "source": [
        "**Separating our target value from the original dataset**"
      ]
    },
    {
      "cell_type": "code",
      "metadata": {
        "id": "mUslv5r4ZaVt",
        "outputId": "1c105099-135b-4556-86a7-fb01923c97cf",
        "colab": {
          "base_uri": "https://localhost:8080/"
        }
      },
      "source": [
        "y_train = np.log1p(df_train.price.values)\n",
        "y_train[:4]"
      ],
      "execution_count": 226,
      "outputs": [
        {
          "output_type": "execute_result",
          "data": {
            "text/plain": [
              "array([4.49980967, 3.4339872 , 4.79579055, 6.15485809])"
            ]
          },
          "metadata": {},
          "execution_count": 226
        }
      ]
    },
    {
      "cell_type": "code",
      "metadata": {
        "id": "HbawczWjZot0"
      },
      "source": [
        "y_val = np.log1p(df_val.price.values)\n",
        "y_test = np.log1p(df_test.price.values)"
      ],
      "execution_count": 227,
      "outputs": []
    },
    {
      "cell_type": "code",
      "metadata": {
        "id": "1SK_irFHZuIb"
      },
      "source": [
        "del df_train['price']\n",
        "del df_val['price']\n",
        "del df_test['price']"
      ],
      "execution_count": 228,
      "outputs": []
    },
    {
      "cell_type": "markdown",
      "metadata": {
        "id": "ktMCHNDTl-Co"
      },
      "source": [
        "**Checking if division of the data is as required**"
      ]
    },
    {
      "cell_type": "code",
      "metadata": {
        "colab": {
          "base_uri": "https://localhost:8080/"
        },
        "id": "o3owgLsZlul3",
        "outputId": "cdb30a40-c9e6-49a7-f9d6-9ecf925719d2"
      },
      "source": [
        "len(df_test) + len(df_val) + len(df_train) == n"
      ],
      "execution_count": 229,
      "outputs": [
        {
          "output_type": "execute_result",
          "data": {
            "text/plain": [
              "True"
            ]
          },
          "metadata": {},
          "execution_count": 229
        }
      ]
    },
    {
      "cell_type": "code",
      "metadata": {
        "colab": {
          "base_uri": "https://localhost:8080/"
        },
        "id": "9Tz0EwY3mtbb",
        "outputId": "7d6c632a-8087-4386-83ed-2301731bc030"
      },
      "source": [
        "df_train.columns"
      ],
      "execution_count": 230,
      "outputs": [
        {
          "output_type": "execute_result",
          "data": {
            "text/plain": [
              "Index(['latitude', 'longitude', 'minimum_nights', 'number_of_reviews',\n",
              "       'reviews_per_month', 'calculated_host_listings_count',\n",
              "       'availability_365'],\n",
              "      dtype='object')"
            ]
          },
          "metadata": {},
          "execution_count": 230
        }
      ]
    },
    {
      "cell_type": "code",
      "metadata": {
        "colab": {
          "base_uri": "https://localhost:8080/"
        },
        "id": "mHq12SWkmmkf",
        "outputId": "f15463f3-6ff9-4408-d959-5ed437b41380"
      },
      "source": [
        "\"price\" in df_train.columns"
      ],
      "execution_count": 231,
      "outputs": [
        {
          "output_type": "execute_result",
          "data": {
            "text/plain": [
              "False"
            ]
          },
          "metadata": {},
          "execution_count": 231
        }
      ]
    },
    {
      "cell_type": "markdown",
      "metadata": {
        "id": "bSovYlHPm3Ir"
      },
      "source": [
        "Apply the log transformation to the price variable using the `np.log1p() ` function."
      ]
    },
    {
      "cell_type": "code",
      "metadata": {
        "colab": {
          "base_uri": "https://localhost:8080/"
        },
        "id": "OGzkW5xdo0Kf",
        "outputId": "cde2d8bc-c120-4654-8b16-4b83f98f55a3"
      },
      "source": [
        "np.log(150), np.log1p(149), np.log(150) == np.log1p(149)"
      ],
      "execution_count": 232,
      "outputs": [
        {
          "output_type": "execute_result",
          "data": {
            "text/plain": [
              "(5.0106352940962555, 5.0106352940962555, True)"
            ]
          },
          "metadata": {},
          "execution_count": 232
        }
      ]
    },
    {
      "cell_type": "markdown",
      "metadata": {
        "id": "HncE2ZsuW-0t"
      },
      "source": [
        "# Question 3: Finding out the better RMSE "
      ]
    },
    {
      "cell_type": "markdown",
      "metadata": {
        "id": "8Y0cIKQMXBUR"
      },
      "source": [
        "###  Our Linear Regression Function\n",
        "- Ones is for the bias term\n",
        "- `X.T.dot(X)` is a gram matrix with dimension `n+1 X n+1`\n",
        "- `n+1` because we added the ones \n"
      ]
    },
    {
      "cell_type": "code",
      "metadata": {
        "id": "Dgb_7O5xXF30"
      },
      "source": [
        "def train_linear_regression(X, y):\n",
        "  \"\"\"\n",
        "  pass the numpy array of the features(X) and output(y)\n",
        "  returns bias and weight terms\n",
        "  \"\"\"\n",
        "  ones = np.ones(X.shape[0])\n",
        "  X = np.column_stack([ones, X])\n",
        "\n",
        "  XTX = X.T.dot(X) # Gram matrix\n",
        "  XTX_inv = np.linalg.inv(XTX)\n",
        "  w_full = XTX_inv.dot(X.T).dot(y)\n",
        "\n",
        "  return w_full[0], w_full[1:]"
      ],
      "execution_count": 233,
      "outputs": []
    },
    {
      "cell_type": "markdown",
      "metadata": {
        "id": "8HJp7VxnXGvf"
      },
      "source": [
        "## fill it with 0 or with the mean of this variable\n",
        "  - train a linear regression model without regularization\n",
        "  - For computing the mean, using the training only\n",
        "  "
      ]
    },
    {
      "cell_type": "code",
      "metadata": {
        "id": "zw2GnD1ko3sJ"
      },
      "source": [
        "def prepare_X_with_0(df):\n",
        "  df = df.copy()\n",
        "  df = df.fillna(0)\n",
        "  X = df.values\n",
        "  return X"
      ],
      "execution_count": 234,
      "outputs": []
    },
    {
      "cell_type": "code",
      "metadata": {
        "id": "uRNV8_lWXVTw",
        "outputId": "5500659e-1c39-4481-eb2e-98c89d3f7ba5",
        "colab": {
          "base_uri": "https://localhost:8080/"
        }
      },
      "source": [
        "df_train.isnull().sum(), df.isnull().sum()"
      ],
      "execution_count": 235,
      "outputs": [
        {
          "output_type": "execute_result",
          "data": {
            "text/plain": [
              "(latitude                             0\n",
              " longitude                            0\n",
              " minimum_nights                       0\n",
              " number_of_reviews                    0\n",
              " reviews_per_month                 5998\n",
              " calculated_host_listings_count       0\n",
              " availability_365                     0\n",
              " dtype: int64, latitude                              0\n",
              " longitude                             0\n",
              " price                                 0\n",
              " minimum_nights                        0\n",
              " number_of_reviews                     0\n",
              " reviews_per_month                 10052\n",
              " calculated_host_listings_count        0\n",
              " availability_365                      0\n",
              " dtype: int64)"
            ]
          },
          "metadata": {},
          "execution_count": 235
        }
      ]
    },
    {
      "cell_type": "code",
      "metadata": {
        "id": "KLWPEsJOkef9",
        "outputId": "238ba6e2-e25e-429d-93ed-164294534c4f",
        "colab": {
          "base_uri": "https://localhost:8080/"
        }
      },
      "source": [
        "prepare_X_with_0(df)"
      ],
      "execution_count": 236,
      "outputs": [
        {
          "output_type": "execute_result",
          "data": {
            "text/plain": [
              "array([[ 4.064749e+01, -7.397237e+01,  1.490000e+02, ...,  2.100000e-01,\n",
              "         6.000000e+00,  3.650000e+02],\n",
              "       [ 4.075362e+01, -7.398377e+01,  2.250000e+02, ...,  3.800000e-01,\n",
              "         2.000000e+00,  3.550000e+02],\n",
              "       [ 4.080902e+01, -7.394190e+01,  1.500000e+02, ...,  0.000000e+00,\n",
              "         1.000000e+00,  3.650000e+02],\n",
              "       ...,\n",
              "       [ 4.081475e+01, -7.394867e+01,  1.150000e+02, ...,  0.000000e+00,\n",
              "         1.000000e+00,  2.700000e+01],\n",
              "       [ 4.075751e+01, -7.399112e+01,  5.500000e+01, ...,  0.000000e+00,\n",
              "         6.000000e+00,  2.000000e+00],\n",
              "       [ 4.076404e+01, -7.398933e+01,  9.000000e+01, ...,  0.000000e+00,\n",
              "         1.000000e+00,  2.300000e+01]])"
            ]
          },
          "metadata": {},
          "execution_count": 236
        }
      ]
    },
    {
      "cell_type": "code",
      "metadata": {
        "id": "02igDmtpFIHe"
      },
      "source": [
        "def prepare_X_with_mean(df):\n",
        "  df = df.copy()\n",
        "  # For computing the mean, only training is used\n",
        "  df = df.fillna(df['reviews_per_month'].mean())\n",
        "  X = df.values\n",
        "  return X"
      ],
      "execution_count": 237,
      "outputs": []
    },
    {
      "cell_type": "code",
      "metadata": {
        "id": "xAz3vBtUHaYg"
      },
      "source": [
        "X_t_0 = prepare_X_with_0(df_train)\n",
        "w0_0, w_0 = train_linear_regression(X_t_0, y_train)\n",
        "\n",
        "y_pred_0 = w0_0 + X_t_0.dot(w_0)"
      ],
      "execution_count": 238,
      "outputs": []
    },
    {
      "cell_type": "code",
      "metadata": {
        "id": "4BdJerEVb1aB",
        "outputId": "61a05148-2626-4a3b-da09-02f0edf5613c",
        "colab": {
          "base_uri": "https://localhost:8080/",
          "height": 282
        }
      },
      "source": [
        "sns.histplot(y_pred_0, color='red', alpha=0.5, bins=50)\n",
        "sns.histplot(y_train, color='blue', alpha=0.5, bins=50)"
      ],
      "execution_count": 239,
      "outputs": [
        {
          "output_type": "execute_result",
          "data": {
            "text/plain": [
              "<matplotlib.axes._subplots.AxesSubplot at 0x7faf2ed417d0>"
            ]
          },
          "metadata": {},
          "execution_count": 239
        },
        {
          "output_type": "display_data",
          "data": {
            "image/png": "[encoded data removed]",
            "text/plain": [
              "<Figure size 432x288 with 1 Axes>"
            ]
          },
          "metadata": {
            "needs_background": "light"
          }
        }
      ]
    },
    {
      "cell_type": "code",
      "metadata": {
        "id": "OcRASh3mb7mv"
      },
      "source": [
        "X_t_m = prepare_X_with_mean(df_train)\n",
        "w0_m, w_m = train_linear_regression(X_t_m, y_train)\n",
        "\n",
        "y_pred_m = w0_m + X_t_m.dot(w_m)"
      ],
      "execution_count": 240,
      "outputs": []
    },
    {
      "cell_type": "code",
      "metadata": {
        "id": "HH31SvaZb7aT",
        "outputId": "782e4672-cacd-49d8-f976-083f3190c4a9",
        "colab": {
          "base_uri": "https://localhost:8080/",
          "height": 283
        }
      },
      "source": [
        "sns.histplot(y_pred_m, color='red', alpha=0.5, bins=50)\n",
        "sns.histplot(y_train, color='blue', alpha=0.5, bins=50)"
      ],
      "execution_count": 241,
      "outputs": [
        {
          "output_type": "execute_result",
          "data": {
            "text/plain": [
              "<matplotlib.axes._subplots.AxesSubplot at 0x7faf2ecb6790>"
            ]
          },
          "metadata": {},
          "execution_count": 241
        },
        {
          "output_type": "display_data",
          "data": {
            "image/png": "[encoded data removed]",
            "text/plain": [
              "<Figure size 432x288 with 1 Axes>"
            ]
          },
          "metadata": {
            "needs_background": "light"
          }
        }
      ]
    },
    {
      "cell_type": "markdown",
      "metadata": {
        "id": "-SI5egVFXYbo"
      },
      "source": [
        "## Using the validation dataset to evaluate the models "
      ]
    },
    {
      "cell_type": "code",
      "metadata": {
        "id": "3UWBa3MCdE9F"
      },
      "source": [
        "def rmse(y, y_pred):\n",
        "  se = (y - y_pred) ** 2\n",
        "  mse = se.mean()\n",
        "  return np.sqrt(mse)"
      ],
      "execution_count": 242,
      "outputs": []
    },
    {
      "cell_type": "markdown",
      "metadata": {
        "id": "DsEdBIP-X30A"
      },
      "source": [
        "## comparing the RMSE of each option."
      ]
    },
    {
      "cell_type": "code",
      "metadata": {
        "id": "ql85Fi2jXyWd",
        "outputId": "b8624bcf-22a1-434a-a045-49cdf142cbbc",
        "colab": {
          "base_uri": "https://localhost:8080/"
        }
      },
      "source": [
        "X_val_0 = prepare_X_with_0(df_val)\n",
        "y_pred_0 = w0_0 + X_val_0.dot(w_0)\n",
        "score = rmse(y_val, y_pred_0)\n",
        "round(score , 4)"
      ],
      "execution_count": 243,
      "outputs": [
        {
          "output_type": "execute_result",
          "data": {
            "text/plain": [
              "0.643"
            ]
          },
          "metadata": {},
          "execution_count": 243
        }
      ]
    },
    {
      "cell_type": "code",
      "metadata": {
        "id": "bzQ_QNvcX7Ol",
        "outputId": "dc7e7b01-dfab-4455-c351-1feb106a9d08",
        "colab": {
          "base_uri": "https://localhost:8080/"
        }
      },
      "source": [
        "X_val_m = prepare_X_with_mean(df_val)\n",
        "y_pred_m = w0_m + X_val_m.dot(w_m)\n",
        "score = rmse(y_val, y_pred_m)\n",
        "round(score , 4)"
      ],
      "execution_count": 244,
      "outputs": [
        {
          "output_type": "execute_result",
          "data": {
            "text/plain": [
              "0.6428"
            ]
          },
          "metadata": {},
          "execution_count": 244
        }
      ]
    },
    {
      "cell_type": "markdown",
      "metadata": {
        "id": "Wqgl98DwX_ug"
      },
      "source": [
        "# Question 4: Which r gives the best RMSE? `r = [0, 0.000001, 0.0001, 0.001, 0.01, 0.1, 1, 5, 10]`\n",
        "\n",
        "- Regularization is a technique used for tuning the function by adding an additional penalty term in the error function. The additional term controls the excessively fluctuating function such that the coefficients don't take extreme values."
      ]
    },
    {
      "cell_type": "code",
      "metadata": {
        "id": "Et9qaXyyCIps"
      },
      "source": [
        "def train_linear_regression_reg(X, y, r):\n",
        "  ones = np.ones(X.shape[0])\n",
        "  X = np.column_stack([ones, X])\n",
        "\n",
        "  XTX = X.T.dot(X)\n",
        "  XTX = XTX + r * np.eye(XTX.shape[0])\n",
        "\n",
        "  XTX_inv = np.linalg.inv(XTX)\n",
        "  w_full = XTX_inv.dot(X.T).dot(y)\n",
        "\n",
        "  return w_full[0], w_full[1:]"
      ],
      "execution_count": 245,
      "outputs": []
    },
    {
      "cell_type": "markdown",
      "metadata": {
        "id": "ieeIfBCMZqDY"
      },
      "source": [
        "## Train a regularized linear regression"
      ]
    },
    {
      "cell_type": "code",
      "metadata": {
        "id": "EdtOKVbFZtoj"
      },
      "source": [
        "X_train = prepare_X_with_0(df_train)"
      ],
      "execution_count": 246,
      "outputs": []
    },
    {
      "cell_type": "code",
      "metadata": {
        "id": "k1GBahbeGVJ5"
      },
      "source": [
        "scores = dict()\n",
        "for r in [0, 0.000001, 0.0001, 0.001, 0.01, 0.1, 1, 5, 10]:\n",
        "  w0, w = train_linear_regression_reg(X_train, y_train, r=r)\n",
        "\n",
        "  X_val = prepare_X_with_0(df_val)\n",
        "  y_pred = w0 + X_val.dot(w)\n",
        "  score = rmse(y_val, y_pred)\n",
        "  scores[r] = score"
      ],
      "execution_count": 247,
      "outputs": []
    },
    {
      "cell_type": "code",
      "metadata": {
        "id": "N8KHSyRbGU57",
        "outputId": "2a8a4fa0-0199-4c95-8732-4ea5a85cd446",
        "colab": {
          "base_uri": "https://localhost:8080/",
          "height": 80
        }
      },
      "source": [
        "scores_df = pd.DataFrame([scores])\n",
        "scores_df"
      ],
      "execution_count": 248,
      "outputs": [
        {
          "output_type": "execute_result",
          "data": {
            "text/html": [
              "<div>\n",
              "<style scoped>\n",
              "    .dataframe tbody tr th:only-of-type {\n",
              "        vertical-align: middle;\n",
              "    }\n",
              "\n",
              "    .dataframe tbody tr th {\n",
              "        vertical-align: top;\n",
              "    }\n",
              "\n",
              "    .dataframe thead th {\n",
              "        text-align: right;\n",
              "    }\n",
              "</style>\n",
              "<table border=\"1\" class=\"dataframe\">\n",
              "  <thead>\n",
              "    <tr style=\"text-align: right;\">\n",
              "      <th></th>\n",
              "      <th>0.000000</th>\n",
              "      <th>0.000001</th>\n",
              "      <th>0.000100</th>\n",
              "      <th>0.001000</th>\n",
              "      <th>0.010000</th>\n",
              "      <th>0.100000</th>\n",
              "      <th>1.000000</th>\n",
              "      <th>5.000000</th>\n",
              "      <th>10.000000</th>\n",
              "    </tr>\n",
              "  </thead>\n",
              "  <tbody>\n",
              "    <tr>\n",
              "      <th>0</th>\n",
              "      <td>0.643034</td>\n",
              "      <td>0.643034</td>\n",
              "      <td>0.643072</td>\n",
              "      <td>0.643767</td>\n",
              "      <td>0.655753</td>\n",
              "      <td>0.67733</td>\n",
              "      <td>0.682312</td>\n",
              "      <td>0.682792</td>\n",
              "      <td>0.682843</td>\n",
              "    </tr>\n",
              "  </tbody>\n",
              "</table>\n",
              "</div>"
            ],
            "text/plain": [
              "   0.000000   0.000001   0.000100   ...  1.000000   5.000000   10.000000\n",
              "0   0.643034   0.643034   0.643072  ...   0.682312   0.682792   0.682843\n",
              "\n",
              "[1 rows x 9 columns]"
            ]
          },
          "metadata": {},
          "execution_count": 248
        }
      ]
    },
    {
      "cell_type": "code",
      "metadata": {
        "id": "rE_-yc6kGUlD",
        "outputId": "2a691413-93a9-4ef3-f62b-fd057b3530d0",
        "colab": {
          "base_uri": "https://localhost:8080/"
        }
      },
      "source": [
        "scores_df.min(axis=1) # checks along each columns in each rows"
      ],
      "execution_count": 249,
      "outputs": [
        {
          "output_type": "execute_result",
          "data": {
            "text/plain": [
              "0    0.643034\n",
              "dtype: float64"
            ]
          },
          "metadata": {},
          "execution_count": 249
        }
      ]
    },
    {
      "cell_type": "markdown",
      "metadata": {
        "id": "4tK0Ec-eaBlJ"
      },
      "source": [
        "# Question 5: Finding the standard deviation of all the scores by using different seeds\n",
        "-  See how selecting different seeds affect our score, `seeds = [0, 1, 2, 3, 4, 5, 6, 7, 8, 9]`\n",
        "<br>\n",
        "1. For each seed, do the train/validation/test split with 60%/20%/20% distribution.\n",
        "2. Fill the missing values with 0 and train a model without regularization.\n",
        "3. For each seed, evaluate the model on the validation dataset and collect the RMSE scores.\n",
        "4. What's the standard deviation of all the scores?\n",
        "\n",
        "\n"
      ]
    },
    {
      "cell_type": "code",
      "metadata": {
        "id": "k0IzwN1SL0oW",
        "outputId": "7c575466-f197-40d8-d5b3-0e63a19b3473",
        "colab": {
          "base_uri": "https://localhost:8080/"
        }
      },
      "source": [
        "n = df.shape[0]\n",
        "n"
      ],
      "execution_count": 250,
      "outputs": [
        {
          "output_type": "execute_result",
          "data": {
            "text/plain": [
              "48895"
            ]
          },
          "metadata": {},
          "execution_count": 250
        }
      ]
    },
    {
      "cell_type": "code",
      "metadata": {
        "id": "Gn_f9KmwMIAJ",
        "outputId": "02279ed8-8d79-4e83-c092-1d69101e91e2",
        "colab": {
          "base_uri": "https://localhost:8080/"
        }
      },
      "source": [
        "n_train, n_val, n_test, n_train+n_val+n_test"
      ],
      "execution_count": 251,
      "outputs": [
        {
          "output_type": "execute_result",
          "data": {
            "text/plain": [
              "(29337, 9779, 9779, 48895)"
            ]
          },
          "metadata": {},
          "execution_count": 251
        }
      ]
    },
    {
      "cell_type": "code",
      "metadata": {
        "id": "7XnhsUcFQXbj"
      },
      "source": [
        "def split_dataset(df, seed):\n",
        "  df - df.copy()\n",
        "\n",
        "  idx = np.arange(df.shape[0])\n",
        "  np.random.seed(seed)\n",
        "  np.random.shuffle(idx)\n",
        "\n",
        "  df_train = df.iloc[idx[:n_train]]\n",
        "  df_val = df.iloc[idx[n_train: n_train + n_val]]\n",
        "  df_test = df.iloc[idx[n_train + n_val:]]\n",
        "  \n",
        "  y_train = np.log1p(df_train.price.values)\n",
        "  y_val = np.log1p(df_val.price.values)\n",
        "  y_test = np.log1p(df_test.price.values)\n",
        "\n",
        "  del df_train['price']\n",
        "  del df_val['price']\n",
        "  del df_test['price']\n",
        "\n",
        "  features = (df_train,df_val,df_test)\n",
        "  targets = (y_train, y_val, y_test)\n",
        "\n",
        "  return features, targets"
      ],
      "execution_count": 252,
      "outputs": []
    },
    {
      "cell_type": "code",
      "metadata": {
        "id": "tatmOTSkaLkV"
      },
      "source": [
        "def q5(df, seeds):\n",
        "  df =df.copy()\n",
        "  scores = list()\n",
        "  for seed_i in seeds:\n",
        "    features, targets = split_dataset(df, seed_i)\n",
        "\n",
        "    df_train, df_val, df_test =features\n",
        "    y_train, y_val, y_test = targets\n",
        "\n",
        "    X_train = prepare_X_with_0(df_train)\n",
        "    w0, w = train_linear_regression(X_train, y_train)\n",
        "\n",
        "    X_val = prepare_X_with_0(df_val)\n",
        "    y_pred = w0 + X_val.dot(w)\n",
        "    score = rmse(y_val, y_pred)\n",
        "\n",
        "    scores.append(round(score,4))\n",
        "  return scores"
      ],
      "execution_count": 253,
      "outputs": []
    },
    {
      "cell_type": "code",
      "metadata": {
        "id": "88Eq7wegQEhB"
      },
      "source": [
        "seeds = [0, 1, 2, 3, 4, 5, 6, 7, 8, 9]"
      ],
      "execution_count": 254,
      "outputs": []
    },
    {
      "cell_type": "code",
      "metadata": {
        "id": "CCxuxpynP3tn",
        "outputId": "85dc1c0b-84a0-45cb-c823-2d6eb7d74d87",
        "colab": {
          "base_uri": "https://localhost:8080/"
        }
      },
      "source": [
        "scores = q5(df, seeds)\n",
        "scores = np.array(scores)\n",
        "round(scores.std(), 3)"
      ],
      "execution_count": 255,
      "outputs": [
        {
          "output_type": "execute_result",
          "data": {
            "text/plain": [
              "0.008"
            ]
          },
          "metadata": {},
          "execution_count": 255
        }
      ]
    },
    {
      "cell_type": "markdown",
      "metadata": {
        "id": "mlCWwDizbAbh"
      },
      "source": [
        "# Question 6: What's the RMSE on the test dataset?\n",
        "<br>\n",
        "\n",
        "- Use seed 9\n",
        "- combine train and validation datasets\n",
        "- train a model with `r=0.001`\n",
        "- calculate the RMSE of the test dataset"
      ]
    },
    {
      "cell_type": "code",
      "metadata": {
        "id": "lrDGLS7wbX60"
      },
      "source": [
        "features, targets = split_dataset(df, 9)\n",
        "\n",
        "df_train, df_val, df_test =features\n",
        "y_train, y_val, y_test = targets"
      ],
      "execution_count": 256,
      "outputs": []
    },
    {
      "cell_type": "code",
      "metadata": {
        "id": "lbcqLzLTUpVw",
        "outputId": "66295874-39ed-4a8f-9c2f-76bdce95a0dd",
        "colab": {
          "base_uri": "https://localhost:8080/"
        }
      },
      "source": [
        "(df_train + df_val + df_test).shape[0] == df.shape[0]"
      ],
      "execution_count": 257,
      "outputs": [
        {
          "output_type": "execute_result",
          "data": {
            "text/plain": [
              "True"
            ]
          },
          "metadata": {},
          "execution_count": 257
        }
      ]
    },
    {
      "cell_type": "code",
      "metadata": {
        "id": "1vjftw7wU7D0",
        "outputId": "b462af03-d971-4bcf-fa41-45ca12a72859",
        "colab": {
          "base_uri": "https://localhost:8080/",
          "height": 204
        }
      },
      "source": [
        "df_full_train = pd.concat([df_train, df_val])\n",
        "df_full_train.head()"
      ],
      "execution_count": 258,
      "outputs": [
        {
          "output_type": "execute_result",
          "data": {
            "text/html": [
              "<div>\n",
              "<style scoped>\n",
              "    .dataframe tbody tr th:only-of-type {\n",
              "        vertical-align: middle;\n",
              "    }\n",
              "\n",
              "    .dataframe tbody tr th {\n",
              "        vertical-align: top;\n",
              "    }\n",
              "\n",
              "    .dataframe thead th {\n",
              "        text-align: right;\n",
              "    }\n",
              "</style>\n",
              "<table border=\"1\" class=\"dataframe\">\n",
              "  <thead>\n",
              "    <tr style=\"text-align: right;\">\n",
              "      <th></th>\n",
              "      <th>latitude</th>\n",
              "      <th>longitude</th>\n",
              "      <th>minimum_nights</th>\n",
              "      <th>number_of_reviews</th>\n",
              "      <th>reviews_per_month</th>\n",
              "      <th>calculated_host_listings_count</th>\n",
              "      <th>availability_365</th>\n",
              "    </tr>\n",
              "  </thead>\n",
              "  <tbody>\n",
              "    <tr>\n",
              "      <th>25415</th>\n",
              "      <td>40.70423</td>\n",
              "      <td>-73.91595</td>\n",
              "      <td>1</td>\n",
              "      <td>3</td>\n",
              "      <td>0.13</td>\n",
              "      <td>1</td>\n",
              "      <td>0</td>\n",
              "    </tr>\n",
              "    <tr>\n",
              "      <th>1329</th>\n",
              "      <td>40.77115</td>\n",
              "      <td>-73.92275</td>\n",
              "      <td>40</td>\n",
              "      <td>23</td>\n",
              "      <td>0.27</td>\n",
              "      <td>1</td>\n",
              "      <td>207</td>\n",
              "    </tr>\n",
              "    <tr>\n",
              "      <th>31738</th>\n",
              "      <td>40.70401</td>\n",
              "      <td>-74.00932</td>\n",
              "      <td>29</td>\n",
              "      <td>0</td>\n",
              "      <td>NaN</td>\n",
              "      <td>96</td>\n",
              "      <td>1</td>\n",
              "    </tr>\n",
              "    <tr>\n",
              "      <th>21784</th>\n",
              "      <td>40.74526</td>\n",
              "      <td>-73.97679</td>\n",
              "      <td>30</td>\n",
              "      <td>1</td>\n",
              "      <td>0.04</td>\n",
              "      <td>23</td>\n",
              "      <td>365</td>\n",
              "    </tr>\n",
              "    <tr>\n",
              "      <th>38653</th>\n",
              "      <td>40.59349</td>\n",
              "      <td>-73.76377</td>\n",
              "      <td>1</td>\n",
              "      <td>1</td>\n",
              "      <td>0.16</td>\n",
              "      <td>1</td>\n",
              "      <td>90</td>\n",
              "    </tr>\n",
              "  </tbody>\n",
              "</table>\n",
              "</div>"
            ],
            "text/plain": [
              "       latitude  longitude  ...  calculated_host_listings_count  availability_365\n",
              "25415  40.70423  -73.91595  ...                               1                 0\n",
              "1329   40.77115  -73.92275  ...                               1               207\n",
              "31738  40.70401  -74.00932  ...                              96                 1\n",
              "21784  40.74526  -73.97679  ...                              23               365\n",
              "38653  40.59349  -73.76377  ...                               1                90\n",
              "\n",
              "[5 rows x 7 columns]"
            ]
          },
          "metadata": {},
          "execution_count": 258
        }
      ]
    },
    {
      "cell_type": "code",
      "metadata": {
        "id": "H0MBldRujMS0",
        "outputId": "29173eb4-51f4-4ee8-a53d-fd988d60f5df",
        "colab": {
          "base_uri": "https://localhost:8080/",
          "height": 204
        }
      },
      "source": [
        "df_full_train = df_full_train.reset_index(drop=True)\n",
        "df_full_train.head()"
      ],
      "execution_count": 259,
      "outputs": [
        {
          "output_type": "execute_result",
          "data": {
            "text/html": [
              "<div>\n",
              "<style scoped>\n",
              "    .dataframe tbody tr th:only-of-type {\n",
              "        vertical-align: middle;\n",
              "    }\n",
              "\n",
              "    .dataframe tbody tr th {\n",
              "        vertical-align: top;\n",
              "    }\n",
              "\n",
              "    .dataframe thead th {\n",
              "        text-align: right;\n",
              "    }\n",
              "</style>\n",
              "<table border=\"1\" class=\"dataframe\">\n",
              "  <thead>\n",
              "    <tr style=\"text-align: right;\">\n",
              "      <th></th>\n",
              "      <th>latitude</th>\n",
              "      <th>longitude</th>\n",
              "      <th>minimum_nights</th>\n",
              "      <th>number_of_reviews</th>\n",
              "      <th>reviews_per_month</th>\n",
              "      <th>calculated_host_listings_count</th>\n",
              "      <th>availability_365</th>\n",
              "    </tr>\n",
              "  </thead>\n",
              "  <tbody>\n",
              "    <tr>\n",
              "      <th>0</th>\n",
              "      <td>40.70423</td>\n",
              "      <td>-73.91595</td>\n",
              "      <td>1</td>\n",
              "      <td>3</td>\n",
              "      <td>0.13</td>\n",
              "      <td>1</td>\n",
              "      <td>0</td>\n",
              "    </tr>\n",
              "    <tr>\n",
              "      <th>1</th>\n",
              "      <td>40.77115</td>\n",
              "      <td>-73.92275</td>\n",
              "      <td>40</td>\n",
              "      <td>23</td>\n",
              "      <td>0.27</td>\n",
              "      <td>1</td>\n",
              "      <td>207</td>\n",
              "    </tr>\n",
              "    <tr>\n",
              "      <th>2</th>\n",
              "      <td>40.70401</td>\n",
              "      <td>-74.00932</td>\n",
              "      <td>29</td>\n",
              "      <td>0</td>\n",
              "      <td>NaN</td>\n",
              "      <td>96</td>\n",
              "      <td>1</td>\n",
              "    </tr>\n",
              "    <tr>\n",
              "      <th>3</th>\n",
              "      <td>40.74526</td>\n",
              "      <td>-73.97679</td>\n",
              "      <td>30</td>\n",
              "      <td>1</td>\n",
              "      <td>0.04</td>\n",
              "      <td>23</td>\n",
              "      <td>365</td>\n",
              "    </tr>\n",
              "    <tr>\n",
              "      <th>4</th>\n",
              "      <td>40.59349</td>\n",
              "      <td>-73.76377</td>\n",
              "      <td>1</td>\n",
              "      <td>1</td>\n",
              "      <td>0.16</td>\n",
              "      <td>1</td>\n",
              "      <td>90</td>\n",
              "    </tr>\n",
              "  </tbody>\n",
              "</table>\n",
              "</div>"
            ],
            "text/plain": [
              "   latitude  longitude  ...  calculated_host_listings_count  availability_365\n",
              "0  40.70423  -73.91595  ...                               1                 0\n",
              "1  40.77115  -73.92275  ...                               1               207\n",
              "2  40.70401  -74.00932  ...                              96                 1\n",
              "3  40.74526  -73.97679  ...                              23               365\n",
              "4  40.59349  -73.76377  ...                               1                90\n",
              "\n",
              "[5 rows x 7 columns]"
            ]
          },
          "metadata": {},
          "execution_count": 259
        }
      ]
    },
    {
      "cell_type": "code",
      "metadata": {
        "id": "ovV-WkVVUgy-",
        "outputId": "16c131d0-e4db-486c-8fc2-f7d46b92cd32",
        "colab": {
          "base_uri": "https://localhost:8080/"
        }
      },
      "source": [
        "X_full_train = prepare_X_with_0(df_full_train)\n",
        "X_full_train"
      ],
      "execution_count": 260,
      "outputs": [
        {
          "output_type": "execute_result",
          "data": {
            "text/plain": [
              "array([[ 4.070423e+01, -7.391595e+01,  1.000000e+00, ...,  1.300000e-01,\n",
              "         1.000000e+00,  0.000000e+00],\n",
              "       [ 4.077115e+01, -7.392275e+01,  4.000000e+01, ...,  2.700000e-01,\n",
              "         1.000000e+00,  2.070000e+02],\n",
              "       [ 4.070401e+01, -7.400932e+01,  2.900000e+01, ...,  0.000000e+00,\n",
              "         9.600000e+01,  1.000000e+00],\n",
              "       ...,\n",
              "       [ 4.072982e+01, -7.398593e+01,  2.000000e+00, ...,  1.100000e-01,\n",
              "         1.000000e+00,  0.000000e+00],\n",
              "       [ 4.071969e+01, -7.395620e+01,  1.000000e+00, ...,  2.000000e-02,\n",
              "         1.000000e+00,  0.000000e+00],\n",
              "       [ 4.066949e+01, -7.392172e+01,  1.000000e+00, ...,  1.910000e+00,\n",
              "         2.000000e+00,  3.230000e+02]])"
            ]
          },
          "metadata": {},
          "execution_count": 260
        }
      ]
    },
    {
      "cell_type": "code",
      "metadata": {
        "id": "C8lpEdo9U5pu"
      },
      "source": [
        "y_full_train = np.concatenate([y_train, y_val])"
      ],
      "execution_count": 261,
      "outputs": []
    },
    {
      "cell_type": "code",
      "metadata": {
        "id": "9o6z_VjjlFmh"
      },
      "source": [
        "w0, w = train_linear_regression_reg(X_full_train, y_full_train, r=0.001)"
      ],
      "execution_count": 262,
      "outputs": []
    },
    {
      "cell_type": "code",
      "metadata": {
        "id": "fJUw-iqsmjoA",
        "outputId": "def7eb66-04de-424b-bc01-6a163617399a",
        "colab": {
          "base_uri": "https://localhost:8080/"
        }
      },
      "source": [
        "X_test = prepare_X_with_0(df_test)\n",
        "y_pred = w0 + X_test.dot(w)\n",
        "score = rmse(y_test, y_pred)\n",
        "round(score, 2)"
      ],
      "execution_count": 264,
      "outputs": [
        {
          "output_type": "execute_result",
          "data": {
            "text/plain": [
              "0.65"
            ]
          },
          "metadata": {},
          "execution_count": 264
        }
      ]
    },
    {
      "cell_type": "code",
      "metadata": {
        "id": "b4_9_yPMyq_-"
      },
      "source": [
        ""
      ],
      "execution_count": null,
      "outputs": []
    }
  ]
}