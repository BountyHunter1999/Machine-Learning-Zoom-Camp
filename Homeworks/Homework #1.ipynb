{
  "nbformat": 4,
  "nbformat_minor": 5,
  "metadata": {
    "kernelspec": {
      "display_name": "Python 3",
      "language": "python",
      "name": "python3"
    },
    "language_info": {
      "codemirror_mode": {
        "name": "ipython",
        "version": 3
      },
      "file_extension": ".py",
      "mimetype": "text/x-python",
      "name": "python",
      "nbconvert_exporter": "python",
      "pygments_lexer": "ipython3",
      "version": "3.8.8"
    },
    "colab": {
      "name": "Homework #1.ipynb",
      "provenance": [],
      "include_colab_link": true
    }
  },
  "cells": [
    {
      "cell_type": "markdown",
      "metadata": {
        "id": "view-in-github",
        "colab_type": "text"
      },
      "source": [
        "<a href=\"https://colab.research.google.com/github/BountyHunter1999/Machine-Learning-Zoom-Camp/blob/main/Homeworks/Homework%20%231.ipynb\" target=\"_parent\"><img src=\"https://colab.research.google.com/assets/colab-badge.svg\" alt=\"Open In Colab\"/></a>"
      ]
    },
    {
      "cell_type": "code",
      "metadata": {
        "id": "ULsyRGbh__xv",
        "outputId": "8c4632bf-9f3f-453d-d3d6-eb7f190d7189",
        "colab": {
          "base_uri": "https://localhost:8080/"
        }
      },
      "source": [
        "!git clone git@github.com:BountyHunter1999/Machine-Learning-Zoom-Camp.git"
      ],
      "id": "ULsyRGbh__xv",
      "execution_count": 11,
      "outputs": [
        {
          "output_type": "stream",
          "name": "stdout",
          "text": [
            "Cloning into 'Machine-Learning-Zoom-Camp'...\n",
            "Host key verification failed.\r\n",
            "fatal: Could not read from remote repository.\n",
            "\n",
            "Please make sure you have the correct access rights\n",
            "and the repository exists.\n"
          ]
        }
      ]
    },
    {
      "cell_type": "markdown",
      "metadata": {
        "id": "RaXwOehP9Y2C"
      },
      "source": [
        "# Importing Modules"
      ],
      "id": "RaXwOehP9Y2C"
    },
    {
      "cell_type": "code",
      "metadata": {
        "id": "dAQ3QXwr8m_4"
      },
      "source": [
        "import numpy as np"
      ],
      "id": "dAQ3QXwr8m_4",
      "execution_count": 6,
      "outputs": []
    },
    {
      "cell_type": "markdown",
      "metadata": {
        "id": "8QLhTcHj9c8B"
      },
      "source": [
        "# Checking Numpy Version\n",
        "[useful](https://stackoverflow.com/questions/1520234/how-do-i-check-which-version-of-numpy-im-using)\n",
        "\n",
        "\n"
      ],
      "id": "8QLhTcHj9c8B"
    },
    {
      "cell_type": "code",
      "metadata": {
        "id": "rental-windows",
        "outputId": "653947e6-0a04-49f2-e9d2-c2db6f98f233",
        "colab": {
          "base_uri": "https://localhost:8080/"
        }
      },
      "source": [
        "np.version"
      ],
      "id": "rental-windows",
      "execution_count": 8,
      "outputs": [
        {
          "output_type": "execute_result",
          "data": {
            "text/plain": [
              "<module 'numpy.version' from '/usr/local/lib/python3.7/dist-packages/numpy/version.py'>"
            ]
          },
          "metadata": {},
          "execution_count": 8
        }
      ]
    },
    {
      "cell_type": "code",
      "metadata": {
        "id": "ultimate-edmonton",
        "outputId": "e3d1656b-6db0-4f76-eac5-2e2639f40146",
        "colab": {
          "base_uri": "https://localhost:8080/",
          "height": 35
        }
      },
      "source": [
        "np.version.version"
      ],
      "id": "ultimate-edmonton",
      "execution_count": 9,
      "outputs": [
        {
          "output_type": "execute_result",
          "data": {
            "application/vnd.google.colaboratory.intrinsic+json": {
              "type": "string"
            },
            "text/plain": [
              "'1.19.5'"
            ]
          },
          "metadata": {},
          "execution_count": 9
        }
      ]
    },
    {
      "cell_type": "code",
      "metadata": {
        "id": "k2x3rlIh9W8q"
      },
      "source": [
        ""
      ],
      "id": "k2x3rlIh9W8q",
      "execution_count": null,
      "outputs": []
    }
  ]
}