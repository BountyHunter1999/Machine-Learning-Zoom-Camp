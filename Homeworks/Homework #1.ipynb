{
  "nbformat": 4,
  "nbformat_minor": 5,
  "metadata": {
    "kernelspec": {
      "display_name": "Python 3",
      "language": "python",
      "name": "python3"
    },
    "language_info": {
      "codemirror_mode": {
        "name": "ipython",
        "version": 3
      },
      "file_extension": ".py",
      "mimetype": "text/x-python",
      "name": "python",
      "nbconvert_exporter": "python",
      "pygments_lexer": "ipython3",
      "version": "3.8.8"
    },
    "colab": {
      "name": "Homework #1.ipynb",
      "provenance": [],
      "include_colab_link": true
    }
  },
  "cells": [
    {
      "cell_type": "markdown",
      "metadata": {
        "id": "view-in-github",
        "colab_type": "text"
      },
      "source": [
        "<a href=\"https://colab.research.google.com/github/BountyHunter1999/Machine-Learning-Zoom-Camp/blob/main/Homeworks/Homework%20%231.ipynb\" target=\"_parent\"><img src=\"https://colab.research.google.com/assets/colab-badge.svg\" alt=\"Open In Colab\"/></a>"
      ]
    },
    {
      "cell_type": "markdown",
      "metadata": {
        "id": "RaXwOehP9Y2C"
      },
      "source": [
        "# Importing Modules"
      ],
      "id": "RaXwOehP9Y2C"
    },
    {
      "cell_type": "code",
      "metadata": {
        "id": "dAQ3QXwr8m_4"
      },
      "source": [
        "import numpy as np\n",
        "import pandas as pd"
      ],
      "id": "dAQ3QXwr8m_4",
      "execution_count": 1,
      "outputs": []
    },
    {
      "cell_type": "markdown",
      "metadata": {
        "id": "RHQBFfWuDQ5i"
      },
      "source": [
        "# Getting Required Data"
      ],
      "id": "RHQBFfWuDQ5i"
    },
    {
      "cell_type": "code",
      "metadata": {
        "id": "tYWqeTJtDQSL",
        "colab": {
          "base_uri": "https://localhost:8080/"
        },
        "outputId": "96bbb0cc-c792-4944-ab93-21e6ad8768d4"
      },
      "source": [
        "!wget https://raw.githubusercontent.com/alexeygrigorev/mlbookcamp-code/master/chapter-02-car-price/data.csv"
      ],
      "id": "tYWqeTJtDQSL",
      "execution_count": 2,
      "outputs": [
        {
          "output_type": "stream",
          "name": "stdout",
          "text": [
            "--2021-09-09 09:41:33--  https://raw.githubusercontent.com/alexeygrigorev/mlbookcamp-code/master/chapter-02-car-price/data.csv\n",
            "Resolving raw.githubusercontent.com (raw.githubusercontent.com)... 185.199.109.133, 185.199.111.133, 185.199.108.133, ...\n",
            "Connecting to raw.githubusercontent.com (raw.githubusercontent.com)|185.199.109.133|:443... connected.\n",
            "HTTP request sent, awaiting response... 200 OK\n",
            "Length: 1475504 (1.4M) [text/plain]\n",
            "Saving to: ‘data.csv.3’\n",
            "\n",
            "\rdata.csv.3            0%[                    ]       0  --.-KB/s               \rdata.csv.3          100%[===================>]   1.41M  --.-KB/s    in 0.02s   \n",
            "\n",
            "2021-09-09 09:41:33 (60.3 MB/s) - ‘data.csv.3’ saved [1475504/1475504]\n",
            "\n"
          ]
        }
      ]
    },
    {
      "cell_type": "markdown",
      "metadata": {
        "id": "8QLhTcHj9c8B"
      },
      "source": [
        "# Q1. Checking Numpy Version\n",
        "[useful](https://stackoverflow.com/questions/1520234/how-do-i-check-which-version-of-numpy-im-using)\n",
        "\n",
        "\n"
      ],
      "id": "8QLhTcHj9c8B"
    },
    {
      "cell_type": "code",
      "metadata": {
        "colab": {
          "base_uri": "https://localhost:8080/"
        },
        "id": "rental-windows",
        "outputId": "07fb5b7f-50bf-44dc-a68b-82add5e7eac8"
      },
      "source": [
        "np.version"
      ],
      "id": "rental-windows",
      "execution_count": 3,
      "outputs": [
        {
          "output_type": "execute_result",
          "data": {
            "text/plain": [
              "<module 'numpy.version' from '/usr/local/lib/python3.7/dist-packages/numpy/version.py'>"
            ]
          },
          "metadata": {},
          "execution_count": 3
        }
      ]
    },
    {
      "cell_type": "code",
      "metadata": {
        "colab": {
          "base_uri": "https://localhost:8080/",
          "height": 35
        },
        "id": "ultimate-edmonton",
        "outputId": "0ebfd2eb-5384-41bd-8300-fe8f784492e5"
      },
      "source": [
        "np.version.version"
      ],
      "id": "ultimate-edmonton",
      "execution_count": 4,
      "outputs": [
        {
          "output_type": "execute_result",
          "data": {
            "application/vnd.google.colaboratory.intrinsic+json": {
              "type": "string"
            },
            "text/plain": [
              "'1.19.5'"
            ]
          },
          "metadata": {},
          "execution_count": 4
        }
      ]
    },
    {
      "cell_type": "code",
      "metadata": {
        "colab": {
          "base_uri": "https://localhost:8080/",
          "height": 35
        },
        "id": "k2x3rlIh9W8q",
        "outputId": "da7f09e8-c340-409e-868e-ed061d618a2e"
      },
      "source": [
        "np.__version__"
      ],
      "id": "k2x3rlIh9W8q",
      "execution_count": 5,
      "outputs": [
        {
          "output_type": "execute_result",
          "data": {
            "application/vnd.google.colaboratory.intrinsic+json": {
              "type": "string"
            },
            "text/plain": [
              "'1.19.5'"
            ]
          },
          "metadata": {},
          "execution_count": 5
        }
      ]
    },
    {
      "cell_type": "markdown",
      "metadata": {
        "id": "gSm-W2RdBeya"
      },
      "source": [
        "# Q2. Checking Pandas Version"
      ],
      "id": "gSm-W2RdBeya"
    },
    {
      "cell_type": "code",
      "metadata": {
        "id": "onvHXyVZBR4W",
        "colab": {
          "base_uri": "https://localhost:8080/",
          "height": 35
        },
        "outputId": "ff005f07-9c29-4cd8-acb3-95f5ba0e26b1"
      },
      "source": [
        "pd.__version__"
      ],
      "id": "onvHXyVZBR4W",
      "execution_count": 6,
      "outputs": [
        {
          "output_type": "execute_result",
          "data": {
            "application/vnd.google.colaboratory.intrinsic+json": {
              "type": "string"
            },
            "text/plain": [
              "'1.1.5'"
            ]
          },
          "metadata": {},
          "execution_count": 6
        }
      ]
    },
    {
      "cell_type": "code",
      "metadata": {
        "id": "BQM5xpBJDpHb"
      },
      "source": [
        "df = pd.read_csv(\"data.csv\")"
      ],
      "id": "BQM5xpBJDpHb",
      "execution_count": 7,
      "outputs": []
    },
    {
      "cell_type": "code",
      "metadata": {
        "id": "TGL_Zj5YDq4S",
        "colab": {
          "base_uri": "https://localhost:8080/",
          "height": 408
        },
        "outputId": "d2685115-9e2a-408f-95bc-93193f6f4c67"
      },
      "source": [
        "df.head()"
      ],
      "id": "TGL_Zj5YDq4S",
      "execution_count": 8,
      "outputs": [
        {
          "output_type": "execute_result",
          "data": {
            "text/html": [
              "<div>\n",
              "<style scoped>\n",
              "    .dataframe tbody tr th:only-of-type {\n",
              "        vertical-align: middle;\n",
              "    }\n",
              "\n",
              "    .dataframe tbody tr th {\n",
              "        vertical-align: top;\n",
              "    }\n",
              "\n",
              "    .dataframe thead th {\n",
              "        text-align: right;\n",
              "    }\n",
              "</style>\n",
              "<table border=\"1\" class=\"dataframe\">\n",
              "  <thead>\n",
              "    <tr style=\"text-align: right;\">\n",
              "      <th></th>\n",
              "      <th>Make</th>\n",
              "      <th>Model</th>\n",
              "      <th>Year</th>\n",
              "      <th>Engine Fuel Type</th>\n",
              "      <th>Engine HP</th>\n",
              "      <th>Engine Cylinders</th>\n",
              "      <th>Transmission Type</th>\n",
              "      <th>Driven_Wheels</th>\n",
              "      <th>Number of Doors</th>\n",
              "      <th>Market Category</th>\n",
              "      <th>Vehicle Size</th>\n",
              "      <th>Vehicle Style</th>\n",
              "      <th>highway MPG</th>\n",
              "      <th>city mpg</th>\n",
              "      <th>Popularity</th>\n",
              "      <th>MSRP</th>\n",
              "    </tr>\n",
              "  </thead>\n",
              "  <tbody>\n",
              "    <tr>\n",
              "      <th>0</th>\n",
              "      <td>BMW</td>\n",
              "      <td>1 Series M</td>\n",
              "      <td>2011</td>\n",
              "      <td>premium unleaded (required)</td>\n",
              "      <td>335.0</td>\n",
              "      <td>6.0</td>\n",
              "      <td>MANUAL</td>\n",
              "      <td>rear wheel drive</td>\n",
              "      <td>2.0</td>\n",
              "      <td>Factory Tuner,Luxury,High-Performance</td>\n",
              "      <td>Compact</td>\n",
              "      <td>Coupe</td>\n",
              "      <td>26</td>\n",
              "      <td>19</td>\n",
              "      <td>3916</td>\n",
              "      <td>46135</td>\n",
              "    </tr>\n",
              "    <tr>\n",
              "      <th>1</th>\n",
              "      <td>BMW</td>\n",
              "      <td>1 Series</td>\n",
              "      <td>2011</td>\n",
              "      <td>premium unleaded (required)</td>\n",
              "      <td>300.0</td>\n",
              "      <td>6.0</td>\n",
              "      <td>MANUAL</td>\n",
              "      <td>rear wheel drive</td>\n",
              "      <td>2.0</td>\n",
              "      <td>Luxury,Performance</td>\n",
              "      <td>Compact</td>\n",
              "      <td>Convertible</td>\n",
              "      <td>28</td>\n",
              "      <td>19</td>\n",
              "      <td>3916</td>\n",
              "      <td>40650</td>\n",
              "    </tr>\n",
              "    <tr>\n",
              "      <th>2</th>\n",
              "      <td>BMW</td>\n",
              "      <td>1 Series</td>\n",
              "      <td>2011</td>\n",
              "      <td>premium unleaded (required)</td>\n",
              "      <td>300.0</td>\n",
              "      <td>6.0</td>\n",
              "      <td>MANUAL</td>\n",
              "      <td>rear wheel drive</td>\n",
              "      <td>2.0</td>\n",
              "      <td>Luxury,High-Performance</td>\n",
              "      <td>Compact</td>\n",
              "      <td>Coupe</td>\n",
              "      <td>28</td>\n",
              "      <td>20</td>\n",
              "      <td>3916</td>\n",
              "      <td>36350</td>\n",
              "    </tr>\n",
              "    <tr>\n",
              "      <th>3</th>\n",
              "      <td>BMW</td>\n",
              "      <td>1 Series</td>\n",
              "      <td>2011</td>\n",
              "      <td>premium unleaded (required)</td>\n",
              "      <td>230.0</td>\n",
              "      <td>6.0</td>\n",
              "      <td>MANUAL</td>\n",
              "      <td>rear wheel drive</td>\n",
              "      <td>2.0</td>\n",
              "      <td>Luxury,Performance</td>\n",
              "      <td>Compact</td>\n",
              "      <td>Coupe</td>\n",
              "      <td>28</td>\n",
              "      <td>18</td>\n",
              "      <td>3916</td>\n",
              "      <td>29450</td>\n",
              "    </tr>\n",
              "    <tr>\n",
              "      <th>4</th>\n",
              "      <td>BMW</td>\n",
              "      <td>1 Series</td>\n",
              "      <td>2011</td>\n",
              "      <td>premium unleaded (required)</td>\n",
              "      <td>230.0</td>\n",
              "      <td>6.0</td>\n",
              "      <td>MANUAL</td>\n",
              "      <td>rear wheel drive</td>\n",
              "      <td>2.0</td>\n",
              "      <td>Luxury</td>\n",
              "      <td>Compact</td>\n",
              "      <td>Convertible</td>\n",
              "      <td>28</td>\n",
              "      <td>18</td>\n",
              "      <td>3916</td>\n",
              "      <td>34500</td>\n",
              "    </tr>\n",
              "  </tbody>\n",
              "</table>\n",
              "</div>"
            ],
            "text/plain": [
              "  Make       Model  Year  ... city mpg  Popularity   MSRP\n",
              "0  BMW  1 Series M  2011  ...       19        3916  46135\n",
              "1  BMW    1 Series  2011  ...       19        3916  40650\n",
              "2  BMW    1 Series  2011  ...       20        3916  36350\n",
              "3  BMW    1 Series  2011  ...       18        3916  29450\n",
              "4  BMW    1 Series  2011  ...       18        3916  34500\n",
              "\n",
              "[5 rows x 16 columns]"
            ]
          },
          "metadata": {},
          "execution_count": 8
        }
      ]
    },
    {
      "cell_type": "code",
      "metadata": {
        "id": "xikdfb9EDxFx",
        "colab": {
          "base_uri": "https://localhost:8080/"
        },
        "outputId": "19105f1b-71e3-42cc-c52c-589ec4367697"
      },
      "source": [
        "df.columns"
      ],
      "id": "xikdfb9EDxFx",
      "execution_count": 9,
      "outputs": [
        {
          "output_type": "execute_result",
          "data": {
            "text/plain": [
              "Index(['Make', 'Model', 'Year', 'Engine Fuel Type', 'Engine HP',\n",
              "       'Engine Cylinders', 'Transmission Type', 'Driven_Wheels',\n",
              "       'Number of Doors', 'Market Category', 'Vehicle Size', 'Vehicle Style',\n",
              "       'highway MPG', 'city mpg', 'Popularity', 'MSRP'],\n",
              "      dtype='object')"
            ]
          },
          "metadata": {},
          "execution_count": 9
        }
      ]
    },
    {
      "cell_type": "code",
      "metadata": {
        "id": "gVJi0kubD4IR",
        "colab": {
          "base_uri": "https://localhost:8080/"
        },
        "outputId": "b477dc97-6620-4cf2-aa92-496306142709"
      },
      "source": [
        "df['Make'] == \"BMW\""
      ],
      "id": "gVJi0kubD4IR",
      "execution_count": 10,
      "outputs": [
        {
          "output_type": "execute_result",
          "data": {
            "text/plain": [
              "0         True\n",
              "1         True\n",
              "2         True\n",
              "3         True\n",
              "4         True\n",
              "         ...  \n",
              "11909    False\n",
              "11910    False\n",
              "11911    False\n",
              "11912    False\n",
              "11913    False\n",
              "Name: Make, Length: 11914, dtype: bool"
            ]
          },
          "metadata": {},
          "execution_count": 10
        }
      ]
    },
    {
      "cell_type": "code",
      "metadata": {
        "id": "e33gJbQjEYHh"
      },
      "source": [
        "bmw_data = df[df['Make'] == \"BMW\"]"
      ],
      "id": "e33gJbQjEYHh",
      "execution_count": 11,
      "outputs": []
    },
    {
      "cell_type": "code",
      "metadata": {
        "id": "vFVhe29_Ea5B",
        "colab": {
          "base_uri": "https://localhost:8080/",
          "height": 297
        },
        "outputId": "324a7ac9-1abc-45ac-9a42-e9376a716cd6"
      },
      "source": [
        "bmw_data.describe()"
      ],
      "id": "vFVhe29_Ea5B",
      "execution_count": 12,
      "outputs": [
        {
          "output_type": "execute_result",
          "data": {
            "text/html": [
              "<div>\n",
              "<style scoped>\n",
              "    .dataframe tbody tr th:only-of-type {\n",
              "        vertical-align: middle;\n",
              "    }\n",
              "\n",
              "    .dataframe tbody tr th {\n",
              "        vertical-align: top;\n",
              "    }\n",
              "\n",
              "    .dataframe thead th {\n",
              "        text-align: right;\n",
              "    }\n",
              "</style>\n",
              "<table border=\"1\" class=\"dataframe\">\n",
              "  <thead>\n",
              "    <tr style=\"text-align: right;\">\n",
              "      <th></th>\n",
              "      <th>Year</th>\n",
              "      <th>Engine HP</th>\n",
              "      <th>Engine Cylinders</th>\n",
              "      <th>Number of Doors</th>\n",
              "      <th>highway MPG</th>\n",
              "      <th>city mpg</th>\n",
              "      <th>Popularity</th>\n",
              "      <th>MSRP</th>\n",
              "    </tr>\n",
              "  </thead>\n",
              "  <tbody>\n",
              "    <tr>\n",
              "      <th>count</th>\n",
              "      <td>334.000000</td>\n",
              "      <td>334.000000</td>\n",
              "      <td>334.000000</td>\n",
              "      <td>334.000000</td>\n",
              "      <td>334.000000</td>\n",
              "      <td>334.000000</td>\n",
              "      <td>334.0</td>\n",
              "      <td>334.000000</td>\n",
              "    </tr>\n",
              "    <tr>\n",
              "      <th>mean</th>\n",
              "      <td>2014.347305</td>\n",
              "      <td>326.907186</td>\n",
              "      <td>5.958084</td>\n",
              "      <td>3.161677</td>\n",
              "      <td>29.245509</td>\n",
              "      <td>20.739521</td>\n",
              "      <td>3916.0</td>\n",
              "      <td>61546.763473</td>\n",
              "    </tr>\n",
              "    <tr>\n",
              "      <th>std</th>\n",
              "      <td>4.387983</td>\n",
              "      <td>105.681659</td>\n",
              "      <td>1.728939</td>\n",
              "      <td>0.988324</td>\n",
              "      <td>10.257037</td>\n",
              "      <td>13.136879</td>\n",
              "      <td>0.0</td>\n",
              "      <td>27982.682153</td>\n",
              "    </tr>\n",
              "    <tr>\n",
              "      <th>min</th>\n",
              "      <td>1995.000000</td>\n",
              "      <td>170.000000</td>\n",
              "      <td>0.000000</td>\n",
              "      <td>2.000000</td>\n",
              "      <td>18.000000</td>\n",
              "      <td>10.000000</td>\n",
              "      <td>3916.0</td>\n",
              "      <td>4697.000000</td>\n",
              "    </tr>\n",
              "    <tr>\n",
              "      <th>25%</th>\n",
              "      <td>2015.000000</td>\n",
              "      <td>240.000000</td>\n",
              "      <td>4.000000</td>\n",
              "      <td>2.000000</td>\n",
              "      <td>25.000000</td>\n",
              "      <td>17.000000</td>\n",
              "      <td>3916.0</td>\n",
              "      <td>42300.000000</td>\n",
              "    </tr>\n",
              "    <tr>\n",
              "      <th>50%</th>\n",
              "      <td>2016.000000</td>\n",
              "      <td>300.000000</td>\n",
              "      <td>6.000000</td>\n",
              "      <td>4.000000</td>\n",
              "      <td>28.000000</td>\n",
              "      <td>20.000000</td>\n",
              "      <td>3916.0</td>\n",
              "      <td>51850.000000</td>\n",
              "    </tr>\n",
              "    <tr>\n",
              "      <th>75%</th>\n",
              "      <td>2016.000000</td>\n",
              "      <td>394.000000</td>\n",
              "      <td>7.500000</td>\n",
              "      <td>4.000000</td>\n",
              "      <td>33.000000</td>\n",
              "      <td>22.000000</td>\n",
              "      <td>3916.0</td>\n",
              "      <td>79725.000000</td>\n",
              "    </tr>\n",
              "    <tr>\n",
              "      <th>max</th>\n",
              "      <td>2017.000000</td>\n",
              "      <td>600.000000</td>\n",
              "      <td>12.000000</td>\n",
              "      <td>4.000000</td>\n",
              "      <td>111.000000</td>\n",
              "      <td>137.000000</td>\n",
              "      <td>3916.0</td>\n",
              "      <td>141200.000000</td>\n",
              "    </tr>\n",
              "  </tbody>\n",
              "</table>\n",
              "</div>"
            ],
            "text/plain": [
              "              Year   Engine HP  ...  Popularity           MSRP\n",
              "count   334.000000  334.000000  ...       334.0     334.000000\n",
              "mean   2014.347305  326.907186  ...      3916.0   61546.763473\n",
              "std       4.387983  105.681659  ...         0.0   27982.682153\n",
              "min    1995.000000  170.000000  ...      3916.0    4697.000000\n",
              "25%    2015.000000  240.000000  ...      3916.0   42300.000000\n",
              "50%    2016.000000  300.000000  ...      3916.0   51850.000000\n",
              "75%    2016.000000  394.000000  ...      3916.0   79725.000000\n",
              "max    2017.000000  600.000000  ...      3916.0  141200.000000\n",
              "\n",
              "[8 rows x 8 columns]"
            ]
          },
          "metadata": {},
          "execution_count": 12
        }
      ]
    },
    {
      "cell_type": "markdown",
      "metadata": {
        "id": "w_GY1YEBQ9IV"
      },
      "source": [
        "# Question 3\n",
        "\n",
        "## What's the average price of BMW cars in the dataset?\n",
        "* 61546.763473\n",
        "\n",
        "\n"
      ],
      "id": "w_GY1YEBQ9IV"
    },
    {
      "cell_type": "code",
      "metadata": {
        "id": "ffPgqCJfEhAZ",
        "colab": {
          "base_uri": "https://localhost:8080/"
        },
        "outputId": "e6c29e21-4582-4eda-837a-7c26f76307c5"
      },
      "source": [
        "round(bmw_data.MSRP.mean(),2)"
      ],
      "id": "ffPgqCJfEhAZ",
      "execution_count": 13,
      "outputs": [
        {
          "output_type": "execute_result",
          "data": {
            "text/plain": [
              "61546.76"
            ]
          },
          "metadata": {},
          "execution_count": 13
        }
      ]
    },
    {
      "cell_type": "markdown",
      "metadata": {
        "id": "2NwShpn3Rcud"
      },
      "source": [
        "# Question 4 \n",
        "## Number of missing values in \"Engine HP\" after 2015\n",
        "\n",
        "*   51\n",
        "\n"
      ],
      "id": "2NwShpn3Rcud"
    },
    {
      "cell_type": "code",
      "metadata": {
        "id": "Ljcpxd1PRcdd",
        "colab": {
          "base_uri": "https://localhost:8080/"
        },
        "outputId": "cca88327-610b-4a57-d60b-4ef30b4cf34a"
      },
      "source": [
        "df[\"Engine HP\"].isnull().sum()"
      ],
      "id": "Ljcpxd1PRcdd",
      "execution_count": 14,
      "outputs": [
        {
          "output_type": "execute_result",
          "data": {
            "text/plain": [
              "69"
            ]
          },
          "metadata": {},
          "execution_count": 14
        }
      ]
    },
    {
      "cell_type": "code",
      "metadata": {
        "id": "HBUv7IRRVZWk"
      },
      "source": [
        "af_2015 = df[df[\"Year\"] >= 2015]"
      ],
      "id": "HBUv7IRRVZWk",
      "execution_count": 15,
      "outputs": []
    },
    {
      "cell_type": "code",
      "metadata": {
        "id": "nsD3_vtWV9Vm",
        "colab": {
          "base_uri": "https://localhost:8080/"
        },
        "outputId": "d6a38c38-93c3-4cf6-f849-a13ab9f60c72"
      },
      "source": [
        "af_2015[\"Engine HP\"].isnull().sum()"
      ],
      "id": "nsD3_vtWV9Vm",
      "execution_count": 16,
      "outputs": [
        {
          "output_type": "execute_result",
          "data": {
            "text/plain": [
              "51"
            ]
          },
          "metadata": {},
          "execution_count": 16
        }
      ]
    },
    {
      "cell_type": "markdown",
      "metadata": {
        "id": "r9i1nyytSE4G"
      },
      "source": [
        "# Question 5 \n",
        "## Does the mean change after filling missing values?\n",
        "\n",
        "*   NO\n",
        "\n"
      ],
      "id": "r9i1nyytSE4G"
    },
    {
      "cell_type": "code",
      "metadata": {
        "id": "SS3bW7n8XTnM"
      },
      "source": [
        "af_2015_eng_hp =  af_2015[\"Engine HP\"]"
      ],
      "id": "SS3bW7n8XTnM",
      "execution_count": 17,
      "outputs": []
    },
    {
      "cell_type": "code",
      "metadata": {
        "id": "e35KVpdaX0Ws",
        "colab": {
          "base_uri": "https://localhost:8080/"
        },
        "outputId": "11918ef5-084e-4a6a-904a-71998e2224be"
      },
      "source": [
        "af_2015_eng_hp.isnull().sum()"
      ],
      "id": "e35KVpdaX0Ws",
      "execution_count": 18,
      "outputs": [
        {
          "output_type": "execute_result",
          "data": {
            "text/plain": [
              "51"
            ]
          },
          "metadata": {},
          "execution_count": 18
        }
      ]
    },
    {
      "cell_type": "code",
      "metadata": {
        "id": "tkCk6evEYw48",
        "colab": {
          "base_uri": "https://localhost:8080/"
        },
        "outputId": "a90e8f0f-0f51-4a8e-e044-2540e1391258"
      },
      "source": [
        "mean_before = round(af_2015_eng_hp.mean())\n",
        "mean_before"
      ],
      "id": "tkCk6evEYw48",
      "execution_count": 19,
      "outputs": [
        {
          "output_type": "execute_result",
          "data": {
            "text/plain": [
              "273"
            ]
          },
          "metadata": {},
          "execution_count": 19
        }
      ]
    },
    {
      "cell_type": "code",
      "metadata": {
        "id": "-QzEzhQKSKk5"
      },
      "source": [
        "af_2015_eng_hp = af_2015_eng_hp.fillna(mean_before)"
      ],
      "id": "-QzEzhQKSKk5",
      "execution_count": 20,
      "outputs": []
    },
    {
      "cell_type": "code",
      "metadata": {
        "id": "VhjjaJ4oZCoI",
        "colab": {
          "base_uri": "https://localhost:8080/"
        },
        "outputId": "b6271484-5806-4576-edc0-fb4cd9fe1371"
      },
      "source": [
        "mean_after = round(af_2015_eng_hp.mean())\n",
        "mean_after"
      ],
      "id": "VhjjaJ4oZCoI",
      "execution_count": 21,
      "outputs": [
        {
          "output_type": "execute_result",
          "data": {
            "text/plain": [
              "273"
            ]
          },
          "metadata": {},
          "execution_count": 21
        }
      ]
    },
    {
      "cell_type": "markdown",
      "metadata": {
        "id": "Nl3M4Ez4SK80"
      },
      "source": [
        "# Question 6\n",
        "\n",
        "## Steps:\n",
        "1.   Select all the \"Rolls-Royce\" cars from the dataset.\n",
        "2.   List item\n",
        "3.   Select only columns \"Engine HP\", \"Engine Cylinders\", \"highway MPG\".\n",
        "4.   Now drop all duplicated rows using drop_duplicates method (you should get a dataframe with 7 rows).\n",
        "5.   Get the underlying NumPy array. Let's call it X.\n",
        "6.   Compute matrix-matrix multiplication between the transpose of X and X. To get the transpose, use X.T. Let's call the result XTX.\n",
        "7. Invert XTX.\n",
        "\n",
        "\n",
        "## Sum of elements of the inverse matrix\n",
        "\n",
        "*  0.0322"
      ],
      "id": "Nl3M4Ez4SK80"
    },
    {
      "cell_type": "markdown",
      "metadata": {
        "id": "mQiushax03rz"
      },
      "source": [
        "### 6.1 Select all the \"Rolls-Royce\" cars from the dataset."
      ],
      "id": "mQiushax03rz"
    },
    {
      "cell_type": "code",
      "metadata": {
        "id": "AouVn1N0aK3g",
        "colab": {
          "base_uri": "https://localhost:8080/"
        },
        "outputId": "7733582b-d16e-4eb7-ae47-045129e20c8a"
      },
      "source": [
        "rolls_royce = df[df[\"Make\"] == \"Rolls-Royce\"]\n",
        "len(rolls_royce)"
      ],
      "id": "AouVn1N0aK3g",
      "execution_count": 22,
      "outputs": [
        {
          "output_type": "execute_result",
          "data": {
            "text/plain": [
              "31"
            ]
          },
          "metadata": {},
          "execution_count": 22
        }
      ]
    },
    {
      "cell_type": "markdown",
      "metadata": {
        "id": "4j1tcFLV1IUq"
      },
      "source": [
        "### 6.2 List item"
      ],
      "id": "4j1tcFLV1IUq"
    },
    {
      "cell_type": "code",
      "metadata": {
        "id": "-L7XqPHp1CkT",
        "outputId": "b9cb7adc-5803-49c5-b3dd-4353bd78155b",
        "colab": {
          "base_uri": "https://localhost:8080/",
          "height": 0
        }
      },
      "source": [
        "rolls_royce.head()"
      ],
      "id": "-L7XqPHp1CkT",
      "execution_count": 23,
      "outputs": [
        {
          "output_type": "execute_result",
          "data": {
            "text/html": [
              "<div>\n",
              "<style scoped>\n",
              "    .dataframe tbody tr th:only-of-type {\n",
              "        vertical-align: middle;\n",
              "    }\n",
              "\n",
              "    .dataframe tbody tr th {\n",
              "        vertical-align: top;\n",
              "    }\n",
              "\n",
              "    .dataframe thead th {\n",
              "        text-align: right;\n",
              "    }\n",
              "</style>\n",
              "<table border=\"1\" class=\"dataframe\">\n",
              "  <thead>\n",
              "    <tr style=\"text-align: right;\">\n",
              "      <th></th>\n",
              "      <th>Make</th>\n",
              "      <th>Model</th>\n",
              "      <th>Year</th>\n",
              "      <th>Engine Fuel Type</th>\n",
              "      <th>Engine HP</th>\n",
              "      <th>Engine Cylinders</th>\n",
              "      <th>Transmission Type</th>\n",
              "      <th>Driven_Wheels</th>\n",
              "      <th>Number of Doors</th>\n",
              "      <th>Market Category</th>\n",
              "      <th>Vehicle Size</th>\n",
              "      <th>Vehicle Style</th>\n",
              "      <th>highway MPG</th>\n",
              "      <th>city mpg</th>\n",
              "      <th>Popularity</th>\n",
              "      <th>MSRP</th>\n",
              "    </tr>\n",
              "  </thead>\n",
              "  <tbody>\n",
              "    <tr>\n",
              "      <th>2921</th>\n",
              "      <td>Rolls-Royce</td>\n",
              "      <td>Corniche</td>\n",
              "      <td>2001</td>\n",
              "      <td>premium unleaded (required)</td>\n",
              "      <td>325.0</td>\n",
              "      <td>8.0</td>\n",
              "      <td>AUTOMATIC</td>\n",
              "      <td>rear wheel drive</td>\n",
              "      <td>2.0</td>\n",
              "      <td>Exotic,Luxury</td>\n",
              "      <td>Large</td>\n",
              "      <td>Convertible</td>\n",
              "      <td>15</td>\n",
              "      <td>10</td>\n",
              "      <td>86</td>\n",
              "      <td>359990</td>\n",
              "    </tr>\n",
              "    <tr>\n",
              "      <th>3505</th>\n",
              "      <td>Rolls-Royce</td>\n",
              "      <td>Dawn</td>\n",
              "      <td>2016</td>\n",
              "      <td>premium unleaded (required)</td>\n",
              "      <td>563.0</td>\n",
              "      <td>12.0</td>\n",
              "      <td>AUTOMATIC</td>\n",
              "      <td>rear wheel drive</td>\n",
              "      <td>2.0</td>\n",
              "      <td>Exotic,Luxury,High-Performance</td>\n",
              "      <td>Large</td>\n",
              "      <td>Convertible</td>\n",
              "      <td>19</td>\n",
              "      <td>12</td>\n",
              "      <td>86</td>\n",
              "      <td>335000</td>\n",
              "    </tr>\n",
              "    <tr>\n",
              "      <th>5275</th>\n",
              "      <td>Rolls-Royce</td>\n",
              "      <td>Ghost Series II</td>\n",
              "      <td>2015</td>\n",
              "      <td>premium unleaded (required)</td>\n",
              "      <td>563.0</td>\n",
              "      <td>12.0</td>\n",
              "      <td>AUTOMATIC</td>\n",
              "      <td>rear wheel drive</td>\n",
              "      <td>4.0</td>\n",
              "      <td>Exotic,Luxury,Performance</td>\n",
              "      <td>Large</td>\n",
              "      <td>Sedan</td>\n",
              "      <td>21</td>\n",
              "      <td>13</td>\n",
              "      <td>86</td>\n",
              "      <td>286750</td>\n",
              "    </tr>\n",
              "    <tr>\n",
              "      <th>5276</th>\n",
              "      <td>Rolls-Royce</td>\n",
              "      <td>Ghost Series II</td>\n",
              "      <td>2015</td>\n",
              "      <td>premium unleaded (required)</td>\n",
              "      <td>563.0</td>\n",
              "      <td>12.0</td>\n",
              "      <td>AUTOMATIC</td>\n",
              "      <td>rear wheel drive</td>\n",
              "      <td>4.0</td>\n",
              "      <td>Exotic,Luxury,Performance</td>\n",
              "      <td>Large</td>\n",
              "      <td>Sedan</td>\n",
              "      <td>21</td>\n",
              "      <td>13</td>\n",
              "      <td>86</td>\n",
              "      <td>319400</td>\n",
              "    </tr>\n",
              "    <tr>\n",
              "      <th>5277</th>\n",
              "      <td>Rolls-Royce</td>\n",
              "      <td>Ghost Series II</td>\n",
              "      <td>2016</td>\n",
              "      <td>premium unleaded (required)</td>\n",
              "      <td>563.0</td>\n",
              "      <td>12.0</td>\n",
              "      <td>AUTOMATIC</td>\n",
              "      <td>rear wheel drive</td>\n",
              "      <td>4.0</td>\n",
              "      <td>Exotic,Luxury,Performance</td>\n",
              "      <td>Large</td>\n",
              "      <td>Sedan</td>\n",
              "      <td>21</td>\n",
              "      <td>13</td>\n",
              "      <td>86</td>\n",
              "      <td>295850</td>\n",
              "    </tr>\n",
              "  </tbody>\n",
              "</table>\n",
              "</div>"
            ],
            "text/plain": [
              "             Make            Model  Year  ... city mpg  Popularity    MSRP\n",
              "2921  Rolls-Royce         Corniche  2001  ...       10          86  359990\n",
              "3505  Rolls-Royce             Dawn  2016  ...       12          86  335000\n",
              "5275  Rolls-Royce  Ghost Series II  2015  ...       13          86  286750\n",
              "5276  Rolls-Royce  Ghost Series II  2015  ...       13          86  319400\n",
              "5277  Rolls-Royce  Ghost Series II  2016  ...       13          86  295850\n",
              "\n",
              "[5 rows x 16 columns]"
            ]
          },
          "metadata": {},
          "execution_count": 23
        }
      ]
    },
    {
      "cell_type": "markdown",
      "metadata": {
        "id": "RCtUmuFh08oi"
      },
      "source": [
        "### 6.3 Select only columns \"Engine HP\", \"Engine Cylinders\", \"highway MPG\"."
      ],
      "id": "RCtUmuFh08oi"
    },
    {
      "cell_type": "code",
      "metadata": {
        "id": "wS4YlVUqSQEm"
      },
      "source": [
        "rolls_royce_3c = rolls_royce[[ \"Engine HP\", \"Engine Cylinders\", \"highway MPG\"]]"
      ],
      "id": "wS4YlVUqSQEm",
      "execution_count": 24,
      "outputs": []
    },
    {
      "cell_type": "markdown",
      "metadata": {
        "id": "xZTx0cq21YMR"
      },
      "source": [
        "### 6.4 Drop all duplicated rows using drop_duplicates method"
      ],
      "id": "xZTx0cq21YMR"
    },
    {
      "cell_type": "code",
      "metadata": {
        "id": "gWIdlNqdahSB",
        "colab": {
          "base_uri": "https://localhost:8080/"
        },
        "outputId": "992f4a6d-3153-4b24-e2fb-618249f1ab46"
      },
      "source": [
        "unique_rr3c = rolls_royce_3c.drop_duplicates()\n",
        "len(unique_rr3c)"
      ],
      "id": "gWIdlNqdahSB",
      "execution_count": 25,
      "outputs": [
        {
          "output_type": "execute_result",
          "data": {
            "text/plain": [
              "7"
            ]
          },
          "metadata": {},
          "execution_count": 25
        }
      ]
    },
    {
      "cell_type": "markdown",
      "metadata": {
        "id": "pzJg6gFO1eWc"
      },
      "source": [
        "### 6.5 Get the underlying NumPy array"
      ],
      "id": "pzJg6gFO1eWc"
    },
    {
      "cell_type": "code",
      "metadata": {
        "id": "ScjplXlSb2Vq",
        "colab": {
          "base_uri": "https://localhost:8080/"
        },
        "outputId": "3cc1adb9-716f-4607-abbb-61efdc1ca6d0"
      },
      "source": [
        "X = pd.DataFrame.to_numpy(unique_rr3c)\n",
        "X.shape"
      ],
      "id": "ScjplXlSb2Vq",
      "execution_count": 26,
      "outputs": [
        {
          "output_type": "execute_result",
          "data": {
            "text/plain": [
              "(7, 3)"
            ]
          },
          "metadata": {},
          "execution_count": 26
        }
      ]
    },
    {
      "cell_type": "code",
      "metadata": {
        "colab": {
          "base_uri": "https://localhost:8080/"
        },
        "id": "GvK9I7xLwirZ",
        "outputId": "4b739024-da38-4834-c43d-3ed5edb29f77"
      },
      "source": [
        "type(X)"
      ],
      "id": "GvK9I7xLwirZ",
      "execution_count": 27,
      "outputs": [
        {
          "output_type": "execute_result",
          "data": {
            "text/plain": [
              "numpy.ndarray"
            ]
          },
          "metadata": {},
          "execution_count": 27
        }
      ]
    },
    {
      "cell_type": "markdown",
      "metadata": {
        "id": "lyL9QyIg1mvq"
      },
      "source": [
        "### 6.6 Compute matrix-matrix multiplication between the transpose of X and X"
      ],
      "id": "lyL9QyIg1mvq"
    },
    {
      "cell_type": "code",
      "metadata": {
        "id": "qHvnWsu6b5dC",
        "colab": {
          "base_uri": "https://localhost:8080/"
        },
        "outputId": "9f311adb-c466-4873-cf59-f05bcf2f1f18"
      },
      "source": [
        "XTX = X.T.dot(X)\n",
        "XTX"
      ],
      "id": "qHvnWsu6b5dC",
      "execution_count": 28,
      "outputs": [
        {
          "output_type": "execute_result",
          "data": {
            "text/plain": [
              "array([[1.754801e+06, 3.965600e+04, 6.519600e+04],\n",
              "       [3.965600e+04, 9.280000e+02, 1.500000e+03],\n",
              "       [6.519600e+04, 1.500000e+03, 2.454000e+03]])"
            ]
          },
          "metadata": {},
          "execution_count": 28
        }
      ]
    },
    {
      "cell_type": "markdown",
      "metadata": {
        "id": "ZXNOLksU1v9M"
      },
      "source": [
        "### 6.7 Invert XTX."
      ],
      "id": "ZXNOLksU1v9M"
    },
    {
      "cell_type": "code",
      "metadata": {
        "colab": {
          "base_uri": "https://localhost:8080/"
        },
        "id": "ozTL-MrGxTEr",
        "outputId": "5b9eacfb-1edc-4678-a455-a7f054bfda7c"
      },
      "source": [
        "XTX_INV = np.linalg.inv(XTX)\n",
        "XTX_INV"
      ],
      "id": "ozTL-MrGxTEr",
      "execution_count": 29,
      "outputs": [
        {
          "output_type": "execute_result",
          "data": {
            "text/plain": [
              "array([[ 5.17815728e-05,  9.06587044e-04, -1.92984188e-03],\n",
              "       [ 9.06587044e-04,  1.05723058e-01, -8.87084092e-02],\n",
              "       [-1.92984188e-03, -8.87084092e-02,  1.05900809e-01]])"
            ]
          },
          "metadata": {},
          "execution_count": 29
        }
      ]
    },
    {
      "cell_type": "markdown",
      "metadata": {
        "id": "q3iZXG3I1zEi"
      },
      "source": [
        "### 6.8 Sum of elements of the inverse matrix"
      ],
      "id": "q3iZXG3I1zEi"
    },
    {
      "cell_type": "code",
      "metadata": {
        "colab": {
          "base_uri": "https://localhost:8080/"
        },
        "id": "Dov_rnngvWzV",
        "outputId": "f54a7a6d-2396-4deb-a8bf-7924835b292c"
      },
      "source": [
        "round(XTX_INV.sum(),4)"
      ],
      "id": "Dov_rnngvWzV",
      "execution_count": 30,
      "outputs": [
        {
          "output_type": "execute_result",
          "data": {
            "text/plain": [
              "0.0322"
            ]
          },
          "metadata": {},
          "execution_count": 30
        }
      ]
    },
    {
      "cell_type": "markdown",
      "metadata": {
        "id": "ze9gQztSSQb9"
      },
      "source": [
        "# Questions 7 \n",
        "## STEPS:\n",
        "1. Create an array y with values [1000, 1100, 900, 1200, 1000, 850, 1300].\n",
        "2. Multiply the inverse of XTX with the transpose of X, and then multiply the result by y. Call the result w.\n",
        "3. What's the value of the first element of w?.\n",
        "## Normal equation\n",
        "\n",
        "* \n",
        "\n"
      ],
      "id": "ze9gQztSSQb9"
    },
    {
      "cell_type": "markdown",
      "metadata": {
        "id": "UAEcc5_V3QbI"
      },
      "source": [
        "### 7.1 Create an array y with values [1000, 1100, 900, 1200, 1000, 850, 1300] "
      ],
      "id": "UAEcc5_V3QbI"
    },
    {
      "cell_type": "code",
      "metadata": {
        "id": "J7CHOl-bSpYD",
        "colab": {
          "base_uri": "https://localhost:8080/"
        },
        "outputId": "4d31f443-c11a-4642-f748-8bee1127c6de"
      },
      "source": [
        "y = np.array( [1000, 1100, 900, 1200, 1000, 850, 1300])\n",
        "y"
      ],
      "id": "J7CHOl-bSpYD",
      "execution_count": 31,
      "outputs": [
        {
          "output_type": "execute_result",
          "data": {
            "text/plain": [
              "array([1000, 1100,  900, 1200, 1000,  850, 1300])"
            ]
          },
          "metadata": {},
          "execution_count": 31
        }
      ]
    },
    {
      "cell_type": "code",
      "metadata": {
        "colab": {
          "base_uri": "https://localhost:8080/"
        },
        "id": "giVLrQ6IwAAo",
        "outputId": "f9028d76-362e-45f9-9080-0b5167f77ddc"
      },
      "source": [
        "XTX_INV.shape"
      ],
      "id": "giVLrQ6IwAAo",
      "execution_count": 32,
      "outputs": [
        {
          "output_type": "execute_result",
          "data": {
            "text/plain": [
              "(3, 3)"
            ]
          },
          "metadata": {},
          "execution_count": 32
        }
      ]
    },
    {
      "cell_type": "code",
      "metadata": {
        "colab": {
          "base_uri": "https://localhost:8080/"
        },
        "id": "8yVZRGYswCZP",
        "outputId": "5ab09468-d5db-4f76-e52f-6c2e503e9200"
      },
      "source": [
        "X.T.shape"
      ],
      "id": "8yVZRGYswCZP",
      "execution_count": 33,
      "outputs": [
        {
          "output_type": "execute_result",
          "data": {
            "text/plain": [
              "(3, 7)"
            ]
          },
          "metadata": {},
          "execution_count": 33
        }
      ]
    },
    {
      "cell_type": "code",
      "metadata": {
        "colab": {
          "base_uri": "https://localhost:8080/"
        },
        "id": "cRVD0nbRwHPS",
        "outputId": "39b15eae-14d9-492d-982f-096457fcec9d"
      },
      "source": [
        "X.shape"
      ],
      "id": "cRVD0nbRwHPS",
      "execution_count": 34,
      "outputs": [
        {
          "output_type": "execute_result",
          "data": {
            "text/plain": [
              "(7, 3)"
            ]
          },
          "metadata": {},
          "execution_count": 34
        }
      ]
    },
    {
      "cell_type": "code",
      "metadata": {
        "colab": {
          "base_uri": "https://localhost:8080/"
        },
        "id": "wc8-wDCqwIcC",
        "outputId": "c7705ef5-a6e1-47f5-b8c7-f377f3191595"
      },
      "source": [
        "y.shape"
      ],
      "id": "wc8-wDCqwIcC",
      "execution_count": 35,
      "outputs": [
        {
          "output_type": "execute_result",
          "data": {
            "text/plain": [
              "(7,)"
            ]
          },
          "metadata": {},
          "execution_count": 35
        }
      ]
    },
    {
      "cell_type": "markdown",
      "metadata": {
        "id": "h7bkNrG73XAT"
      },
      "source": [
        "### 7.2 Multiply the inverse of XTX with the transpose of X, and then multiply the result by y."
      ],
      "id": "h7bkNrG73XAT"
    },
    {
      "cell_type": "code",
      "metadata": {
        "colab": {
          "base_uri": "https://localhost:8080/"
        },
        "id": "3Ul5TyhbvuRN",
        "outputId": "c7851317-3b18-404e-a84c-fe8cc9b91b04"
      },
      "source": [
        "w = (XTX_INV @ X.T) @ y\n",
        "w"
      ],
      "id": "3Ul5TyhbvuRN",
      "execution_count": 36,
      "outputs": [
        {
          "output_type": "execute_result",
          "data": {
            "text/plain": [
              "array([ 0.19989598, 31.02612262, 31.65378877])"
            ]
          },
          "metadata": {},
          "execution_count": 36
        }
      ]
    },
    {
      "cell_type": "markdown",
      "metadata": {
        "id": "3gbuCg0h3ev0"
      },
      "source": [
        "### 7.3 What's the value of the first element of w?."
      ],
      "id": "3gbuCg0h3ev0"
    },
    {
      "cell_type": "code",
      "metadata": {
        "colab": {
          "base_uri": "https://localhost:8080/"
        },
        "id": "l2qMfd13v7UQ",
        "outputId": "a93556d3-34d6-4a00-ecb5-38f5eac91702"
      },
      "source": [
        "round(w[0], 4)"
      ],
      "id": "l2qMfd13v7UQ",
      "execution_count": 37,
      "outputs": [
        {
          "output_type": "execute_result",
          "data": {
            "text/plain": [
              "0.1999"
            ]
          },
          "metadata": {},
          "execution_count": 37
        }
      ]
    }
  ]
}