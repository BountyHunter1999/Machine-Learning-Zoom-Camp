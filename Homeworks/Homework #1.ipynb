{
  "nbformat": 4,
  "nbformat_minor": 5,
  "metadata": {
    "kernelspec": {
      "display_name": "Python 3",
      "language": "python",
      "name": "python3"
    },
    "language_info": {
      "codemirror_mode": {
        "name": "ipython",
        "version": 3
      },
      "file_extension": ".py",
      "mimetype": "text/x-python",
      "name": "python",
      "nbconvert_exporter": "python",
      "pygments_lexer": "ipython3",
      "version": "3.8.8"
    },
    "colab": {
      "name": "Homework #1.ipynb",
      "provenance": [],
      "include_colab_link": true
    }
  },
  "cells": [
    {
      "cell_type": "markdown",
      "metadata": {
        "id": "view-in-github",
        "colab_type": "text"
      },
      "source": [
        "<a href=\"https://colab.research.google.com/github/BountyHunter1999/Machine-Learning-Zoom-Camp/blob/main/Homeworks/Homework%20%231.ipynb\" target=\"_parent\"><img src=\"https://colab.research.google.com/assets/colab-badge.svg\" alt=\"Open In Colab\"/></a>"
      ]
    },
    {
      "cell_type": "markdown",
      "metadata": {
        "id": "RaXwOehP9Y2C"
      },
      "source": [
        "# Importing Modules"
      ],
      "id": "RaXwOehP9Y2C"
    },
    {
      "cell_type": "code",
      "metadata": {
        "id": "dAQ3QXwr8m_4"
      },
      "source": [
        "import numpy as np\n",
        "import pandas as pd"
      ],
      "id": "dAQ3QXwr8m_4",
      "execution_count": 1,
      "outputs": []
    },
    {
      "cell_type": "markdown",
      "metadata": {
        "id": "RHQBFfWuDQ5i"
      },
      "source": [
        "# Getting Required Data"
      ],
      "id": "RHQBFfWuDQ5i"
    },
    {
      "cell_type": "code",
      "metadata": {
        "id": "tYWqeTJtDQSL",
        "colab": {
          "base_uri": "https://localhost:8080/"
        },
        "outputId": "e7bbd9d6-db02-425a-8eaf-4b9736318528"
      },
      "source": [
        "!wget https://raw.githubusercontent.com/alexeygrigorev/mlbookcamp-code/master/chapter-02-car-price/data.csv"
      ],
      "id": "tYWqeTJtDQSL",
      "execution_count": 2,
      "outputs": [
        {
          "output_type": "stream",
          "name": "stdout",
          "text": [
            "--2021-09-09 08:43:00--  https://raw.githubusercontent.com/alexeygrigorev/mlbookcamp-code/master/chapter-02-car-price/data.csv\n",
            "Resolving raw.githubusercontent.com (raw.githubusercontent.com)... 185.199.108.133, 185.199.109.133, 185.199.110.133, ...\n",
            "Connecting to raw.githubusercontent.com (raw.githubusercontent.com)|185.199.108.133|:443... connected.\n",
            "HTTP request sent, awaiting response... 200 OK\n",
            "Length: 1475504 (1.4M) [text/plain]\n",
            "Saving to: ‘data.csv’\n",
            "\n",
            "data.csv            100%[===================>]   1.41M  --.-KB/s    in 0.02s   \n",
            "\n",
            "2021-09-09 08:43:00 (56.8 MB/s) - ‘data.csv’ saved [1475504/1475504]\n",
            "\n"
          ]
        }
      ]
    },
    {
      "cell_type": "markdown",
      "metadata": {
        "id": "8QLhTcHj9c8B"
      },
      "source": [
        "# Q1. Checking Numpy Version\n",
        "[useful](https://stackoverflow.com/questions/1520234/how-do-i-check-which-version-of-numpy-im-using)\n",
        "\n",
        "\n"
      ],
      "id": "8QLhTcHj9c8B"
    },
    {
      "cell_type": "code",
      "metadata": {
        "colab": {
          "base_uri": "https://localhost:8080/"
        },
        "id": "rental-windows",
        "outputId": "e47c1458-f633-44d5-d417-ca3f31e1a6a9"
      },
      "source": [
        "np.version"
      ],
      "id": "rental-windows",
      "execution_count": 3,
      "outputs": [
        {
          "output_type": "execute_result",
          "data": {
            "text/plain": [
              "<module 'numpy.version' from '/usr/local/lib/python3.7/dist-packages/numpy/version.py'>"
            ]
          },
          "metadata": {},
          "execution_count": 3
        }
      ]
    },
    {
      "cell_type": "code",
      "metadata": {
        "colab": {
          "base_uri": "https://localhost:8080/",
          "height": 35
        },
        "id": "ultimate-edmonton",
        "outputId": "1595eb96-c0e8-4d28-ba95-a4baf4f0f808"
      },
      "source": [
        "np.version.version"
      ],
      "id": "ultimate-edmonton",
      "execution_count": 4,
      "outputs": [
        {
          "output_type": "execute_result",
          "data": {
            "application/vnd.google.colaboratory.intrinsic+json": {
              "type": "string"
            },
            "text/plain": [
              "'1.19.5'"
            ]
          },
          "metadata": {},
          "execution_count": 4
        }
      ]
    },
    {
      "cell_type": "code",
      "metadata": {
        "colab": {
          "base_uri": "https://localhost:8080/",
          "height": 35
        },
        "id": "k2x3rlIh9W8q",
        "outputId": "9f438e77-9b4e-41c2-ebfb-276f082d1990"
      },
      "source": [
        "np.__version__"
      ],
      "id": "k2x3rlIh9W8q",
      "execution_count": 5,
      "outputs": [
        {
          "output_type": "execute_result",
          "data": {
            "application/vnd.google.colaboratory.intrinsic+json": {
              "type": "string"
            },
            "text/plain": [
              "'1.19.5'"
            ]
          },
          "metadata": {},
          "execution_count": 5
        }
      ]
    },
    {
      "cell_type": "markdown",
      "metadata": {
        "id": "gSm-W2RdBeya"
      },
      "source": [
        "# Q2. Checking Pandas Version"
      ],
      "id": "gSm-W2RdBeya"
    },
    {
      "cell_type": "code",
      "metadata": {
        "id": "onvHXyVZBR4W",
        "colab": {
          "base_uri": "https://localhost:8080/",
          "height": 35
        },
        "outputId": "dd3e01ab-8c9a-447d-8639-22724c14e1d8"
      },
      "source": [
        "pd.__version__"
      ],
      "id": "onvHXyVZBR4W",
      "execution_count": 6,
      "outputs": [
        {
          "output_type": "execute_result",
          "data": {
            "application/vnd.google.colaboratory.intrinsic+json": {
              "type": "string"
            },
            "text/plain": [
              "'1.1.5'"
            ]
          },
          "metadata": {},
          "execution_count": 6
        }
      ]
    },
    {
      "cell_type": "code",
      "metadata": {
        "id": "BQM5xpBJDpHb"
      },
      "source": [
        "df = pd.read_csv(\"data.csv\")"
      ],
      "id": "BQM5xpBJDpHb",
      "execution_count": 7,
      "outputs": []
    },
    {
      "cell_type": "code",
      "metadata": {
        "id": "TGL_Zj5YDq4S",
        "colab": {
          "base_uri": "https://localhost:8080/",
          "height": 408
        },
        "outputId": "34202c57-6865-4a89-ce50-29a14ee7d74d"
      },
      "source": [
        "df.head()"
      ],
      "id": "TGL_Zj5YDq4S",
      "execution_count": 8,
      "outputs": [
        {
          "output_type": "execute_result",
          "data": {
            "text/html": [
              "<div>\n",
              "<style scoped>\n",
              "    .dataframe tbody tr th:only-of-type {\n",
              "        vertical-align: middle;\n",
              "    }\n",
              "\n",
              "    .dataframe tbody tr th {\n",
              "        vertical-align: top;\n",
              "    }\n",
              "\n",
              "    .dataframe thead th {\n",
              "        text-align: right;\n",
              "    }\n",
              "</style>\n",
              "<table border=\"1\" class=\"dataframe\">\n",
              "  <thead>\n",
              "    <tr style=\"text-align: right;\">\n",
              "      <th></th>\n",
              "      <th>Make</th>\n",
              "      <th>Model</th>\n",
              "      <th>Year</th>\n",
              "      <th>Engine Fuel Type</th>\n",
              "      <th>Engine HP</th>\n",
              "      <th>Engine Cylinders</th>\n",
              "      <th>Transmission Type</th>\n",
              "      <th>Driven_Wheels</th>\n",
              "      <th>Number of Doors</th>\n",
              "      <th>Market Category</th>\n",
              "      <th>Vehicle Size</th>\n",
              "      <th>Vehicle Style</th>\n",
              "      <th>highway MPG</th>\n",
              "      <th>city mpg</th>\n",
              "      <th>Popularity</th>\n",
              "      <th>MSRP</th>\n",
              "    </tr>\n",
              "  </thead>\n",
              "  <tbody>\n",
              "    <tr>\n",
              "      <th>0</th>\n",
              "      <td>BMW</td>\n",
              "      <td>1 Series M</td>\n",
              "      <td>2011</td>\n",
              "      <td>premium unleaded (required)</td>\n",
              "      <td>335.0</td>\n",
              "      <td>6.0</td>\n",
              "      <td>MANUAL</td>\n",
              "      <td>rear wheel drive</td>\n",
              "      <td>2.0</td>\n",
              "      <td>Factory Tuner,Luxury,High-Performance</td>\n",
              "      <td>Compact</td>\n",
              "      <td>Coupe</td>\n",
              "      <td>26</td>\n",
              "      <td>19</td>\n",
              "      <td>3916</td>\n",
              "      <td>46135</td>\n",
              "    </tr>\n",
              "    <tr>\n",
              "      <th>1</th>\n",
              "      <td>BMW</td>\n",
              "      <td>1 Series</td>\n",
              "      <td>2011</td>\n",
              "      <td>premium unleaded (required)</td>\n",
              "      <td>300.0</td>\n",
              "      <td>6.0</td>\n",
              "      <td>MANUAL</td>\n",
              "      <td>rear wheel drive</td>\n",
              "      <td>2.0</td>\n",
              "      <td>Luxury,Performance</td>\n",
              "      <td>Compact</td>\n",
              "      <td>Convertible</td>\n",
              "      <td>28</td>\n",
              "      <td>19</td>\n",
              "      <td>3916</td>\n",
              "      <td>40650</td>\n",
              "    </tr>\n",
              "    <tr>\n",
              "      <th>2</th>\n",
              "      <td>BMW</td>\n",
              "      <td>1 Series</td>\n",
              "      <td>2011</td>\n",
              "      <td>premium unleaded (required)</td>\n",
              "      <td>300.0</td>\n",
              "      <td>6.0</td>\n",
              "      <td>MANUAL</td>\n",
              "      <td>rear wheel drive</td>\n",
              "      <td>2.0</td>\n",
              "      <td>Luxury,High-Performance</td>\n",
              "      <td>Compact</td>\n",
              "      <td>Coupe</td>\n",
              "      <td>28</td>\n",
              "      <td>20</td>\n",
              "      <td>3916</td>\n",
              "      <td>36350</td>\n",
              "    </tr>\n",
              "    <tr>\n",
              "      <th>3</th>\n",
              "      <td>BMW</td>\n",
              "      <td>1 Series</td>\n",
              "      <td>2011</td>\n",
              "      <td>premium unleaded (required)</td>\n",
              "      <td>230.0</td>\n",
              "      <td>6.0</td>\n",
              "      <td>MANUAL</td>\n",
              "      <td>rear wheel drive</td>\n",
              "      <td>2.0</td>\n",
              "      <td>Luxury,Performance</td>\n",
              "      <td>Compact</td>\n",
              "      <td>Coupe</td>\n",
              "      <td>28</td>\n",
              "      <td>18</td>\n",
              "      <td>3916</td>\n",
              "      <td>29450</td>\n",
              "    </tr>\n",
              "    <tr>\n",
              "      <th>4</th>\n",
              "      <td>BMW</td>\n",
              "      <td>1 Series</td>\n",
              "      <td>2011</td>\n",
              "      <td>premium unleaded (required)</td>\n",
              "      <td>230.0</td>\n",
              "      <td>6.0</td>\n",
              "      <td>MANUAL</td>\n",
              "      <td>rear wheel drive</td>\n",
              "      <td>2.0</td>\n",
              "      <td>Luxury</td>\n",
              "      <td>Compact</td>\n",
              "      <td>Convertible</td>\n",
              "      <td>28</td>\n",
              "      <td>18</td>\n",
              "      <td>3916</td>\n",
              "      <td>34500</td>\n",
              "    </tr>\n",
              "  </tbody>\n",
              "</table>\n",
              "</div>"
            ],
            "text/plain": [
              "  Make       Model  Year  ... city mpg  Popularity   MSRP\n",
              "0  BMW  1 Series M  2011  ...       19        3916  46135\n",
              "1  BMW    1 Series  2011  ...       19        3916  40650\n",
              "2  BMW    1 Series  2011  ...       20        3916  36350\n",
              "3  BMW    1 Series  2011  ...       18        3916  29450\n",
              "4  BMW    1 Series  2011  ...       18        3916  34500\n",
              "\n",
              "[5 rows x 16 columns]"
            ]
          },
          "metadata": {},
          "execution_count": 8
        }
      ]
    },
    {
      "cell_type": "code",
      "metadata": {
        "id": "xikdfb9EDxFx",
        "colab": {
          "base_uri": "https://localhost:8080/"
        },
        "outputId": "fae37985-a8df-403a-b3bc-e798bd2e8f00"
      },
      "source": [
        "df.columns"
      ],
      "id": "xikdfb9EDxFx",
      "execution_count": 9,
      "outputs": [
        {
          "output_type": "execute_result",
          "data": {
            "text/plain": [
              "Index(['Make', 'Model', 'Year', 'Engine Fuel Type', 'Engine HP',\n",
              "       'Engine Cylinders', 'Transmission Type', 'Driven_Wheels',\n",
              "       'Number of Doors', 'Market Category', 'Vehicle Size', 'Vehicle Style',\n",
              "       'highway MPG', 'city mpg', 'Popularity', 'MSRP'],\n",
              "      dtype='object')"
            ]
          },
          "metadata": {},
          "execution_count": 9
        }
      ]
    },
    {
      "cell_type": "code",
      "metadata": {
        "id": "gVJi0kubD4IR",
        "colab": {
          "base_uri": "https://localhost:8080/"
        },
        "outputId": "cee53b13-11b7-4ad2-b308-97e15a6785a6"
      },
      "source": [
        "df['Make'] == \"BMW\""
      ],
      "id": "gVJi0kubD4IR",
      "execution_count": 10,
      "outputs": [
        {
          "output_type": "execute_result",
          "data": {
            "text/plain": [
              "0         True\n",
              "1         True\n",
              "2         True\n",
              "3         True\n",
              "4         True\n",
              "         ...  \n",
              "11909    False\n",
              "11910    False\n",
              "11911    False\n",
              "11912    False\n",
              "11913    False\n",
              "Name: Make, Length: 11914, dtype: bool"
            ]
          },
          "metadata": {},
          "execution_count": 10
        }
      ]
    },
    {
      "cell_type": "code",
      "metadata": {
        "id": "e33gJbQjEYHh"
      },
      "source": [
        "bmw_data = df[df['Make'] == \"BMW\"]"
      ],
      "id": "e33gJbQjEYHh",
      "execution_count": 11,
      "outputs": []
    },
    {
      "cell_type": "code",
      "metadata": {
        "id": "vFVhe29_Ea5B",
        "colab": {
          "base_uri": "https://localhost:8080/",
          "height": 297
        },
        "outputId": "f28ca6e1-3a8b-47d8-f7f9-514ec1590e04"
      },
      "source": [
        "bmw_data.describe()"
      ],
      "id": "vFVhe29_Ea5B",
      "execution_count": 12,
      "outputs": [
        {
          "output_type": "execute_result",
          "data": {
            "text/html": [
              "<div>\n",
              "<style scoped>\n",
              "    .dataframe tbody tr th:only-of-type {\n",
              "        vertical-align: middle;\n",
              "    }\n",
              "\n",
              "    .dataframe tbody tr th {\n",
              "        vertical-align: top;\n",
              "    }\n",
              "\n",
              "    .dataframe thead th {\n",
              "        text-align: right;\n",
              "    }\n",
              "</style>\n",
              "<table border=\"1\" class=\"dataframe\">\n",
              "  <thead>\n",
              "    <tr style=\"text-align: right;\">\n",
              "      <th></th>\n",
              "      <th>Year</th>\n",
              "      <th>Engine HP</th>\n",
              "      <th>Engine Cylinders</th>\n",
              "      <th>Number of Doors</th>\n",
              "      <th>highway MPG</th>\n",
              "      <th>city mpg</th>\n",
              "      <th>Popularity</th>\n",
              "      <th>MSRP</th>\n",
              "    </tr>\n",
              "  </thead>\n",
              "  <tbody>\n",
              "    <tr>\n",
              "      <th>count</th>\n",
              "      <td>334.000000</td>\n",
              "      <td>334.000000</td>\n",
              "      <td>334.000000</td>\n",
              "      <td>334.000000</td>\n",
              "      <td>334.000000</td>\n",
              "      <td>334.000000</td>\n",
              "      <td>334.0</td>\n",
              "      <td>334.000000</td>\n",
              "    </tr>\n",
              "    <tr>\n",
              "      <th>mean</th>\n",
              "      <td>2014.347305</td>\n",
              "      <td>326.907186</td>\n",
              "      <td>5.958084</td>\n",
              "      <td>3.161677</td>\n",
              "      <td>29.245509</td>\n",
              "      <td>20.739521</td>\n",
              "      <td>3916.0</td>\n",
              "      <td>61546.763473</td>\n",
              "    </tr>\n",
              "    <tr>\n",
              "      <th>std</th>\n",
              "      <td>4.387983</td>\n",
              "      <td>105.681659</td>\n",
              "      <td>1.728939</td>\n",
              "      <td>0.988324</td>\n",
              "      <td>10.257037</td>\n",
              "      <td>13.136879</td>\n",
              "      <td>0.0</td>\n",
              "      <td>27982.682153</td>\n",
              "    </tr>\n",
              "    <tr>\n",
              "      <th>min</th>\n",
              "      <td>1995.000000</td>\n",
              "      <td>170.000000</td>\n",
              "      <td>0.000000</td>\n",
              "      <td>2.000000</td>\n",
              "      <td>18.000000</td>\n",
              "      <td>10.000000</td>\n",
              "      <td>3916.0</td>\n",
              "      <td>4697.000000</td>\n",
              "    </tr>\n",
              "    <tr>\n",
              "      <th>25%</th>\n",
              "      <td>2015.000000</td>\n",
              "      <td>240.000000</td>\n",
              "      <td>4.000000</td>\n",
              "      <td>2.000000</td>\n",
              "      <td>25.000000</td>\n",
              "      <td>17.000000</td>\n",
              "      <td>3916.0</td>\n",
              "      <td>42300.000000</td>\n",
              "    </tr>\n",
              "    <tr>\n",
              "      <th>50%</th>\n",
              "      <td>2016.000000</td>\n",
              "      <td>300.000000</td>\n",
              "      <td>6.000000</td>\n",
              "      <td>4.000000</td>\n",
              "      <td>28.000000</td>\n",
              "      <td>20.000000</td>\n",
              "      <td>3916.0</td>\n",
              "      <td>51850.000000</td>\n",
              "    </tr>\n",
              "    <tr>\n",
              "      <th>75%</th>\n",
              "      <td>2016.000000</td>\n",
              "      <td>394.000000</td>\n",
              "      <td>7.500000</td>\n",
              "      <td>4.000000</td>\n",
              "      <td>33.000000</td>\n",
              "      <td>22.000000</td>\n",
              "      <td>3916.0</td>\n",
              "      <td>79725.000000</td>\n",
              "    </tr>\n",
              "    <tr>\n",
              "      <th>max</th>\n",
              "      <td>2017.000000</td>\n",
              "      <td>600.000000</td>\n",
              "      <td>12.000000</td>\n",
              "      <td>4.000000</td>\n",
              "      <td>111.000000</td>\n",
              "      <td>137.000000</td>\n",
              "      <td>3916.0</td>\n",
              "      <td>141200.000000</td>\n",
              "    </tr>\n",
              "  </tbody>\n",
              "</table>\n",
              "</div>"
            ],
            "text/plain": [
              "              Year   Engine HP  ...  Popularity           MSRP\n",
              "count   334.000000  334.000000  ...       334.0     334.000000\n",
              "mean   2014.347305  326.907186  ...      3916.0   61546.763473\n",
              "std       4.387983  105.681659  ...         0.0   27982.682153\n",
              "min    1995.000000  170.000000  ...      3916.0    4697.000000\n",
              "25%    2015.000000  240.000000  ...      3916.0   42300.000000\n",
              "50%    2016.000000  300.000000  ...      3916.0   51850.000000\n",
              "75%    2016.000000  394.000000  ...      3916.0   79725.000000\n",
              "max    2017.000000  600.000000  ...      3916.0  141200.000000\n",
              "\n",
              "[8 rows x 8 columns]"
            ]
          },
          "metadata": {},
          "execution_count": 12
        }
      ]
    },
    {
      "cell_type": "markdown",
      "metadata": {
        "id": "w_GY1YEBQ9IV"
      },
      "source": [
        "# Question 3\n",
        "\n",
        "## What's the average price of BMW cars in the dataset?\n",
        "* 61546.763473\n",
        "\n",
        "\n"
      ],
      "id": "w_GY1YEBQ9IV"
    },
    {
      "cell_type": "code",
      "metadata": {
        "id": "ffPgqCJfEhAZ",
        "colab": {
          "base_uri": "https://localhost:8080/"
        },
        "outputId": "c39e0f88-4014-48fd-fb5d-f8c19b9fc45b"
      },
      "source": [
        "round(bmw_data.MSRP.mean(),2)"
      ],
      "id": "ffPgqCJfEhAZ",
      "execution_count": 73,
      "outputs": [
        {
          "output_type": "execute_result",
          "data": {
            "text/plain": [
              "61546.76"
            ]
          },
          "metadata": {},
          "execution_count": 73
        }
      ]
    },
    {
      "cell_type": "markdown",
      "metadata": {
        "id": "2NwShpn3Rcud"
      },
      "source": [
        "# Question 4 \n",
        "## Number of missing values in \"Engine HP\" after 2015\n",
        "\n",
        "*   51\n",
        "\n"
      ],
      "id": "2NwShpn3Rcud"
    },
    {
      "cell_type": "code",
      "metadata": {
        "id": "Ljcpxd1PRcdd",
        "colab": {
          "base_uri": "https://localhost:8080/"
        },
        "outputId": "2dbb336f-6d2b-4307-f148-db8dd3984f71"
      },
      "source": [
        "df[\"Engine HP\"].isnull().sum()"
      ],
      "id": "Ljcpxd1PRcdd",
      "execution_count": 15,
      "outputs": [
        {
          "output_type": "execute_result",
          "data": {
            "text/plain": [
              "69"
            ]
          },
          "metadata": {},
          "execution_count": 15
        }
      ]
    },
    {
      "cell_type": "code",
      "metadata": {
        "id": "HBUv7IRRVZWk"
      },
      "source": [
        "af_2015 = df[df[\"Year\"] >= 2015]"
      ],
      "id": "HBUv7IRRVZWk",
      "execution_count": 16,
      "outputs": []
    },
    {
      "cell_type": "code",
      "metadata": {
        "id": "nsD3_vtWV9Vm",
        "colab": {
          "base_uri": "https://localhost:8080/"
        },
        "outputId": "98f5e8f1-5ba8-4991-c5f9-57e86ea6fafa"
      },
      "source": [
        "af_2015[\"Engine HP\"].isnull().sum()"
      ],
      "id": "nsD3_vtWV9Vm",
      "execution_count": 17,
      "outputs": [
        {
          "output_type": "execute_result",
          "data": {
            "text/plain": [
              "51"
            ]
          },
          "metadata": {},
          "execution_count": 17
        }
      ]
    },
    {
      "cell_type": "markdown",
      "metadata": {
        "id": "r9i1nyytSE4G"
      },
      "source": [
        "# Question 5 \n",
        "## Does the mean change after filling missing values?\n",
        "\n",
        "*   NO\n",
        "\n"
      ],
      "id": "r9i1nyytSE4G"
    },
    {
      "cell_type": "code",
      "metadata": {
        "id": "SS3bW7n8XTnM"
      },
      "source": [
        "af_2015_eng_hp =  af_2015[\"Engine HP\"]"
      ],
      "id": "SS3bW7n8XTnM",
      "execution_count": 18,
      "outputs": []
    },
    {
      "cell_type": "code",
      "metadata": {
        "id": "e35KVpdaX0Ws",
        "colab": {
          "base_uri": "https://localhost:8080/"
        },
        "outputId": "509d29f7-edda-4ee8-b03d-312a0aeac665"
      },
      "source": [
        "af_2015_eng_hp.isnull().sum()"
      ],
      "id": "e35KVpdaX0Ws",
      "execution_count": 19,
      "outputs": [
        {
          "output_type": "execute_result",
          "data": {
            "text/plain": [
              "51"
            ]
          },
          "metadata": {},
          "execution_count": 19
        }
      ]
    },
    {
      "cell_type": "code",
      "metadata": {
        "id": "tkCk6evEYw48",
        "colab": {
          "base_uri": "https://localhost:8080/"
        },
        "outputId": "f6b9ce3e-2dfe-4bf7-9597-e5d5c348d05c"
      },
      "source": [
        "mean_before = round(af_2015_eng_hp.mean())\n",
        "mean_before"
      ],
      "id": "tkCk6evEYw48",
      "execution_count": 20,
      "outputs": [
        {
          "output_type": "execute_result",
          "data": {
            "text/plain": [
              "273"
            ]
          },
          "metadata": {},
          "execution_count": 20
        }
      ]
    },
    {
      "cell_type": "code",
      "metadata": {
        "id": "-QzEzhQKSKk5"
      },
      "source": [
        "af_2015_eng_hp = af_2015_eng_hp.fillna(mean_before)"
      ],
      "id": "-QzEzhQKSKk5",
      "execution_count": 21,
      "outputs": []
    },
    {
      "cell_type": "code",
      "metadata": {
        "id": "VhjjaJ4oZCoI",
        "colab": {
          "base_uri": "https://localhost:8080/"
        },
        "outputId": "25a2c26d-9fb7-436e-8372-a19da63ee962"
      },
      "source": [
        "mean_after = round(af_2015_eng_hp.mean())\n",
        "mean_after"
      ],
      "id": "VhjjaJ4oZCoI",
      "execution_count": 22,
      "outputs": [
        {
          "output_type": "execute_result",
          "data": {
            "text/plain": [
              "273"
            ]
          },
          "metadata": {},
          "execution_count": 22
        }
      ]
    },
    {
      "cell_type": "markdown",
      "metadata": {
        "id": "Nl3M4Ez4SK80"
      },
      "source": [
        "# Question 6\n",
        "\n",
        "## Steps:\n",
        "1.   Select all the \"Rolls-Royce\" cars from the dataset.\n",
        "2.   List item\n",
        "3.   Select only columns \"Engine HP\", \"Engine Cylinders\", \"highway MPG\".\n",
        "4.   Now drop all duplicated rows using drop_duplicates method (you should get a dataframe with 7 rows).\n",
        "5.   Get the underlying NumPy array. Let's call it X.\n",
        "6.   Compute matrix-matrix multiplication between the transpose of X and X. To get the transpose, use X.T. Let's call the result XTX.\n",
        "7. Invert XTX.\n",
        "8. Now drop all duplicated rows using drop_duplicates method (you should get a dataframe with 7 rows).\n",
        "\n",
        "## Sum of elements of the inverse matrix\n",
        "\n",
        "*  0.0322"
      ],
      "id": "Nl3M4Ez4SK80"
    },
    {
      "cell_type": "code",
      "metadata": {
        "id": "AouVn1N0aK3g",
        "colab": {
          "base_uri": "https://localhost:8080/"
        },
        "outputId": "34f9c459-c72f-41b4-ad91-5e34d28b7121"
      },
      "source": [
        "rolls_royce = df[df[\"Make\"] == \"Rolls-Royce\"]\n",
        "len(rolls_royce)"
      ],
      "id": "AouVn1N0aK3g",
      "execution_count": 23,
      "outputs": [
        {
          "output_type": "execute_result",
          "data": {
            "text/plain": [
              "31"
            ]
          },
          "metadata": {},
          "execution_count": 23
        }
      ]
    },
    {
      "cell_type": "code",
      "metadata": {
        "id": "wS4YlVUqSQEm"
      },
      "source": [
        "rolls_royce_3c = rolls_royce[[ \"Engine HP\", \"Engine Cylinders\", \"highway MPG\"]]"
      ],
      "id": "wS4YlVUqSQEm",
      "execution_count": 24,
      "outputs": []
    },
    {
      "cell_type": "code",
      "metadata": {
        "id": "gWIdlNqdahSB",
        "colab": {
          "base_uri": "https://localhost:8080/"
        },
        "outputId": "9d603c5c-7b92-41a6-b38c-5a37e24fe550"
      },
      "source": [
        "unique_rr3c = rolls_royce_3c.drop_duplicates()\n",
        "len(unique_rr3c)"
      ],
      "id": "gWIdlNqdahSB",
      "execution_count": 50,
      "outputs": [
        {
          "output_type": "execute_result",
          "data": {
            "text/plain": [
              "7"
            ]
          },
          "metadata": {},
          "execution_count": 50
        }
      ]
    },
    {
      "cell_type": "code",
      "metadata": {
        "id": "ScjplXlSb2Vq",
        "colab": {
          "base_uri": "https://localhost:8080/"
        },
        "outputId": "f603c83b-bf07-4d3a-b0cd-1c33874b9020"
      },
      "source": [
        "X = pd.DataFrame.to_numpy(unique_rr3c)\n",
        "X.shape"
      ],
      "id": "ScjplXlSb2Vq",
      "execution_count": 51,
      "outputs": [
        {
          "output_type": "execute_result",
          "data": {
            "text/plain": [
              "(7, 3)"
            ]
          },
          "metadata": {},
          "execution_count": 51
        }
      ]
    },
    {
      "cell_type": "code",
      "metadata": {
        "id": "GvK9I7xLwirZ",
        "outputId": "d445ba04-7519-4e15-a5d4-fd6bcd5be0c1",
        "colab": {
          "base_uri": "https://localhost:8080/"
        }
      },
      "source": [
        "type(X)"
      ],
      "id": "GvK9I7xLwirZ",
      "execution_count": 52,
      "outputs": [
        {
          "output_type": "execute_result",
          "data": {
            "text/plain": [
              "numpy.ndarray"
            ]
          },
          "metadata": {},
          "execution_count": 52
        }
      ]
    },
    {
      "cell_type": "code",
      "metadata": {
        "id": "qHvnWsu6b5dC",
        "colab": {
          "base_uri": "https://localhost:8080/"
        },
        "outputId": "081841f4-3b54-4b89-8a0a-1a89d1e63b63"
      },
      "source": [
        "XTX = X.T.dot(X)\n",
        "XTX"
      ],
      "id": "qHvnWsu6b5dC",
      "execution_count": 60,
      "outputs": [
        {
          "output_type": "execute_result",
          "data": {
            "text/plain": [
              "array([[1.754801e+06, 3.965600e+04, 6.519600e+04],\n",
              "       [3.965600e+04, 9.280000e+02, 1.500000e+03],\n",
              "       [6.519600e+04, 1.500000e+03, 2.454000e+03]])"
            ]
          },
          "metadata": {},
          "execution_count": 60
        }
      ]
    },
    {
      "cell_type": "code",
      "metadata": {
        "id": "ozTL-MrGxTEr",
        "outputId": "7d1386b4-535a-483f-b260-dd4db2220d91",
        "colab": {
          "base_uri": "https://localhost:8080/"
        }
      },
      "source": [
        "XTX_INV = np.linalg.inv(XTX)\n",
        "XTX_INV"
      ],
      "id": "ozTL-MrGxTEr",
      "execution_count": 61,
      "outputs": [
        {
          "output_type": "execute_result",
          "data": {
            "text/plain": [
              "array([[ 5.17815728e-05,  9.06587044e-04, -1.92984188e-03],\n",
              "       [ 9.06587044e-04,  1.05723058e-01, -8.87084092e-02],\n",
              "       [-1.92984188e-03, -8.87084092e-02,  1.05900809e-01]])"
            ]
          },
          "metadata": {},
          "execution_count": 61
        }
      ]
    },
    {
      "cell_type": "code",
      "metadata": {
        "id": "Dov_rnngvWzV",
        "outputId": "3579d17f-87dc-407d-bb92-d7e2e8130097",
        "colab": {
          "base_uri": "https://localhost:8080/"
        }
      },
      "source": [
        "round(XTX_INV.sum(),4)"
      ],
      "id": "Dov_rnngvWzV",
      "execution_count": 74,
      "outputs": [
        {
          "output_type": "execute_result",
          "data": {
            "text/plain": [
              "0.0322"
            ]
          },
          "metadata": {},
          "execution_count": 74
        }
      ]
    },
    {
      "cell_type": "markdown",
      "metadata": {
        "id": "ze9gQztSSQb9"
      },
      "source": [
        "# Questions 7 \n",
        "## STEPS:\n",
        "1. Create an array y with values [1000, 1100, 900, 1200, 1000, 850, 1300].\n",
        "2. Multiply the inverse of XTX with the transpose of X, and then multiply the result by y. Call the result w.\n",
        "3. What's the value of the first element of w?.\n",
        "## Normal equation\n",
        "\n",
        "* \n",
        "\n"
      ],
      "id": "ze9gQztSSQb9"
    },
    {
      "cell_type": "code",
      "metadata": {
        "id": "J7CHOl-bSpYD",
        "outputId": "3d1a9b8a-5be6-482a-cd87-2113415d048a",
        "colab": {
          "base_uri": "https://localhost:8080/"
        }
      },
      "source": [
        "y = np.array( [1000, 1100, 900, 1200, 1000, 850, 1300])\n",
        "y"
      ],
      "id": "J7CHOl-bSpYD",
      "execution_count": 66,
      "outputs": [
        {
          "output_type": "execute_result",
          "data": {
            "text/plain": [
              "array([1000, 1100,  900, 1200, 1000,  850, 1300])"
            ]
          },
          "metadata": {},
          "execution_count": 66
        }
      ]
    },
    {
      "cell_type": "code",
      "metadata": {
        "id": "giVLrQ6IwAAo",
        "outputId": "29eb4d39-b7f1-43d4-e1a9-3cfbef23d518",
        "colab": {
          "base_uri": "https://localhost:8080/"
        }
      },
      "source": [
        "XTX_INV.shape"
      ],
      "id": "giVLrQ6IwAAo",
      "execution_count": 67,
      "outputs": [
        {
          "output_type": "execute_result",
          "data": {
            "text/plain": [
              "(3, 3)"
            ]
          },
          "metadata": {},
          "execution_count": 67
        }
      ]
    },
    {
      "cell_type": "code",
      "metadata": {
        "id": "8yVZRGYswCZP",
        "outputId": "900d777f-361f-4e88-df96-d1780c11b4d5",
        "colab": {
          "base_uri": "https://localhost:8080/"
        }
      },
      "source": [
        "X.T.shape"
      ],
      "id": "8yVZRGYswCZP",
      "execution_count": 68,
      "outputs": [
        {
          "output_type": "execute_result",
          "data": {
            "text/plain": [
              "(3, 7)"
            ]
          },
          "metadata": {},
          "execution_count": 68
        }
      ]
    },
    {
      "cell_type": "code",
      "metadata": {
        "id": "cRVD0nbRwHPS",
        "outputId": "662a9b9f-48a1-4e20-cc96-664cbfdd0cc8",
        "colab": {
          "base_uri": "https://localhost:8080/"
        }
      },
      "source": [
        "X.shape"
      ],
      "id": "cRVD0nbRwHPS",
      "execution_count": 69,
      "outputs": [
        {
          "output_type": "execute_result",
          "data": {
            "text/plain": [
              "(7, 3)"
            ]
          },
          "metadata": {},
          "execution_count": 69
        }
      ]
    },
    {
      "cell_type": "code",
      "metadata": {
        "id": "wc8-wDCqwIcC",
        "outputId": "83c60be3-1ee4-4a2d-8908-2d4fdfd4bade",
        "colab": {
          "base_uri": "https://localhost:8080/"
        }
      },
      "source": [
        "y.shape"
      ],
      "id": "wc8-wDCqwIcC",
      "execution_count": 70,
      "outputs": [
        {
          "output_type": "execute_result",
          "data": {
            "text/plain": [
              "(7,)"
            ]
          },
          "metadata": {},
          "execution_count": 70
        }
      ]
    },
    {
      "cell_type": "code",
      "metadata": {
        "id": "3Ul5TyhbvuRN",
        "outputId": "56dcb94e-824e-4234-a6b3-3e5bc8a37a71",
        "colab": {
          "base_uri": "https://localhost:8080/"
        }
      },
      "source": [
        "w = (XTX_INV @ X.T) @ y\n",
        "w"
      ],
      "id": "3Ul5TyhbvuRN",
      "execution_count": 72,
      "outputs": [
        {
          "output_type": "execute_result",
          "data": {
            "text/plain": [
              "array([ 0.19989598, 31.02612262, 31.65378877])"
            ]
          },
          "metadata": {},
          "execution_count": 72
        }
      ]
    },
    {
      "cell_type": "code",
      "metadata": {
        "id": "l2qMfd13v7UQ",
        "outputId": "7e3aa960-0b70-42b3-b05b-dbda3f4db2b5",
        "colab": {
          "base_uri": "https://localhost:8080/"
        }
      },
      "source": [
        "round(w[0], 4)"
      ],
      "id": "l2qMfd13v7UQ",
      "execution_count": 75,
      "outputs": [
        {
          "output_type": "execute_result",
          "data": {
            "text/plain": [
              "0.1999"
            ]
          },
          "metadata": {},
          "execution_count": 75
        }
      ]
    },
    {
      "cell_type": "code",
      "metadata": {
        "id": "0FE7TCJHyZNi"
      },
      "source": [
        ""
      ],
      "id": "0FE7TCJHyZNi",
      "execution_count": null,
      "outputs": []
    }
  ]
}